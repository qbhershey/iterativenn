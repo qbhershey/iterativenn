{
 "cells": [
  {
   "attachments": {},
   "cell_type": "markdown",
   "metadata": {},
   "source": [
    "# Load libraries"
   ]
  },
  {
   "cell_type": "code",
   "execution_count": 2,
   "metadata": {},
   "outputs": [],
   "source": [
    "from sympy import *\n",
    "from IPython.display import display\n",
    "a, b, c, d, x, y_true, h, e = symbols('a b c d x y_true h \\epsilon')\n",
    "w = Function('w')\n",
    "s = Function('s')"
   ]
  },
  {
   "attachments": {},
   "cell_type": "markdown",
   "metadata": {},
   "source": [
    "# Setting up problem"
   ]
  },
  {
   "attachments": {},
   "cell_type": "markdown",
   "metadata": {},
   "source": [
    "We begin by setting up the parameter matrix.   This is meant to be a simple example, so we will set up the parameters as scalars.\n",
    "\n",
    "Note, there is no $w$ here, since that will be added later in the iterate function.   We want to think of $w$ as a general nonlinear function of the state variables, so we will not include it in the parameter matrix.\n"
   ]
  },
  {
   "cell_type": "code",
   "execution_count": 3,
   "metadata": {},
   "outputs": [
    {
     "data": {
      "text/latex": [
       "$\\displaystyle \\left[\\begin{matrix}1 & 0 & 0\\\\0 & 0 & a\\\\b & c & d\\end{matrix}\\right]$"
      ],
      "text/plain": [
       "Matrix([\n",
       "[1, 0, 0],\n",
       "[0, 0, a],\n",
       "[b, c, d]])"
      ]
     },
     "execution_count": 3,
     "metadata": {},
     "output_type": "execute_result"
    }
   ],
   "source": [
    "A = Matrix([[1, 0, 0], \n",
    "            [0, 0, a],\n",
    "            [b, c, d],\n",
    "            ])\n",
    "A"
   ]
  },
  {
   "cell_type": "code",
   "execution_count": 14,
   "metadata": {},
   "outputs": [
    {
     "data": {
      "text/latex": [
       "$\\displaystyle \\left[\\begin{matrix}1 & 0 & 0\\\\w{\\left(x \\right)} & 0 & a\\\\b & c & d\\end{matrix}\\right]$"
      ],
      "text/plain": [
       "Matrix([\n",
       "[   1, 0, 0],\n",
       "[w(x), 0, a],\n",
       "[   b, c, d]])"
      ]
     },
     "execution_count": 14,
     "metadata": {},
     "output_type": "execute_result"
    }
   ],
   "source": [
    "Matrix([[1, 0, 0], \n",
    "        [w(x), 0, a],\n",
    "        [b, c, d],\n",
    "        ])"
   ]
  },
  {
   "attachments": {},
   "cell_type": "markdown",
   "metadata": {},
   "source": [
    "This is the input data, initialized with $x$, but we don't know $y$ so we set it to zero.   We keep $h$ since perhaps we want to initialize that in some interesting way."
   ]
  },
  {
   "cell_type": "code",
   "execution_count": 4,
   "metadata": {},
   "outputs": [],
   "source": [
    "z = Matrix([[x], \n",
    "            [0], \n",
    "            [h]])"
   ]
  },
  {
   "attachments": {},
   "cell_type": "markdown",
   "metadata": {},
   "source": [
    "Ok, this is function includes all the bits, including the matrix of parameters, the nonlinear $w$ function, and the non-linear activation function on just the $h$ part."
   ]
  },
  {
   "cell_type": "code",
   "execution_count": 5,
   "metadata": {},
   "outputs": [],
   "source": [
    "def iterate(z):\n",
    "    # The linear part of the model\n",
    "    z_hat = A @ z\n",
    "    # We allow w(x) to be an arbitrary function of x\n",
    "    z_hat[1] = z_hat[1] + w(x)\n",
    "    # A nonlinear activation function\n",
    "    z_hat[2] = s(z_hat[2])\n",
    "    return z_hat"
   ]
  },
  {
   "attachments": {},
   "cell_type": "markdown",
   "metadata": {},
   "source": [
    "We can iterate the map as much as we like, but $3$ will suffice for our current purposes."
   ]
  },
  {
   "cell_type": "code",
   "execution_count": 6,
   "metadata": {},
   "outputs": [
    {
     "data": {
      "text/latex": [
       "$\\displaystyle \\left[\\begin{matrix}x\\\\a h + w{\\left(x \\right)}\\\\s{\\left(b x + d h \\right)}\\end{matrix}\\right]$"
      ],
      "text/plain": [
       "Matrix([\n",
       "[           x],\n",
       "[  a*h + w(x)],\n",
       "[s(b*x + d*h)]])"
      ]
     },
     "execution_count": 6,
     "metadata": {},
     "output_type": "execute_result"
    }
   ],
   "source": [
    "iterate(z)"
   ]
  },
  {
   "cell_type": "code",
   "execution_count": 7,
   "metadata": {},
   "outputs": [
    {
     "data": {
      "text/latex": [
       "$\\displaystyle \\left[\\begin{matrix}x\\\\a s{\\left(b x + c \\left(a h + w{\\left(x \\right)}\\right) + d s{\\left(b x + d h \\right)} \\right)} + w{\\left(x \\right)}\\\\s{\\left(b x + c \\left(a s{\\left(b x + d h \\right)} + w{\\left(x \\right)}\\right) + d s{\\left(b x + c \\left(a h + w{\\left(x \\right)}\\right) + d s{\\left(b x + d h \\right)} \\right)} \\right)}\\end{matrix}\\right]$"
      ],
      "text/plain": [
       "Matrix([\n",
       "[                                                                              x],\n",
       "[                              a*s(b*x + c*(a*h + w(x)) + d*s(b*x + d*h)) + w(x)],\n",
       "[s(b*x + c*(a*s(b*x + d*h) + w(x)) + d*s(b*x + c*(a*h + w(x)) + d*s(b*x + d*h)))]])"
      ]
     },
     "execution_count": 7,
     "metadata": {},
     "output_type": "execute_result"
    }
   ],
   "source": [
    "z_hat = iterate(iterate(iterate(z)))\n",
    "z_hat"
   ]
  },
  {
   "attachments": {},
   "cell_type": "markdown",
   "metadata": {},
   "source": [
    "# Compute the loss function"
   ]
  },
  {
   "attachments": {},
   "cell_type": "markdown",
   "metadata": {},
   "source": [
    "The loss only depends on $y$."
   ]
  },
  {
   "cell_type": "code",
   "execution_count": 8,
   "metadata": {},
   "outputs": [
    {
     "data": {
      "text/latex": [
       "$\\displaystyle a s{\\left(b x + c \\left(a h + w{\\left(x \\right)}\\right) + d s{\\left(b x + d h \\right)} \\right)} + w{\\left(x \\right)}$"
      ],
      "text/plain": [
       "a*s(b*x + c*(a*h + w(x)) + d*s(b*x + d*h)) + w(x)"
      ]
     },
     "execution_count": 8,
     "metadata": {},
     "output_type": "execute_result"
    }
   ],
   "source": [
    "y_hat = z_hat[1]\n",
    "y_hat"
   ]
  },
  {
   "attachments": {},
   "cell_type": "markdown",
   "metadata": {},
   "source": [
    "We do squared loss"
   ]
  },
  {
   "cell_type": "code",
   "execution_count": 9,
   "metadata": {},
   "outputs": [
    {
     "data": {
      "text/latex": [
       "$\\displaystyle \\left(- a s{\\left(b x + c \\left(a h + w{\\left(x \\right)}\\right) + d s{\\left(b x + d h \\right)} \\right)} + y_{true} - w{\\left(x \\right)}\\right)^{2}$"
      ],
      "text/plain": [
       "(-a*s(b*x + c*(a*h + w(x)) + d*s(b*x + d*h)) + y_true - w(x))**2"
      ]
     },
     "execution_count": 9,
     "metadata": {},
     "output_type": "execute_result"
    }
   ],
   "source": [
    "loss = (y_true - y_hat)**2\n",
    "loss"
   ]
  },
  {
   "attachments": {},
   "cell_type": "markdown",
   "metadata": {},
   "source": [
    "Ok,now things get interesting, as long as we start at $a=0$ we do not increase the loss!  This is what we want, and nice to confirm here."
   ]
  },
  {
   "cell_type": "code",
   "execution_count": 10,
   "metadata": {},
   "outputs": [
    {
     "data": {
      "text/latex": [
       "$\\displaystyle \\left(y_{true} - w{\\left(x \\right)}\\right)^{2}$"
      ],
      "text/plain": [
       "(y_true - w(x))**2"
      ]
     },
     "execution_count": 10,
     "metadata": {},
     "output_type": "execute_result"
    }
   ],
   "source": [
    "loss.subs({a: 0, b: e, c: e, d: e})"
   ]
  },
  {
   "attachments": {},
   "cell_type": "markdown",
   "metadata": {},
   "source": [
    "We now look at the gradient of the loss function with respect to the parameters.  If we set $b,c,d$ to zero, and have that $s(0)=$ we have a $$0$ gradient, which we don't want!"
   ]
  },
  {
   "cell_type": "code",
   "execution_count": 11,
   "metadata": {},
   "outputs": [
    {
     "name": "stdout",
     "output_type": "stream",
     "text": [
      "loss\n"
     ]
    },
    {
     "data": {
      "text/latex": [
       "$\\displaystyle \\left(y_{true} - w{\\left(x \\right)}\\right)^{2}$"
      ],
      "text/plain": [
       "(y_true - w(x))**2"
      ]
     },
     "metadata": {},
     "output_type": "display_data"
    },
    {
     "name": "stdout",
     "output_type": "stream",
     "text": [
      "gradients\n"
     ]
    },
    {
     "data": {
      "text/latex": [
       "$\\displaystyle - 2 \\left(y_{true} - w{\\left(x \\right)}\\right) s{\\left(0 \\right)}$"
      ],
      "text/plain": [
       "-2*(y_true - w(x))*s(0)"
      ]
     },
     "metadata": {},
     "output_type": "display_data"
    },
    {
     "data": {
      "text/latex": [
       "$\\displaystyle 0$"
      ],
      "text/plain": [
       "0"
      ]
     },
     "metadata": {},
     "output_type": "display_data"
    },
    {
     "data": {
      "text/latex": [
       "$\\displaystyle 0$"
      ],
      "text/plain": [
       "0"
      ]
     },
     "metadata": {},
     "output_type": "display_data"
    },
    {
     "data": {
      "text/latex": [
       "$\\displaystyle 0$"
      ],
      "text/plain": [
       "0"
      ]
     },
     "metadata": {},
     "output_type": "display_data"
    }
   ],
   "source": [
    "init = 0\n",
    "print('loss')\n",
    "display(loss.subs({a: 0, b: init, c: init, d: init}))\n",
    "print('gradients')\n",
    "display(diff(loss, a).subs({a: 0, b: init, c: init, d: init}))\n",
    "display(diff(loss, b).subs({a: 0, b: init, c: init, d: init}))\n",
    "display(diff(loss, c).subs({a: 0, b: init, c: init, d: init}))\n",
    "display(diff(loss, d).subs({a: 0, b: init, c: init, d: init}))\n"
   ]
  },
  {
   "cell_type": "markdown",
   "metadata": {},
   "source": [
    "But, If we set $b,c,d$ to $\\epsilon$, then we get exactly what we want!  The original loss, but a useful gradient for $a$"
   ]
  },
  {
   "cell_type": "code",
   "execution_count": 12,
   "metadata": {},
   "outputs": [
    {
     "name": "stdout",
     "output_type": "stream",
     "text": [
      "loss\n"
     ]
    },
    {
     "data": {
      "text/latex": [
       "$\\displaystyle \\left(y_{true} - w{\\left(x \\right)}\\right)^{2}$"
      ],
      "text/plain": [
       "(y_true - w(x))**2"
      ]
     },
     "metadata": {},
     "output_type": "display_data"
    },
    {
     "name": "stdout",
     "output_type": "stream",
     "text": [
      "gradients\n"
     ]
    },
    {
     "data": {
      "text/latex": [
       "$\\displaystyle - 2 \\left(y_{true} - w{\\left(x \\right)}\\right) s{\\left(\\epsilon x + \\epsilon s{\\left(\\epsilon h + \\epsilon x \\right)} + \\epsilon w{\\left(x \\right)} \\right)}$"
      ],
      "text/plain": [
       "-2*(y_true - w(x))*s(\\epsilon*x + \\epsilon*s(\\epsilon*h + \\epsilon*x) + \\epsilon*w(x))"
      ]
     },
     "metadata": {},
     "output_type": "display_data"
    },
    {
     "data": {
      "text/latex": [
       "$\\displaystyle 0$"
      ],
      "text/plain": [
       "0"
      ]
     },
     "metadata": {},
     "output_type": "display_data"
    },
    {
     "data": {
      "text/latex": [
       "$\\displaystyle 0$"
      ],
      "text/plain": [
       "0"
      ]
     },
     "metadata": {},
     "output_type": "display_data"
    },
    {
     "data": {
      "text/latex": [
       "$\\displaystyle 0$"
      ],
      "text/plain": [
       "0"
      ]
     },
     "metadata": {},
     "output_type": "display_data"
    }
   ],
   "source": [
    "init = e\n",
    "print('loss')\n",
    "display(loss.subs({a: 0, b: init, c: init, d: init}))\n",
    "print('gradients')\n",
    "display(diff(loss, a).subs({a: 0, b: init, c: init, d: init}))\n",
    "display(diff(loss, b).subs({a: 0, b: init, c: init, d: init}))\n",
    "display(diff(loss, c).subs({a: 0, b: init, c: init, d: init}))\n",
    "display(diff(loss, d).subs({a: 0, b: init, c: init, d: init}))"
   ]
  },
  {
   "attachments": {},
   "cell_type": "markdown",
   "metadata": {},
   "source": [
    "As soon as $a$ is non-zero, we get a non-zero gradient for the rest, which is what we want."
   ]
  },
  {
   "cell_type": "code",
   "execution_count": 13,
   "metadata": {},
   "outputs": [
    {
     "data": {
      "text/latex": [
       "$\\displaystyle \\left(- 2 \\epsilon^{2} h \\left. \\frac{d}{d \\xi_{1}} s{\\left(\\xi_{1} \\right)} \\right|_{\\substack{ \\xi_{1}=\\epsilon x + \\epsilon \\left(\\epsilon h + w{\\left(x \\right)}\\right) + \\epsilon s{\\left(\\epsilon h + \\epsilon x \\right)} }} - 2 s{\\left(\\epsilon x + \\epsilon \\left(\\epsilon h + w{\\left(x \\right)}\\right) + \\epsilon s{\\left(\\epsilon h + \\epsilon x \\right)} \\right)}\\right) \\left(- \\epsilon s{\\left(\\epsilon x + \\epsilon \\left(\\epsilon h + w{\\left(x \\right)}\\right) + \\epsilon s{\\left(\\epsilon h + \\epsilon x \\right)} \\right)} + y_{true} - w{\\left(x \\right)}\\right)$"
      ],
      "text/plain": [
       "(-2*\\epsilon**2*h*Subs(Derivative(s(_xi_1), _xi_1), _xi_1, \\epsilon*x + \\epsilon*(\\epsilon*h + w(x)) + \\epsilon*s(\\epsilon*h + \\epsilon*x)) - 2*s(\\epsilon*x + \\epsilon*(\\epsilon*h + w(x)) + \\epsilon*s(\\epsilon*h + \\epsilon*x)))*(-\\epsilon*s(\\epsilon*x + \\epsilon*(\\epsilon*h + w(x)) + \\epsilon*s(\\epsilon*h + \\epsilon*x)) + y_true - w(x))"
      ]
     },
     "metadata": {},
     "output_type": "display_data"
    },
    {
     "data": {
      "text/latex": [
       "$\\displaystyle - 2 \\epsilon \\left(\\epsilon x \\left. \\frac{d}{d \\xi_{1}} s{\\left(\\xi_{1} \\right)} \\right|_{\\substack{ \\xi_{1}=\\epsilon h + \\epsilon x }} + x\\right) \\left(- \\epsilon s{\\left(\\epsilon x + \\epsilon \\left(\\epsilon h + w{\\left(x \\right)}\\right) + \\epsilon s{\\left(\\epsilon h + \\epsilon x \\right)} \\right)} + y_{true} - w{\\left(x \\right)}\\right) \\left. \\frac{d}{d \\xi_{1}} s{\\left(\\xi_{1} \\right)} \\right|_{\\substack{ \\xi_{1}=\\epsilon x + \\epsilon \\left(\\epsilon h + w{\\left(x \\right)}\\right) + \\epsilon s{\\left(\\epsilon h + \\epsilon x \\right)} }}$"
      ],
      "text/plain": [
       "-2*\\epsilon*(\\epsilon*x*Subs(Derivative(s(_xi_1), _xi_1), _xi_1, \\epsilon*h + \\epsilon*x) + x)*(-\\epsilon*s(\\epsilon*x + \\epsilon*(\\epsilon*h + w(x)) + \\epsilon*s(\\epsilon*h + \\epsilon*x)) + y_true - w(x))*Subs(Derivative(s(_xi_1), _xi_1), _xi_1, \\epsilon*x + \\epsilon*(\\epsilon*h + w(x)) + \\epsilon*s(\\epsilon*h + \\epsilon*x))"
      ]
     },
     "metadata": {},
     "output_type": "display_data"
    },
    {
     "data": {
      "text/latex": [
       "$\\displaystyle - 2 \\epsilon \\left(\\epsilon h + w{\\left(x \\right)}\\right) \\left(- \\epsilon s{\\left(\\epsilon x + \\epsilon \\left(\\epsilon h + w{\\left(x \\right)}\\right) + \\epsilon s{\\left(\\epsilon h + \\epsilon x \\right)} \\right)} + y_{true} - w{\\left(x \\right)}\\right) \\left. \\frac{d}{d \\xi_{1}} s{\\left(\\xi_{1} \\right)} \\right|_{\\substack{ \\xi_{1}=\\epsilon x + \\epsilon \\left(\\epsilon h + w{\\left(x \\right)}\\right) + \\epsilon s{\\left(\\epsilon h + \\epsilon x \\right)} }}$"
      ],
      "text/plain": [
       "-2*\\epsilon*(\\epsilon*h + w(x))*(-\\epsilon*s(\\epsilon*x + \\epsilon*(\\epsilon*h + w(x)) + \\epsilon*s(\\epsilon*h + \\epsilon*x)) + y_true - w(x))*Subs(Derivative(s(_xi_1), _xi_1), _xi_1, \\epsilon*x + \\epsilon*(\\epsilon*h + w(x)) + \\epsilon*s(\\epsilon*h + \\epsilon*x))"
      ]
     },
     "metadata": {},
     "output_type": "display_data"
    },
    {
     "data": {
      "text/latex": [
       "$\\displaystyle - 2 \\epsilon \\left(\\epsilon h \\left. \\frac{d}{d \\xi_{1}} s{\\left(\\xi_{1} \\right)} \\right|_{\\substack{ \\xi_{1}=\\epsilon h + \\epsilon x }} + s{\\left(\\epsilon h + \\epsilon x \\right)}\\right) \\left(- \\epsilon s{\\left(\\epsilon x + \\epsilon \\left(\\epsilon h + w{\\left(x \\right)}\\right) + \\epsilon s{\\left(\\epsilon h + \\epsilon x \\right)} \\right)} + y_{true} - w{\\left(x \\right)}\\right) \\left. \\frac{d}{d \\xi_{1}} s{\\left(\\xi_{1} \\right)} \\right|_{\\substack{ \\xi_{1}=\\epsilon x + \\epsilon \\left(\\epsilon h + w{\\left(x \\right)}\\right) + \\epsilon s{\\left(\\epsilon h + \\epsilon x \\right)} }}$"
      ],
      "text/plain": [
       "-2*\\epsilon*(\\epsilon*h*Subs(Derivative(s(_xi_1), _xi_1), _xi_1, \\epsilon*h + \\epsilon*x) + s(\\epsilon*h + \\epsilon*x))*(-\\epsilon*s(\\epsilon*x + \\epsilon*(\\epsilon*h + w(x)) + \\epsilon*s(\\epsilon*h + \\epsilon*x)) + y_true - w(x))*Subs(Derivative(s(_xi_1), _xi_1), _xi_1, \\epsilon*x + \\epsilon*(\\epsilon*h + w(x)) + \\epsilon*s(\\epsilon*h + \\epsilon*x))"
      ]
     },
     "metadata": {},
     "output_type": "display_data"
    }
   ],
   "source": [
    "init = e\n",
    "display(diff(loss, a).subs({a: init, b: init, c: init, d: init}))\n",
    "display(diff(loss, b).subs({a: init, b: init, c: init, d: init}))\n",
    "display(diff(loss, c).subs({a: init, b: init, c: init, d: init}))\n",
    "display(diff(loss, d).subs({a: init, b: init, c: init, d: init}))"
   ]
  },
  {
   "cell_type": "code",
   "execution_count": null,
   "metadata": {},
   "outputs": [],
   "source": []
  }
 ],
 "metadata": {
  "kernelspec": {
   "display_name": "venv",
   "language": "python",
   "name": "python3"
  },
  "language_info": {
   "codemirror_mode": {
    "name": "ipython",
    "version": 3
   },
   "file_extension": ".py",
   "mimetype": "text/x-python",
   "name": "python",
   "nbconvert_exporter": "python",
   "pygments_lexer": "ipython3",
   "version": "3.8.10"
  },
  "orig_nbformat": 4
 },
 "nbformat": 4,
 "nbformat_minor": 2
}
