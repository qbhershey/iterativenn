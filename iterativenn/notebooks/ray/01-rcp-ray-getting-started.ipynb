{
 "cells": [
  {
   "cell_type": "code",
   "execution_count": 1,
   "metadata": {},
   "outputs": [],
   "source": [
    "import ray\n",
    "import time\n",
    "import numpy as np"
   ]
  },
  {
   "cell_type": "code",
   "execution_count": 2,
   "metadata": {},
   "outputs": [
    {
     "name": "stderr",
     "output_type": "stream",
     "text": [
      "2022-08-15 11:19:19,733\tINFO services.py:1456 -- View the Ray dashboard at \u001b[1m\u001b[32mhttp://127.0.0.1:8265\u001b[39m\u001b[22m\n"
     ]
    },
    {
     "data": {
      "text/plain": [
       "RayContext(dashboard_url='127.0.0.1:8265', python_version='3.9.12', ray_version='1.12.0', ray_commit='f18fc31c7562990955556899090f8e8656b48d2d', address_info={'node_ip_address': '172.31.251.194', 'raylet_ip_address': '172.31.251.194', 'redis_address': None, 'object_store_address': '/tmp/ray/session_2022-08-15_11-19-17_875971_13918/sockets/plasma_store', 'raylet_socket_name': '/tmp/ray/session_2022-08-15_11-19-17_875971_13918/sockets/raylet', 'webui_url': '127.0.0.1:8265', 'session_dir': '/tmp/ray/session_2022-08-15_11-19-17_875971_13918', 'metrics_export_port': 48623, 'gcs_address': '172.31.251.194:53273', 'address': '172.31.251.194:53273', 'node_id': '10fe10bb191eb1f6f0572e6bcfd073daac55e20fb62a7ee5735417b8'})"
      ]
     },
     "execution_count": 2,
     "metadata": {},
     "output_type": "execute_result"
    }
   ],
   "source": [
    "ray.init()"
   ]
  },
  {
   "cell_type": "code",
   "execution_count": 3,
   "metadata": {},
   "outputs": [],
   "source": [
    "@ray.remote\n",
    "def f(x):\n",
    "    time.sleep(1)\n",
    "    return x\n",
    "\n",
    "# Start 4 tasks in parallel.\n",
    "result_ids = []\n",
    "for i in range(4):\n",
    "    result_ids.append(f.remote(i))\n",
    "    \n",
    "# Wait for the tasks to complete and retrieve the results.\n",
    "# With at least 4 cores, this will take 1 second.\n",
    "results = ray.get(result_ids)  # [0, 1, 2, 3]"
   ]
  },
  {
   "cell_type": "code",
   "execution_count": 4,
   "metadata": {},
   "outputs": [
    {
     "data": {
      "text/plain": [
       "[0, 1, 2, 3]"
      ]
     },
     "execution_count": 4,
     "metadata": {},
     "output_type": "execute_result"
    }
   ],
   "source": [
    "results"
   ]
  },
  {
   "cell_type": "code",
   "execution_count": 5,
   "metadata": {},
   "outputs": [],
   "source": [
    "@ray.remote\n",
    "def create_matrix(size):\n",
    "    return np.random.normal(size=size)\n",
    "\n",
    "@ray.remote\n",
    "def multiply_matrices(x, y):\n",
    "    return np.dot(x, y)\n",
    "\n",
    "x_id = create_matrix.remote([1000, 1000])\n",
    "y_id = create_matrix.remote([1000, 1000])\n",
    "z_id = multiply_matrices.remote(x_id, y_id)\n",
    "\n",
    "# Get the results.\n",
    "z = ray.get(z_id)"
   ]
  },
  {
   "cell_type": "code",
   "execution_count": 6,
   "metadata": {},
   "outputs": [
    {
     "data": {
      "text/plain": [
       "array([[ 11.37093904, -44.50457117,  -6.15293878, ..., -27.40695253,\n",
       "        -34.34495728, -30.85410735],\n",
       "       [ 24.14780352,  -8.60058469,  -6.05974163, ...,  27.91909271,\n",
       "        -21.98551581,  17.51412485],\n",
       "       [-53.53439274,  -5.21069163, -27.29399781, ..., -50.50875694,\n",
       "        -15.00434003,  -7.74149601],\n",
       "       ...,\n",
       "       [ 11.63091135, -42.5206375 ,  41.59662256, ...,  -7.74239924,\n",
       "        -21.49065858,   2.40885547],\n",
       "       [-41.03914363, -12.58284965,   8.20308365, ...,  17.73708442,\n",
       "          6.68521548,  13.44754728],\n",
       "       [-15.13829411,  -4.22607731,  27.92421435, ...,  41.96081871,\n",
       "         36.10455792,   8.85761925]])"
      ]
     },
     "execution_count": 6,
     "metadata": {},
     "output_type": "execute_result"
    }
   ],
   "source": [
    "z"
   ]
  },
  {
   "cell_type": "code",
   "execution_count": 8,
   "metadata": {},
   "outputs": [],
   "source": [
    "# from ray import tune\n",
    "\n",
    "\n",
    "# def objective(x, a, b):  # Define an objective function.\n",
    "#     return a * (x ** 0.5) + b\n",
    "\n",
    "\n",
    "# def trainable(config):  # Pass a \"config\" dictionary into your trainable.\n",
    "\n",
    "#     for x in range(20):  # \"Train\" for 20 iterations and compute intermediate scores.\n",
    "#         score = objective(x, config[\"a\"], config[\"b\"])\n",
    "\n",
    "#         tune.report(score=score)  # Send the score to Tune.\n"
   ]
  },
  {
   "cell_type": "code",
   "execution_count": null,
   "metadata": {},
   "outputs": [],
   "source": []
  }
 ],
 "metadata": {
  "kernelspec": {
   "display_name": "Python 3 (ipykernel)",
   "language": "python",
   "name": "python3"
  },
  "language_info": {
   "codemirror_mode": {
    "name": "ipython",
    "version": 3
   },
   "file_extension": ".py",
   "mimetype": "text/x-python",
   "name": "python",
   "nbconvert_exporter": "python",
   "pygments_lexer": "ipython3",
   "version": "3.9.12"
  },
  "vscode": {
   "interpreter": {
    "hash": "91c69d281b806a3add6b161e23d9089dcb392788fdbe6cdd17c006940cab5b65"
   }
  }
 },
 "nbformat": 4,
 "nbformat_minor": 4
}
