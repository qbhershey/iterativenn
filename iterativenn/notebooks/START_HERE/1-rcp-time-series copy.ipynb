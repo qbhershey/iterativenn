{
 "cells": [
  {
   "attachments": {},
   "cell_type": "markdown",
   "id": "2cbaac43",
   "metadata": {},
   "source": [
    "# Load modules"
   ]
  },
  {
   "cell_type": "code",
   "execution_count": 1,
   "id": "b02688a7",
   "metadata": {},
   "outputs": [
    {
     "data": {
      "text/plain": [
       "<torch._C.Generator at 0x7f570478b1d0>"
      ]
     },
     "execution_count": 1,
     "metadata": {},
     "output_type": "execute_result"
    }
   ],
   "source": [
    "import functools\n",
    "import time\n",
    "from pprint import pprint\n",
    "import shutil\n",
    "\n",
    "import pandas as pd\n",
    "import matplotlib.pyplot as plt\n",
    "\n",
    "import torch\n",
    "import pytorch_lightning as pl\n",
    "from pytorch_lightning.callbacks import RichProgressBar\n",
    "from pytorch_lightning.loggers import CSVLogger\n",
    "\n",
    "from iterativenn.lit_modules.IteratedModel import IteratedModel, ConfigCallbacks\n",
    "from iterativenn.utils.model_wrappers import IterativeRNN, IterativeGRU, IterativeLSTM\n",
    "from iterativenn.nn_modules.Sequential2D import Sequential2D\n",
    "from iterativenn.nn_modules.Sequential1D import Sequential1D\n",
    "from iterativenn.nn_modules.HeterogeneousActivation import HeterogeneousActivation\n",
    "\n",
    "from iterativenn.utils.DatasetUtils import MemoryCopySequence\n",
    "from iterativenn.utils.DataModules import SequenceModule\n",
    "\n",
    "\n",
    "torch.manual_seed(0)"
   ]
  },
  {
   "attachments": {},
   "cell_type": "markdown",
   "id": "bef8f19c",
   "metadata": {},
   "source": [
    "# Introduction\n"
   ]
  },
  {
   "attachments": {},
   "cell_type": "markdown",
   "id": "092c3509",
   "metadata": {},
   "source": [
    "This is a example of doing time series analysis comparing INNs to other methods.  This is intended to be a simple example of how to do this.  It is not intended to be a comprehensive analysis of the methods.   However, it does show that INNs can be used for time series analysis and how to use them for this purpose.    \n"
   ]
  },
  {
   "attachments": {},
   "cell_type": "markdown",
   "id": "df582b09",
   "metadata": {},
   "source": [
    "# The Data\n",
    "\n"
   ]
  },
  {
   "attachments": {},
   "cell_type": "markdown",
   "id": "57e97a1b",
   "metadata": {},
   "source": [
    "We want a simple yet non-trivial problem for demonstrating the methods, so we do a memory problem.  The data is a sequence of random numbers, and the method is asked to memorize them and then repeat them back.\n",
    "\n",
    "There are three small twists.\n",
    "\n",
    "1.  You can make the sequences both as long as you like and have variables lengths.\n",
    "2.  On the input side you can allow each digit to appear multiple times to allow for more time to memorize the sequence.\n",
    "3.  You can make the dimensions of the sequences as large as you like.  I.e., the method would need to memorize vectors. "
   ]
  },
  {
   "cell_type": "code",
   "execution_count": 2,
   "id": "9a3107a6",
   "metadata": {
    "lines_to_next_cell": 2
   },
   "outputs": [],
   "source": [
    "globals = {}\n",
    "# The number of elements in each vector to memorize\n",
    "globals['dimension'] = 2\n",
    "# The shortest and longest sequences to memorize\n",
    "globals['min_sequence_size'] = 2\n",
    "globals['max_sequence_size'] = 4\n",
    "# The number of copies of each element in the sequence, i.e. the number of times each element is repeated.\n",
    "globals['copies'] = 2\n",
    "\n",
    "# The data sizes to use for training and validation\n",
    "globals['train_size'] = 1024\n",
    "globals['val_size'] = 1024\n",
    "globals['test_size'] = 1024\n",
    "globals['batch_size'] = 1024\n",
    "\n",
    "# The number of epochs to train for\n",
    "globals['max_epochs'] = 5  # Far too few for real training, but just to get things going\n",
    "# globals['max_epochs'] = 1000  # A more reasonable number of epochs\n"
   ]
  },
  {
   "cell_type": "code",
   "execution_count": 3,
   "id": "47daf6a2",
   "metadata": {},
   "outputs": [
    {
     "data": {
      "text/plain": [
       "<torch._C.Generator at 0x7f570478b1d0>"
      ]
     },
     "execution_count": 3,
     "metadata": {},
     "output_type": "execute_result"
    }
   ],
   "source": [
    "# We set the manual seed to 0, so that the same sequence is generated each time.\n",
    "# Note, this is useful for debugging and learning the code, but you should remove this line when you are ready to train your model.\n",
    "torch.manual_seed(0)"
   ]
  },
  {
   "cell_type": "code",
   "execution_count": 4,
   "id": "54817be1",
   "metadata": {},
   "outputs": [],
   "source": [
    "# Create the dataset\n",
    "dataset_factory = functools.partial(MemoryCopySequence, \n",
    "                                    min_sequence_size=globals['min_sequence_size'], \n",
    "                                    max_sequence_size=globals['max_sequence_size'], \n",
    "                                    dimension=globals['dimension'], \n",
    "                                    copies=globals['copies'])"
   ]
  },
  {
   "attachments": {},
   "cell_type": "markdown",
   "id": "4176f0db",
   "metadata": {},
   "source": [
    "Heere is some sample data.  "
   ]
  },
  {
   "cell_type": "code",
   "execution_count": 5,
   "id": "9d8ae6dc",
   "metadata": {},
   "outputs": [],
   "source": [
    "sample_dataset = dataset_factory()"
   ]
  },
  {
   "attachments": {},
   "cell_type": "markdown",
   "id": "ddbd89c5",
   "metadata": {},
   "source": [
    "Here is the first example of the data.  Note,\n",
    "\n",
    "1.  We plotting the transpose of the data, just to make it easier to see.\n",
    "2.  The sequence is of length 4.\n",
    "3.  Each vector is shown twice.\n",
    "4.  -1 is used to indicate the end of the sequence.\n",
    "5.  nan is used to make where the loss is not evaluated."
   ]
  },
  {
   "cell_type": "code",
   "execution_count": 6,
   "id": "68901927",
   "metadata": {},
   "outputs": [
    {
     "name": "stdout",
     "output_type": "stream",
     "text": [
      "the x values\n",
      "tensor([[ 1.,  1.,  7.,  7.,  7.,  7.,  2.,  2., -1., -1., -1., -1.],\n",
      "        [ 3.,  3.,  8.,  8.,  8.,  8.,  2.,  2., -1., -1., -1., -1.]])\n",
      "the y values\n",
      "tensor([[nan, nan, nan, nan, nan, nan, nan, nan, 1., 7., 7., 2.],\n",
      "        [nan, nan, nan, nan, nan, nan, nan, nan, 3., 8., 8., 2.]])\n"
     ]
    }
   ],
   "source": [
    "print('the x values')\n",
    "print(sample_dataset[0]['x'].T)\n",
    "print('the y values')\n",
    "print(sample_dataset[0]['y'].T)"
   ]
  },
  {
   "attachments": {},
   "cell_type": "markdown",
   "id": "220eae78",
   "metadata": {},
   "source": [
    "Here is the second example of the data.  Note,\n",
    "\n",
    "1.  Now, the sequence is of length 2.\n",
    "2.  Everything else is the same."
   ]
  },
  {
   "cell_type": "code",
   "execution_count": 7,
   "id": "ec1fdff4",
   "metadata": {},
   "outputs": [
    {
     "name": "stdout",
     "output_type": "stream",
     "text": [
      "the x values\n",
      "tensor([[ 9.,  9.,  7.,  7., -1., -1.],\n",
      "        [ 3.,  3.,  4.,  4., -1., -1.]])\n",
      "the y values\n",
      "tensor([[nan, nan, nan, nan, 9., 7.],\n",
      "        [nan, nan, nan, nan, 3., 4.]])\n"
     ]
    }
   ],
   "source": [
    "print('the x values')\n",
    "print(sample_dataset[1]['x'].T)\n",
    "print('the y values')\n",
    "print(sample_dataset[1]['y'].T)"
   ]
  },
  {
   "attachments": {},
   "cell_type": "markdown",
   "id": "06fe8231",
   "metadata": {},
   "source": [
    "And we wrap the data is a pytorch lightning data module.   This is not necessary, but it makes it easier to use the data in the training loop."
   ]
  },
  {
   "cell_type": "code",
   "execution_count": 8,
   "id": "f98d440c",
   "metadata": {},
   "outputs": [],
   "source": [
    "data_module = SequenceModule(dataset=dataset_factory, \n",
    "                             batch_size=globals['batch_size'], \n",
    "                             train_size=globals['train_size'], \n",
    "                             val_size=globals['val_size'], \n",
    "                             test_size=globals['test_size'], \n",
    "                             num_workers=1)"
   ]
  },
  {
   "attachments": {},
   "cell_type": "markdown",
   "id": "0b8748b1",
   "metadata": {},
   "source": [
    "# Construct the models"
   ]
  },
  {
   "attachments": {},
   "cell_type": "markdown",
   "id": "a353c075",
   "metadata": {},
   "source": [
    "We are going to construct models in a somewhat generic fashion.  The idea is that each model takes as input a vector $z$ where $z$ consists of three parts (in order):\n",
    "\n",
    "1. The input sequence (what we call $x$).\n",
    "2. The output sequence (what we call $y$).\n",
    "3. The hidden state (what we call $h$).\n",
    "\n",
    "i.e.\n",
    "$$\\begin{bmatrix} x \\\\ y \\\\ h \\end{bmatrix} = z$$\n",
    "\n",
    "Why the strange order of having the hidden state at the end?  Wouldn't having $y$ at the end be more natural?  \n",
    "\n",
    "Actually, in our work we like to play games with the size of $h$, while $x$ and $y$ are fixed by the problem of interest.  So, having  $x$ and $y$ first and $h$ last allows us to be more consistent later on."
   ]
  },
  {
   "attachments": {},
   "cell_type": "markdown",
   "id": "2ed14a42",
   "metadata": {},
   "source": [
    "\n",
    "\n",
    "$z$ will be processed by various callbacks.  The callbacks are:\n",
    "\n",
    "- loss:  This is the loss function.  It takes $y$ and returns a loss.\n",
    "  e.g., $$loss\\left(\\begin{bmatrix} x \\\\ y \\\\ h \\end{bmatrix}\\right) = loss(y)$$\n",
    "- initialization: It initializes $z$.\n",
    "  e.g., $$initialization\\left(\\begin{bmatrix} x \\\\ y \\\\ h \\end{bmatrix}\\right) = \\begin{bmatrix} 0 \\\\ 0 \\\\ 0 \\end{bmatrix}$$\n",
    "- data: It overwrites $z$ with the input data.\n",
    "  e.g., $$data\\left(\\begin{bmatrix} x \\\\ y \\\\ h \\end{bmatrix},x_{new} \\right) = \\begin{bmatrix} x_{new} \\\\ y \\\\ h \\end{bmatrix}$$ \n",
    "- output: It prints the contents of $z$ in a human readable form.\n",
    "  e.g., $$output\\left(\\begin{bmatrix} x \\\\ y \\\\ h \\end{bmatrix}\\right) = y$$\n",
    "\n",
    "Note, $loss$, $data$, and $output$ can be defined without reference to the size of $h$.  This is because $h$ is the last part of $z$ and so can be ignored.  However, $initialization$ does need to know the size of $h$.\n",
    "\n",
    "Note, you do not call these directly, internally they are called by the model."
   ]
  },
  {
   "cell_type": "code",
   "execution_count": 9,
   "id": "bf64a70e",
   "metadata": {
    "lines_to_next_cell": 2
   },
   "outputs": [],
   "source": [
    "\n",
    "def get_callbacks(x_size, y_size, h_size):\n",
    "    loss_dict = { 'func': 'MSELoss', 'idx_list': range(x_size, x_size+y_size), 'sequence_position': 'all'}\n",
    "    initialization_dict = { 'func': 'zeros', 'size': x_size+y_size+h_size}\n",
    "    data_dict = { 'func': 'insert', 'idx_list': range(0, x_size), 'flatten_input': True}\n",
    "    output_dict = { 'func': 'all_series', 'idx_list': range(x_size, x_size+y_size)}\n",
    "    callback_dict = {'loss': loss_dict, 'initialization': initialization_dict, 'data': data_dict, 'output': output_dict}\n",
    "    return ConfigCallbacks(callback_dict)"
   ]
  },
  {
   "attachments": {},
   "cell_type": "markdown",
   "id": "cf57c722",
   "metadata": {},
   "source": [
    "Here are a selection of standard models one can call.  Note, these are wrapped in a class so that the calling signature is consistent with our notation.  However, the internal functions are not modified in any way."
   ]
  },
  {
   "cell_type": "code",
   "execution_count": 10,
   "id": "ecd987c8",
   "metadata": {
    "lines_to_next_cell": 2
   },
   "outputs": [],
   "source": [
    "def RNN(x_size, y_size, h_size):\n",
    "    callbacks = get_callbacks(x_size, y_size, h_size)\n",
    "    model = IterativeRNN(input_size=x_size,\n",
    "                         hidden_size=y_size+h_size)\n",
    "    iteratedModel = IteratedModel(model=model, callbacks=callbacks, batch_optimize=True)\n",
    "    return iteratedModel\n",
    "\n",
    "def GRU(x_size, y_size, h_size):\n",
    "    callbacks = get_callbacks(x_size, y_size, h_size)\n",
    "    model = IterativeGRU(input_size=x_size,\n",
    "                         hidden_size=y_size+h_size)\n",
    "    iteratedModel = IteratedModel(model=model, callbacks=callbacks, batch_optimize=True)\n",
    "    return iteratedModel\n",
    "\n",
    "def LSTM(x_size, y_size, h_size):\n",
    "    callbacks = get_callbacks(x_size, y_size, h_size)\n",
    "    model = IterativeLSTM(input_size=x_size,\n",
    "                          hidden_size=h_size,\n",
    "                          output_size=y_size,\n",
    "                          y_before_h=True)\n",
    "    iteratedModel = IteratedModel(model=model, callbacks=callbacks, batch_optimize=True)\n",
    "    return iteratedModel"
   ]
  },
  {
   "attachments": {},
   "cell_type": "markdown",
   "id": "f3b9d0fe",
   "metadata": {},
   "source": [
    "Ok, now things get more interesting.  We now use an INN to do the same task.  This is very similar to what happens in a normal RNN, except we have finer control over the initialization, activations functions, and training.  In particular,\n",
    "this can we written as\n",
    "\n",
    "$$\n",
    "f(z) =\n",
    "\\begin{bmatrix} I & I & ELU \\end{bmatrix} \n",
    "\\circ\n",
    "\\left(\n",
    "\\begin{bmatrix} x & y & h \\end{bmatrix} \n",
    "\\begin{bmatrix}\n",
    "I & W_{xy} & W_{xh} \\\\\n",
    "0 & W_{yy} & W_{yh} \\\\\n",
    "0 & W_{hy} & W_{hh} \\\\\n",
    "\\end{bmatrix}\n",
    "\\right)\n",
    "$$\n",
    "\n",
    "where $I$ is the identity matrix/map (i.e., a function that just copies the input to the output) and $\\circ$ is entry-wise function composition.  Note, we are writing this in terms of row vectors and left dot products to be consistent with the standard Pytorch notation."
   ]
  },
  {
   "attachments": {},
   "cell_type": "markdown",
   "id": "05cf0352",
   "metadata": {},
   "source": [
    "We can expand this by writing \n",
    "$$\n",
    "f(z) =\n",
    "\\begin{bmatrix} I & I & ELU \\end{bmatrix} \n",
    "\\circ\n",
    "\\begin{bmatrix} x & x W_{xy} + y W_{yy} + h W_{hy} &  x W_{xh} + y W_{yh} + h W_{hh}\\end{bmatrix} \n",
    "$$\n",
    "\n",
    "and apply the activation function to each column to get\n",
    "\n",
    "$$\n",
    "f(z) =\n",
    "\\begin{bmatrix} x & x W_{xy} + y W_{yy} + h W_{hy} &  ELU(x W_{xh} + y W_{yh} + h W_{hh})\\end{bmatrix} \n",
    "$$\n",
    "\n",
    "and this is one iteration of our INN/RNN/dynamical system."
   ]
  },
  {
   "cell_type": "code",
   "execution_count": 11,
   "id": "e0e1fb1f",
   "metadata": {},
   "outputs": [],
   "source": [
    "def DenseINN(x_size, y_size, h_size):\n",
    "    default_model = 'MaskedLinear.from_description'\n",
    "    default_kwargs = {'block_type':'W', 'initialization_type':'G=0.0,0.01', 'trainable':True, 'bias':False}\n",
    "\n",
    "    cfg = {\n",
    "            \"in_features_list\": [x_size, y_size, h_size], \n",
    "            \"out_features_list\": [x_size, y_size, h_size], \n",
    "            \"block_types\": [\n",
    "                    ['Identity', default_model, default_model],\n",
    "                    [None,       default_model, default_model],\n",
    "                    [None,       default_model, default_model]\n",
    "                ],\n",
    "            \"block_kwargs\": [\n",
    "                    [None, default_kwargs, default_kwargs],\n",
    "                    [None, default_kwargs, default_kwargs],\n",
    "                    [None, default_kwargs, default_kwargs]\n",
    "                ],\n",
    "        }\n",
    "\n",
    "    # We use the above config to create a Sequential2D model.  Note, this can also be done by hand, and not using the config factory.\n",
    "    # However, this is a bit cleaner and easier to get started with.\n",
    "    base_model = Sequential2D.from_config(cfg)\n",
    "\n",
    "    # There are our chosen activations for each layer.  Note, you can choose these as you like based upon your problem.\n",
    "    # for example, you might want to make the activations for $y$ something like a sigmoid if you are doing classification.\n",
    "    base_activations = [torch.nn.Identity(), torch.nn.Identity(), torch.nn.ELU()]\n",
    "    activation = HeterogeneousActivation(base_activations, [x_size, y_size, h_size])\n",
    "\n",
    "\n",
    "    # We create a Sequential1D which applied the activations to the output of the Sequential2D model.\n",
    "    model = Sequential1D(base_model, activation, \n",
    "                        in_features=base_model.in_features, \n",
    "                        out_features=base_model.out_features)\n",
    "\n",
    "    # There are a few callbacks we need to use to make this work as described above.\n",
    "    callbacks = get_callbacks(x_size, y_size, h_size)\n",
    "\n",
    "    # Note, the batch_optimize=True collects a batch of training sequences and sends them to the model at once.  It should\n",
    "    # be faster for large models.  \n",
    "    iteratedModel = IteratedModel(model=model, callbacks=callbacks, batch_optimize=True)\n",
    "    return iteratedModel"
   ]
  },
  {
   "attachments": {},
   "cell_type": "markdown",
   "id": "3237fd1e",
   "metadata": {},
   "source": [
    "Ok, now we can do something interesting!  This is now a sparse RNN/INN/dynamical system where only the non-zero entries of the $W$ matrices are trainable.  This is a very powerful idea.\n",
    "It allows us to do things like:\n",
    "\n",
    "- simulate a dynamical system with a small number of parameters.\n",
    "- simulate an MLP\n",
    "- decouple the size of $h$ from the number of parameters\n",
    "- etc."
   ]
  },
  {
   "cell_type": "code",
   "execution_count": 12,
   "id": "600c3ce7",
   "metadata": {},
   "outputs": [],
   "source": [
    "def SparseINN(x_size, y_size, h_size):\n",
    "    default_model = 'MaskedLinear.from_description'\n",
    "    default_kwargs = {'block_type':'R=0.2', 'initialization_type':'G=0.0,0.01', 'trainable':'non-zero', 'bias':False}\n",
    "\n",
    "    cfg = {\n",
    "            \"in_features_list\": [x_size, y_size, h_size], \n",
    "            \"out_features_list\": [x_size, y_size, h_size], \n",
    "            \"block_types\": [\n",
    "                    ['Identity', default_model, default_model],\n",
    "                    [None,       default_model, default_model],\n",
    "                    [None,       default_model, default_model]\n",
    "                ],\n",
    "            \"block_kwargs\": [\n",
    "                    [None, default_kwargs, default_kwargs],\n",
    "                    [None, default_kwargs, default_kwargs],\n",
    "                    [None, default_kwargs, default_kwargs]\n",
    "                ],\n",
    "        }\n",
    "\n",
    "    base_model = Sequential2D.from_config(cfg)\n",
    "    base_activations = [torch.nn.Identity(), torch.nn.Identity(), torch.nn.ELU()]\n",
    "\n",
    "    activation = HeterogeneousActivation(base_activations, [x_size, y_size, h_size])\n",
    "    model = Sequential1D(base_model, activation, \n",
    "                        in_features=base_model.in_features, \n",
    "                        out_features=base_model.out_features)\n",
    "    callbacks = get_callbacks(x_size, y_size, h_size)\n",
    "    iteratedModel = IteratedModel(model=model, callbacks=callbacks, batch_optimize=True)\n",
    "    return iteratedModel"
   ]
  },
  {
   "attachments": {},
   "cell_type": "markdown",
   "id": "8d761b35",
   "metadata": {},
   "source": [
    "Now we go for it!  This is an example with some untrainable blocks, and trainable blocks with variable sparsity.  This sky is the limit!\n",
    "For example one can consider:\n",
    "\n",
    "- different activation functions\n",
    "- learning an optimal configuration of trainable parameters\n",
    "- using biases as well as weights\n",
    "- studying the dynamics of the system\n",
    "- etc."
   ]
  },
  {
   "cell_type": "code",
   "execution_count": 13,
   "id": "5ca0bb5e",
   "metadata": {},
   "outputs": [],
   "source": [
    "def VariableINN(x_size, y_size, h_size):\n",
    "    default_model = 'MaskedLinear.from_description'\n",
    "    default1_kwargs = {'block_type':'R=0.1', 'initialization_type':'G=0.0,0.01', 'trainable':'non-zero', 'bias':False}\n",
    "    default2_kwargs = {'block_type':'R=0.2', 'initialization_type':'G=0.0,0.01', 'trainable':'non-zero', 'bias':True}\n",
    "\n",
    "    cfg = {\n",
    "            \"in_features_list\": [x_size, y_size, h_size//2, h_size//2], \n",
    "            \"out_features_list\": [x_size, y_size, h_size//2, h_size//2], \n",
    "            \"block_types\": [\n",
    "                    ['Identity', default_model, default_model, None         ],\n",
    "                    [None,       default_model, None,          default_model],\n",
    "                    [None,       None         , default_model, default_model],\n",
    "                    [None,       default_model, default_model, None         ],\n",
    "                ],\n",
    "            \"block_kwargs\": [\n",
    "                    [None,       default1_kwargs, default2_kwargs, None          ],\n",
    "                    [None,       default2_kwargs, None,            default2_kwargs],\n",
    "                    [None,       None,            default1_kwargs, default1_kwargs],\n",
    "                    [None,       default1_kwargs, default2_kwargs, None          ],\n",
    "                ],\n",
    "        }\n",
    "\n",
    "    base_model = Sequential2D.from_config(cfg)\n",
    "    base_activations = [torch.nn.Identity(), torch.nn.Identity(), torch.nn.ELU(), torch.nn.Tanh()]\n",
    "\n",
    "    activation = HeterogeneousActivation(base_activations, [x_size, y_size, h_size//2, h_size//2])\n",
    "    model = Sequential1D(base_model, activation, \n",
    "                        in_features=base_model.in_features, \n",
    "                        out_features=base_model.out_features)\n",
    "\n",
    "    # Note, in this case the sizes of the callbacks are different than the sizes of the model!  This is perfectly fine.\n",
    "    callbacks = get_callbacks(x_size, y_size, h_size)\n",
    "    iteratedModel = IteratedModel(model=model, callbacks=callbacks, batch_optimize=True)\n",
    "    return iteratedModel"
   ]
  },
  {
   "cell_type": "code",
   "execution_count": 14,
   "id": "c93b7971",
   "metadata": {},
   "outputs": [],
   "source": [
    "models = {\n",
    "    'RNN': RNN(x_size=globals['dimension'], y_size=globals['dimension'], h_size=100),\n",
    "    'GRU': GRU(x_size=globals['dimension'], y_size=globals['dimension'], h_size=55),\n",
    "    'LSTM': LSTM(x_size=globals['dimension'], y_size=globals['dimension'], h_size=400),\n",
    "    'DenseINN': DenseINN(x_size=globals['dimension'], y_size=globals['dimension'], h_size=100),\n",
    "    'SparseINN': SparseINN(x_size=globals['dimension'], y_size=globals['dimension'], h_size=230),\n",
    "    'VariableINN': VariableINN(x_size=globals['dimension'], y_size=globals['dimension'], h_size=310),\n",
    "}"
   ]
  },
  {
   "cell_type": "code",
   "execution_count": 15,
   "id": "72a4570b",
   "metadata": {},
   "outputs": [
    {
     "name": "stdout",
     "output_type": "stream",
     "text": [
      "RNN has 10812 trainable parameters\n",
      "GRU has 10431 trainable parameters\n",
      "LSTM has 10400 trainable parameters\n",
      "DenseINN has 10608 trainable parameters\n",
      "SparseINN has 10944 trainable parameters\n",
      "VariableINN has 10137 trainable parameters\n"
     ]
    }
   ],
   "source": [
    "for model_name, model in models.items():\n",
    "    print(f'{model_name} has {model.number_of_trainable_parameters()} trainable parameters')\n"
   ]
  },
  {
   "cell_type": "code",
   "execution_count": 16,
   "id": "efb912df",
   "metadata": {
    "lines_to_next_cell": 2
   },
   "outputs": [
    {
     "name": "stderr",
     "output_type": "stream",
     "text": [
      "GPU available: True (cuda), used: True\n",
      "TPU available: False, using: 0 TPU cores\n",
      "IPU available: False, using: 0 IPUs\n",
      "HPU available: False, using: 0 HPUs\n",
      "You are using a CUDA device ('NVIDIA GeForce RTX 4090') that has Tensor Cores. To properly utilize them, you should set `torch.set_float32_matmul_precision('medium' | 'high')` which will trade-off precision for performance. For more details, read https://pytorch.org/docs/stable/generated/torch.set_float32_matmul_precision.html#torch.set_float32_matmul_precision\n"
     ]
    },
    {
     "name": "stderr",
     "output_type": "stream",
     "text": [
      "LOCAL_RANK: 0 - CUDA_VISIBLE_DEVICES: [0,1]\n"
     ]
    },
    {
     "data": {
      "text/html": [
       "<pre style=\"white-space:pre;overflow-x:auto;line-height:normal;font-family:Menlo,'DejaVu Sans Mono',consolas,'Courier New',monospace\">┏━━━┳━━━━━━━┳━━━━━━━━━━━━━━┳━━━━━━━━┓\n",
       "┃<span style=\"color: #800080; text-decoration-color: #800080; font-weight: bold\">   </span>┃<span style=\"color: #800080; text-decoration-color: #800080; font-weight: bold\"> Name  </span>┃<span style=\"color: #800080; text-decoration-color: #800080; font-weight: bold\"> Type         </span>┃<span style=\"color: #800080; text-decoration-color: #800080; font-weight: bold\"> Params </span>┃\n",
       "┡━━━╇━━━━━━━╇━━━━━━━━━━━━━━╇━━━━━━━━┩\n",
       "│<span style=\"color: #7f7f7f; text-decoration-color: #7f7f7f\"> 0 </span>│ model │ IterativeRNN │ 10.8 K │\n",
       "└───┴───────┴──────────────┴────────┘\n",
       "</pre>\n"
      ],
      "text/plain": [
       "┏━━━┳━━━━━━━┳━━━━━━━━━━━━━━┳━━━━━━━━┓\n",
       "┃\u001b[1;35m \u001b[0m\u001b[1;35m \u001b[0m\u001b[1;35m \u001b[0m┃\u001b[1;35m \u001b[0m\u001b[1;35mName \u001b[0m\u001b[1;35m \u001b[0m┃\u001b[1;35m \u001b[0m\u001b[1;35mType        \u001b[0m\u001b[1;35m \u001b[0m┃\u001b[1;35m \u001b[0m\u001b[1;35mParams\u001b[0m\u001b[1;35m \u001b[0m┃\n",
       "┡━━━╇━━━━━━━╇━━━━━━━━━━━━━━╇━━━━━━━━┩\n",
       "│\u001b[2m \u001b[0m\u001b[2m0\u001b[0m\u001b[2m \u001b[0m│ model │ IterativeRNN │ 10.8 K │\n",
       "└───┴───────┴──────────────┴────────┘\n"
      ]
     },
     "metadata": {},
     "output_type": "display_data"
    },
    {
     "data": {
      "text/html": [
       "<pre style=\"white-space:pre;overflow-x:auto;line-height:normal;font-family:Menlo,'DejaVu Sans Mono',consolas,'Courier New',monospace\"><span style=\"font-weight: bold\">Trainable params</span>: 10.8 K                                                                                           \n",
       "<span style=\"font-weight: bold\">Non-trainable params</span>: 0                                                                                            \n",
       "<span style=\"font-weight: bold\">Total params</span>: 10.8 K                                                                                               \n",
       "<span style=\"font-weight: bold\">Total estimated model params size (MB)</span>: 0                                                                          \n",
       "</pre>\n"
      ],
      "text/plain": [
       "\u001b[1mTrainable params\u001b[0m: 10.8 K                                                                                           \n",
       "\u001b[1mNon-trainable params\u001b[0m: 0                                                                                            \n",
       "\u001b[1mTotal params\u001b[0m: 10.8 K                                                                                               \n",
       "\u001b[1mTotal estimated model params size (MB)\u001b[0m: 0                                                                          \n"
      ]
     },
     "metadata": {},
     "output_type": "display_data"
    },
    {
     "data": {
      "application/vnd.jupyter.widget-view+json": {
       "model_id": "37a6cadf9b50461fbf3c72f7c58e88a5",
       "version_major": 2,
       "version_minor": 0
      },
      "text/plain": [
       "Output()"
      ]
     },
     "metadata": {},
     "output_type": "display_data"
    },
    {
     "data": {
      "text/html": [
       "<pre style=\"white-space:pre;overflow-x:auto;line-height:normal;font-family:Menlo,'DejaVu Sans Mono',consolas,'Courier New',monospace\">/home/rcpaffenroth/projects/iterativenn/venv/lib/python3.9/site-packages/pytorch_lightning/trainer/connectors/data_\n",
       "connector.py:430: PossibleUserWarning: The dataloader, val_dataloader, does not have many workers which may be a \n",
       "bottleneck. Consider increasing the value of the `num_workers` argument` (try 32 which is the number of cpus on \n",
       "this machine) in the `DataLoader` init to improve performance.\n",
       "  rank_zero_warn(\n",
       "</pre>\n"
      ],
      "text/plain": [
       "/home/rcpaffenroth/projects/iterativenn/venv/lib/python3.9/site-packages/pytorch_lightning/trainer/connectors/data_\n",
       "connector.py:430: PossibleUserWarning: The dataloader, val_dataloader, does not have many workers which may be a \n",
       "bottleneck. Consider increasing the value of the `num_workers` argument` (try 32 which is the number of cpus on \n",
       "this machine) in the `DataLoader` init to improve performance.\n",
       "  rank_zero_warn(\n"
      ]
     },
     "metadata": {},
     "output_type": "display_data"
    },
    {
     "data": {
      "text/html": [
       "<pre style=\"white-space:pre;overflow-x:auto;line-height:normal;font-family:Menlo,'DejaVu Sans Mono',consolas,'Courier New',monospace\">/home/rcpaffenroth/projects/iterativenn/venv/lib/python3.9/site-packages/pytorch_lightning/trainer/connectors/data_\n",
       "connector.py:430: PossibleUserWarning: The dataloader, train_dataloader, does not have many workers which may be a \n",
       "bottleneck. Consider increasing the value of the `num_workers` argument` (try 32 which is the number of cpus on \n",
       "this machine) in the `DataLoader` init to improve performance.\n",
       "  rank_zero_warn(\n",
       "</pre>\n"
      ],
      "text/plain": [
       "/home/rcpaffenroth/projects/iterativenn/venv/lib/python3.9/site-packages/pytorch_lightning/trainer/connectors/data_\n",
       "connector.py:430: PossibleUserWarning: The dataloader, train_dataloader, does not have many workers which may be a \n",
       "bottleneck. Consider increasing the value of the `num_workers` argument` (try 32 which is the number of cpus on \n",
       "this machine) in the `DataLoader` init to improve performance.\n",
       "  rank_zero_warn(\n"
      ]
     },
     "metadata": {},
     "output_type": "display_data"
    },
    {
     "data": {
      "text/html": [
       "<pre style=\"white-space:pre;overflow-x:auto;line-height:normal;font-family:Menlo,'DejaVu Sans Mono',consolas,'Courier New',monospace\">/home/rcpaffenroth/projects/iterativenn/venv/lib/python3.9/site-packages/pytorch_lightning/loops/fit_loop.py:280: \n",
       "PossibleUserWarning: The number of training batches (1) is smaller than the logging interval \n",
       "Trainer(log_every_n_steps=50). Set a lower value for log_every_n_steps if you want to see logs for the training \n",
       "epoch.\n",
       "  rank_zero_warn(\n",
       "</pre>\n"
      ],
      "text/plain": [
       "/home/rcpaffenroth/projects/iterativenn/venv/lib/python3.9/site-packages/pytorch_lightning/loops/fit_loop.py:280: \n",
       "PossibleUserWarning: The number of training batches (1) is smaller than the logging interval \n",
       "Trainer(log_every_n_steps=50). Set a lower value for log_every_n_steps if you want to see logs for the training \n",
       "epoch.\n",
       "  rank_zero_warn(\n"
      ]
     },
     "metadata": {},
     "output_type": "display_data"
    },
    {
     "name": "stderr",
     "output_type": "stream",
     "text": [
      "`Trainer.fit` stopped: `max_epochs=5` reached.\n"
     ]
    },
    {
     "data": {
      "text/html": [
       "<pre style=\"white-space:pre;overflow-x:auto;line-height:normal;font-family:Menlo,'DejaVu Sans Mono',consolas,'Courier New',monospace\"></pre>\n"
      ],
      "text/plain": []
     },
     "metadata": {},
     "output_type": "display_data"
    },
    {
     "data": {
      "text/html": [
       "<pre style=\"white-space:pre;overflow-x:auto;line-height:normal;font-family:Menlo,'DejaVu Sans Mono',consolas,'Courier New',monospace\">\n",
       "</pre>\n"
      ],
      "text/plain": [
       "\n"
      ]
     },
     "metadata": {},
     "output_type": "display_data"
    },
    {
     "name": "stderr",
     "output_type": "stream",
     "text": [
      "GPU available: True (cuda), used: True\n",
      "TPU available: False, using: 0 TPU cores\n",
      "IPU available: False, using: 0 IPUs\n",
      "HPU available: False, using: 0 HPUs\n",
      "You are using a CUDA device ('NVIDIA GeForce RTX 4090') that has Tensor Cores. To properly utilize them, you should set `torch.set_float32_matmul_precision('medium' | 'high')` which will trade-off precision for performance. For more details, read https://pytorch.org/docs/stable/generated/torch.set_float32_matmul_precision.html#torch.set_float32_matmul_precision\n",
      "LOCAL_RANK: 0 - CUDA_VISIBLE_DEVICES: [0,1]\n"
     ]
    },
    {
     "name": "stdout",
     "output_type": "stream",
     "text": [
      "Time elapsed: 10.468435139977373 seconds\n"
     ]
    },
    {
     "data": {
      "text/html": [
       "<pre style=\"white-space:pre;overflow-x:auto;line-height:normal;font-family:Menlo,'DejaVu Sans Mono',consolas,'Courier New',monospace\">┏━━━┳━━━━━━━┳━━━━━━━━━━━━━━┳━━━━━━━━┓\n",
       "┃<span style=\"color: #800080; text-decoration-color: #800080; font-weight: bold\">   </span>┃<span style=\"color: #800080; text-decoration-color: #800080; font-weight: bold\"> Name  </span>┃<span style=\"color: #800080; text-decoration-color: #800080; font-weight: bold\"> Type         </span>┃<span style=\"color: #800080; text-decoration-color: #800080; font-weight: bold\"> Params </span>┃\n",
       "┡━━━╇━━━━━━━╇━━━━━━━━━━━━━━╇━━━━━━━━┩\n",
       "│<span style=\"color: #7f7f7f; text-decoration-color: #7f7f7f\"> 0 </span>│ model │ IterativeGRU │ 10.4 K │\n",
       "└───┴───────┴──────────────┴────────┘\n",
       "</pre>\n"
      ],
      "text/plain": [
       "┏━━━┳━━━━━━━┳━━━━━━━━━━━━━━┳━━━━━━━━┓\n",
       "┃\u001b[1;35m \u001b[0m\u001b[1;35m \u001b[0m\u001b[1;35m \u001b[0m┃\u001b[1;35m \u001b[0m\u001b[1;35mName \u001b[0m\u001b[1;35m \u001b[0m┃\u001b[1;35m \u001b[0m\u001b[1;35mType        \u001b[0m\u001b[1;35m \u001b[0m┃\u001b[1;35m \u001b[0m\u001b[1;35mParams\u001b[0m\u001b[1;35m \u001b[0m┃\n",
       "┡━━━╇━━━━━━━╇━━━━━━━━━━━━━━╇━━━━━━━━┩\n",
       "│\u001b[2m \u001b[0m\u001b[2m0\u001b[0m\u001b[2m \u001b[0m│ model │ IterativeGRU │ 10.4 K │\n",
       "└───┴───────┴──────────────┴────────┘\n"
      ]
     },
     "metadata": {},
     "output_type": "display_data"
    },
    {
     "data": {
      "text/html": [
       "<pre style=\"white-space:pre;overflow-x:auto;line-height:normal;font-family:Menlo,'DejaVu Sans Mono',consolas,'Courier New',monospace\"><span style=\"font-weight: bold\">Trainable params</span>: 10.4 K                                                                                           \n",
       "<span style=\"font-weight: bold\">Non-trainable params</span>: 0                                                                                            \n",
       "<span style=\"font-weight: bold\">Total params</span>: 10.4 K                                                                                               \n",
       "<span style=\"font-weight: bold\">Total estimated model params size (MB)</span>: 0                                                                          \n",
       "</pre>\n"
      ],
      "text/plain": [
       "\u001b[1mTrainable params\u001b[0m: 10.4 K                                                                                           \n",
       "\u001b[1mNon-trainable params\u001b[0m: 0                                                                                            \n",
       "\u001b[1mTotal params\u001b[0m: 10.4 K                                                                                               \n",
       "\u001b[1mTotal estimated model params size (MB)\u001b[0m: 0                                                                          \n"
      ]
     },
     "metadata": {},
     "output_type": "display_data"
    },
    {
     "data": {
      "application/vnd.jupyter.widget-view+json": {
       "model_id": "beff7c8377454c0cbd2e688eaeaf87f2",
       "version_major": 2,
       "version_minor": 0
      },
      "text/plain": [
       "Output()"
      ]
     },
     "metadata": {},
     "output_type": "display_data"
    },
    {
     "name": "stderr",
     "output_type": "stream",
     "text": [
      "`Trainer.fit` stopped: `max_epochs=5` reached.\n"
     ]
    },
    {
     "data": {
      "text/html": [
       "<pre style=\"white-space:pre;overflow-x:auto;line-height:normal;font-family:Menlo,'DejaVu Sans Mono',consolas,'Courier New',monospace\"></pre>\n"
      ],
      "text/plain": []
     },
     "metadata": {},
     "output_type": "display_data"
    },
    {
     "data": {
      "text/html": [
       "<pre style=\"white-space:pre;overflow-x:auto;line-height:normal;font-family:Menlo,'DejaVu Sans Mono',consolas,'Courier New',monospace\">\n",
       "</pre>\n"
      ],
      "text/plain": [
       "\n"
      ]
     },
     "metadata": {},
     "output_type": "display_data"
    },
    {
     "name": "stderr",
     "output_type": "stream",
     "text": [
      "GPU available: True (cuda), used: True\n",
      "TPU available: False, using: 0 TPU cores\n",
      "IPU available: False, using: 0 IPUs\n",
      "HPU available: False, using: 0 HPUs\n",
      "You are using a CUDA device ('NVIDIA GeForce RTX 4090') that has Tensor Cores. To properly utilize them, you should set `torch.set_float32_matmul_precision('medium' | 'high')` which will trade-off precision for performance. For more details, read https://pytorch.org/docs/stable/generated/torch.set_float32_matmul_precision.html#torch.set_float32_matmul_precision\n",
      "LOCAL_RANK: 0 - CUDA_VISIBLE_DEVICES: [0,1]\n"
     ]
    },
    {
     "name": "stdout",
     "output_type": "stream",
     "text": [
      "Time elapsed: 9.696498972014524 seconds\n"
     ]
    },
    {
     "data": {
      "text/html": [
       "<pre style=\"white-space:pre;overflow-x:auto;line-height:normal;font-family:Menlo,'DejaVu Sans Mono',consolas,'Courier New',monospace\">┏━━━┳━━━━━━━┳━━━━━━━━━━━━━━━┳━━━━━━━━┓\n",
       "┃<span style=\"color: #800080; text-decoration-color: #800080; font-weight: bold\">   </span>┃<span style=\"color: #800080; text-decoration-color: #800080; font-weight: bold\"> Name  </span>┃<span style=\"color: #800080; text-decoration-color: #800080; font-weight: bold\"> Type          </span>┃<span style=\"color: #800080; text-decoration-color: #800080; font-weight: bold\"> Params </span>┃\n",
       "┡━━━╇━━━━━━━╇━━━━━━━━━━━━━━━╇━━━━━━━━┩\n",
       "│<span style=\"color: #7f7f7f; text-decoration-color: #7f7f7f\"> 0 </span>│ model │ IterativeLSTM │ 10.4 K │\n",
       "└───┴───────┴───────────────┴────────┘\n",
       "</pre>\n"
      ],
      "text/plain": [
       "┏━━━┳━━━━━━━┳━━━━━━━━━━━━━━━┳━━━━━━━━┓\n",
       "┃\u001b[1;35m \u001b[0m\u001b[1;35m \u001b[0m\u001b[1;35m \u001b[0m┃\u001b[1;35m \u001b[0m\u001b[1;35mName \u001b[0m\u001b[1;35m \u001b[0m┃\u001b[1;35m \u001b[0m\u001b[1;35mType         \u001b[0m\u001b[1;35m \u001b[0m┃\u001b[1;35m \u001b[0m\u001b[1;35mParams\u001b[0m\u001b[1;35m \u001b[0m┃\n",
       "┡━━━╇━━━━━━━╇━━━━━━━━━━━━━━━╇━━━━━━━━┩\n",
       "│\u001b[2m \u001b[0m\u001b[2m0\u001b[0m\u001b[2m \u001b[0m│ model │ IterativeLSTM │ 10.4 K │\n",
       "└───┴───────┴───────────────┴────────┘\n"
      ]
     },
     "metadata": {},
     "output_type": "display_data"
    },
    {
     "data": {
      "text/html": [
       "<pre style=\"white-space:pre;overflow-x:auto;line-height:normal;font-family:Menlo,'DejaVu Sans Mono',consolas,'Courier New',monospace\"><span style=\"font-weight: bold\">Trainable params</span>: 10.4 K                                                                                           \n",
       "<span style=\"font-weight: bold\">Non-trainable params</span>: 0                                                                                            \n",
       "<span style=\"font-weight: bold\">Total params</span>: 10.4 K                                                                                               \n",
       "<span style=\"font-weight: bold\">Total estimated model params size (MB)</span>: 0                                                                          \n",
       "</pre>\n"
      ],
      "text/plain": [
       "\u001b[1mTrainable params\u001b[0m: 10.4 K                                                                                           \n",
       "\u001b[1mNon-trainable params\u001b[0m: 0                                                                                            \n",
       "\u001b[1mTotal params\u001b[0m: 10.4 K                                                                                               \n",
       "\u001b[1mTotal estimated model params size (MB)\u001b[0m: 0                                                                          \n"
      ]
     },
     "metadata": {},
     "output_type": "display_data"
    },
    {
     "data": {
      "application/vnd.jupyter.widget-view+json": {
       "model_id": "d55ad65ac4ad4bee8494bcefe181cfb5",
       "version_major": 2,
       "version_minor": 0
      },
      "text/plain": [
       "Output()"
      ]
     },
     "metadata": {},
     "output_type": "display_data"
    },
    {
     "name": "stderr",
     "output_type": "stream",
     "text": [
      "`Trainer.fit` stopped: `max_epochs=5` reached.\n"
     ]
    },
    {
     "data": {
      "text/html": [
       "<pre style=\"white-space:pre;overflow-x:auto;line-height:normal;font-family:Menlo,'DejaVu Sans Mono',consolas,'Courier New',monospace\"></pre>\n"
      ],
      "text/plain": []
     },
     "metadata": {},
     "output_type": "display_data"
    },
    {
     "data": {
      "text/html": [
       "<pre style=\"white-space:pre;overflow-x:auto;line-height:normal;font-family:Menlo,'DejaVu Sans Mono',consolas,'Courier New',monospace\">\n",
       "</pre>\n"
      ],
      "text/plain": [
       "\n"
      ]
     },
     "metadata": {},
     "output_type": "display_data"
    },
    {
     "name": "stderr",
     "output_type": "stream",
     "text": [
      "GPU available: True (cuda), used: True\n",
      "TPU available: False, using: 0 TPU cores\n",
      "IPU available: False, using: 0 IPUs\n",
      "HPU available: False, using: 0 HPUs\n",
      "You are using a CUDA device ('NVIDIA GeForce RTX 4090') that has Tensor Cores. To properly utilize them, you should set `torch.set_float32_matmul_precision('medium' | 'high')` which will trade-off precision for performance. For more details, read https://pytorch.org/docs/stable/generated/torch.set_float32_matmul_precision.html#torch.set_float32_matmul_precision\n",
      "LOCAL_RANK: 0 - CUDA_VISIBLE_DEVICES: [0,1]\n"
     ]
    },
    {
     "name": "stdout",
     "output_type": "stream",
     "text": [
      "Time elapsed: 10.01786127104424 seconds\n"
     ]
    },
    {
     "data": {
      "text/html": [
       "<pre style=\"white-space:pre;overflow-x:auto;line-height:normal;font-family:Menlo,'DejaVu Sans Mono',consolas,'Courier New',monospace\">┏━━━┳━━━━━━━┳━━━━━━━━━━━━━━┳━━━━━━━━┓\n",
       "┃<span style=\"color: #800080; text-decoration-color: #800080; font-weight: bold\">   </span>┃<span style=\"color: #800080; text-decoration-color: #800080; font-weight: bold\"> Name  </span>┃<span style=\"color: #800080; text-decoration-color: #800080; font-weight: bold\"> Type         </span>┃<span style=\"color: #800080; text-decoration-color: #800080; font-weight: bold\"> Params </span>┃\n",
       "┡━━━╇━━━━━━━╇━━━━━━━━━━━━━━╇━━━━━━━━┩\n",
       "│<span style=\"color: #7f7f7f; text-decoration-color: #7f7f7f\"> 0 </span>│ model │ Sequential1D │ 31.8 K │\n",
       "└───┴───────┴──────────────┴────────┘\n",
       "</pre>\n"
      ],
      "text/plain": [
       "┏━━━┳━━━━━━━┳━━━━━━━━━━━━━━┳━━━━━━━━┓\n",
       "┃\u001b[1;35m \u001b[0m\u001b[1;35m \u001b[0m\u001b[1;35m \u001b[0m┃\u001b[1;35m \u001b[0m\u001b[1;35mName \u001b[0m\u001b[1;35m \u001b[0m┃\u001b[1;35m \u001b[0m\u001b[1;35mType        \u001b[0m\u001b[1;35m \u001b[0m┃\u001b[1;35m \u001b[0m\u001b[1;35mParams\u001b[0m\u001b[1;35m \u001b[0m┃\n",
       "┡━━━╇━━━━━━━╇━━━━━━━━━━━━━━╇━━━━━━━━┩\n",
       "│\u001b[2m \u001b[0m\u001b[2m0\u001b[0m\u001b[2m \u001b[0m│ model │ Sequential1D │ 31.8 K │\n",
       "└───┴───────┴──────────────┴────────┘\n"
      ]
     },
     "metadata": {},
     "output_type": "display_data"
    },
    {
     "data": {
      "text/html": [
       "<pre style=\"white-space:pre;overflow-x:auto;line-height:normal;font-family:Menlo,'DejaVu Sans Mono',consolas,'Courier New',monospace\"><span style=\"font-weight: bold\">Trainable params</span>: 10.6 K                                                                                           \n",
       "<span style=\"font-weight: bold\">Non-trainable params</span>: 21.2 K                                                                                       \n",
       "<span style=\"font-weight: bold\">Total params</span>: 31.8 K                                                                                               \n",
       "<span style=\"font-weight: bold\">Total estimated model params size (MB)</span>: 0                                                                          \n",
       "</pre>\n"
      ],
      "text/plain": [
       "\u001b[1mTrainable params\u001b[0m: 10.6 K                                                                                           \n",
       "\u001b[1mNon-trainable params\u001b[0m: 21.2 K                                                                                       \n",
       "\u001b[1mTotal params\u001b[0m: 31.8 K                                                                                               \n",
       "\u001b[1mTotal estimated model params size (MB)\u001b[0m: 0                                                                          \n"
      ]
     },
     "metadata": {},
     "output_type": "display_data"
    },
    {
     "data": {
      "application/vnd.jupyter.widget-view+json": {
       "model_id": "d85fb08c40d0423589f2a44ff89f3950",
       "version_major": 2,
       "version_minor": 0
      },
      "text/plain": [
       "Output()"
      ]
     },
     "metadata": {},
     "output_type": "display_data"
    },
    {
     "name": "stderr",
     "output_type": "stream",
     "text": [
      "`Trainer.fit` stopped: `max_epochs=5` reached.\n"
     ]
    },
    {
     "data": {
      "text/html": [
       "<pre style=\"white-space:pre;overflow-x:auto;line-height:normal;font-family:Menlo,'DejaVu Sans Mono',consolas,'Courier New',monospace\"></pre>\n"
      ],
      "text/plain": []
     },
     "metadata": {},
     "output_type": "display_data"
    },
    {
     "data": {
      "text/html": [
       "<pre style=\"white-space:pre;overflow-x:auto;line-height:normal;font-family:Menlo,'DejaVu Sans Mono',consolas,'Courier New',monospace\">\n",
       "</pre>\n"
      ],
      "text/plain": [
       "\n"
      ]
     },
     "metadata": {},
     "output_type": "display_data"
    },
    {
     "name": "stderr",
     "output_type": "stream",
     "text": [
      "GPU available: True (cuda), used: True\n",
      "TPU available: False, using: 0 TPU cores\n",
      "IPU available: False, using: 0 IPUs\n",
      "HPU available: False, using: 0 HPUs\n",
      "You are using a CUDA device ('NVIDIA GeForce RTX 4090') that has Tensor Cores. To properly utilize them, you should set `torch.set_float32_matmul_precision('medium' | 'high')` which will trade-off precision for performance. For more details, read https://pytorch.org/docs/stable/generated/torch.set_float32_matmul_precision.html#torch.set_float32_matmul_precision\n",
      "LOCAL_RANK: 0 - CUDA_VISIBLE_DEVICES: [0,1]\n"
     ]
    },
    {
     "name": "stdout",
     "output_type": "stream",
     "text": [
      "Time elapsed: 9.66851232200861 seconds\n"
     ]
    },
    {
     "data": {
      "text/html": [
       "<pre style=\"white-space:pre;overflow-x:auto;line-height:normal;font-family:Menlo,'DejaVu Sans Mono',consolas,'Courier New',monospace\">┏━━━┳━━━━━━━┳━━━━━━━━━━━━━━┳━━━━━━━━┓\n",
       "┃<span style=\"color: #800080; text-decoration-color: #800080; font-weight: bold\">   </span>┃<span style=\"color: #800080; text-decoration-color: #800080; font-weight: bold\"> Name  </span>┃<span style=\"color: #800080; text-decoration-color: #800080; font-weight: bold\"> Type         </span>┃<span style=\"color: #800080; text-decoration-color: #800080; font-weight: bold\"> Params </span>┃\n",
       "┡━━━╇━━━━━━━╇━━━━━━━━━━━━━━╇━━━━━━━━┩\n",
       "│<span style=\"color: #7f7f7f; text-decoration-color: #7f7f7f\"> 0 </span>│ model │ Sequential1D │  162 K │\n",
       "└───┴───────┴──────────────┴────────┘\n",
       "</pre>\n"
      ],
      "text/plain": [
       "┏━━━┳━━━━━━━┳━━━━━━━━━━━━━━┳━━━━━━━━┓\n",
       "┃\u001b[1;35m \u001b[0m\u001b[1;35m \u001b[0m\u001b[1;35m \u001b[0m┃\u001b[1;35m \u001b[0m\u001b[1;35mName \u001b[0m\u001b[1;35m \u001b[0m┃\u001b[1;35m \u001b[0m\u001b[1;35mType        \u001b[0m\u001b[1;35m \u001b[0m┃\u001b[1;35m \u001b[0m\u001b[1;35mParams\u001b[0m\u001b[1;35m \u001b[0m┃\n",
       "┡━━━╇━━━━━━━╇━━━━━━━━━━━━━━╇━━━━━━━━┩\n",
       "│\u001b[2m \u001b[0m\u001b[2m0\u001b[0m\u001b[2m \u001b[0m│ model │ Sequential1D │  162 K │\n",
       "└───┴───────┴──────────────┴────────┘\n"
      ]
     },
     "metadata": {},
     "output_type": "display_data"
    },
    {
     "data": {
      "text/html": [
       "<pre style=\"white-space:pre;overflow-x:auto;line-height:normal;font-family:Menlo,'DejaVu Sans Mono',consolas,'Courier New',monospace\"><span style=\"font-weight: bold\">Trainable params</span>: 54.3 K                                                                                           \n",
       "<span style=\"font-weight: bold\">Non-trainable params</span>: 108 K                                                                                        \n",
       "<span style=\"font-weight: bold\">Total params</span>: 162 K                                                                                                \n",
       "<span style=\"font-weight: bold\">Total estimated model params size (MB)</span>: 0                                                                          \n",
       "</pre>\n"
      ],
      "text/plain": [
       "\u001b[1mTrainable params\u001b[0m: 54.3 K                                                                                           \n",
       "\u001b[1mNon-trainable params\u001b[0m: 108 K                                                                                        \n",
       "\u001b[1mTotal params\u001b[0m: 162 K                                                                                                \n",
       "\u001b[1mTotal estimated model params size (MB)\u001b[0m: 0                                                                          \n"
      ]
     },
     "metadata": {},
     "output_type": "display_data"
    },
    {
     "data": {
      "application/vnd.jupyter.widget-view+json": {
       "model_id": "99cbbda926f8431f87dc93b55d7ce0d8",
       "version_major": 2,
       "version_minor": 0
      },
      "text/plain": [
       "Output()"
      ]
     },
     "metadata": {},
     "output_type": "display_data"
    },
    {
     "name": "stderr",
     "output_type": "stream",
     "text": [
      "`Trainer.fit` stopped: `max_epochs=5` reached.\n"
     ]
    },
    {
     "data": {
      "text/html": [
       "<pre style=\"white-space:pre;overflow-x:auto;line-height:normal;font-family:Menlo,'DejaVu Sans Mono',consolas,'Courier New',monospace\"></pre>\n"
      ],
      "text/plain": []
     },
     "metadata": {},
     "output_type": "display_data"
    },
    {
     "data": {
      "text/html": [
       "<pre style=\"white-space:pre;overflow-x:auto;line-height:normal;font-family:Menlo,'DejaVu Sans Mono',consolas,'Courier New',monospace\">\n",
       "</pre>\n"
      ],
      "text/plain": [
       "\n"
      ]
     },
     "metadata": {},
     "output_type": "display_data"
    },
    {
     "name": "stderr",
     "output_type": "stream",
     "text": [
      "GPU available: True (cuda), used: True\n",
      "TPU available: False, using: 0 TPU cores\n",
      "IPU available: False, using: 0 IPUs\n",
      "HPU available: False, using: 0 HPUs\n",
      "You are using a CUDA device ('NVIDIA GeForce RTX 4090') that has Tensor Cores. To properly utilize them, you should set `torch.set_float32_matmul_precision('medium' | 'high')` which will trade-off precision for performance. For more details, read https://pytorch.org/docs/stable/generated/torch.set_float32_matmul_precision.html#torch.set_float32_matmul_precision\n",
      "LOCAL_RANK: 0 - CUDA_VISIBLE_DEVICES: [0,1]\n"
     ]
    },
    {
     "name": "stdout",
     "output_type": "stream",
     "text": [
      "Time elapsed: 10.041671909042634 seconds\n"
     ]
    },
    {
     "data": {
      "text/html": [
       "<pre style=\"white-space:pre;overflow-x:auto;line-height:normal;font-family:Menlo,'DejaVu Sans Mono',consolas,'Courier New',monospace\">┏━━━┳━━━━━━━┳━━━━━━━━━━━━━━┳━━━━━━━━┓\n",
       "┃<span style=\"color: #800080; text-decoration-color: #800080; font-weight: bold\">   </span>┃<span style=\"color: #800080; text-decoration-color: #800080; font-weight: bold\"> Name  </span>┃<span style=\"color: #800080; text-decoration-color: #800080; font-weight: bold\"> Type         </span>┃<span style=\"color: #800080; text-decoration-color: #800080; font-weight: bold\"> Params </span>┃\n",
       "┡━━━╇━━━━━━━╇━━━━━━━━━━━━━━╇━━━━━━━━┩\n",
       "│<span style=\"color: #7f7f7f; text-decoration-color: #7f7f7f\"> 0 </span>│ model │ Sequential1D │  219 K │\n",
       "└───┴───────┴──────────────┴────────┘\n",
       "</pre>\n"
      ],
      "text/plain": [
       "┏━━━┳━━━━━━━┳━━━━━━━━━━━━━━┳━━━━━━━━┓\n",
       "┃\u001b[1;35m \u001b[0m\u001b[1;35m \u001b[0m\u001b[1;35m \u001b[0m┃\u001b[1;35m \u001b[0m\u001b[1;35mName \u001b[0m\u001b[1;35m \u001b[0m┃\u001b[1;35m \u001b[0m\u001b[1;35mType        \u001b[0m\u001b[1;35m \u001b[0m┃\u001b[1;35m \u001b[0m\u001b[1;35mParams\u001b[0m\u001b[1;35m \u001b[0m┃\n",
       "┡━━━╇━━━━━━━╇━━━━━━━━━━━━━━╇━━━━━━━━┩\n",
       "│\u001b[2m \u001b[0m\u001b[2m0\u001b[0m\u001b[2m \u001b[0m│ model │ Sequential1D │  219 K │\n",
       "└───┴───────┴──────────────┴────────┘\n"
      ]
     },
     "metadata": {},
     "output_type": "display_data"
    },
    {
     "data": {
      "text/html": [
       "<pre style=\"white-space:pre;overflow-x:auto;line-height:normal;font-family:Menlo,'DejaVu Sans Mono',consolas,'Courier New',monospace\"><span style=\"font-weight: bold\">Trainable params</span>: 73.5 K                                                                                           \n",
       "<span style=\"font-weight: bold\">Non-trainable params</span>: 146 K                                                                                        \n",
       "<span style=\"font-weight: bold\">Total params</span>: 219 K                                                                                                \n",
       "<span style=\"font-weight: bold\">Total estimated model params size (MB)</span>: 0                                                                          \n",
       "</pre>\n"
      ],
      "text/plain": [
       "\u001b[1mTrainable params\u001b[0m: 73.5 K                                                                                           \n",
       "\u001b[1mNon-trainable params\u001b[0m: 146 K                                                                                        \n",
       "\u001b[1mTotal params\u001b[0m: 219 K                                                                                                \n",
       "\u001b[1mTotal estimated model params size (MB)\u001b[0m: 0                                                                          \n"
      ]
     },
     "metadata": {},
     "output_type": "display_data"
    },
    {
     "data": {
      "application/vnd.jupyter.widget-view+json": {
       "model_id": "ae2f77fe38424b02ad8c126cc49a9e49",
       "version_major": 2,
       "version_minor": 0
      },
      "text/plain": [
       "Output()"
      ]
     },
     "metadata": {},
     "output_type": "display_data"
    },
    {
     "name": "stderr",
     "output_type": "stream",
     "text": [
      "`Trainer.fit` stopped: `max_epochs=5` reached.\n"
     ]
    },
    {
     "data": {
      "text/html": [
       "<pre style=\"white-space:pre;overflow-x:auto;line-height:normal;font-family:Menlo,'DejaVu Sans Mono',consolas,'Courier New',monospace\"></pre>\n"
      ],
      "text/plain": []
     },
     "metadata": {},
     "output_type": "display_data"
    },
    {
     "data": {
      "text/html": [
       "<pre style=\"white-space:pre;overflow-x:auto;line-height:normal;font-family:Menlo,'DejaVu Sans Mono',consolas,'Courier New',monospace\">\n",
       "</pre>\n"
      ],
      "text/plain": [
       "\n"
      ]
     },
     "metadata": {},
     "output_type": "display_data"
    },
    {
     "name": "stdout",
     "output_type": "stream",
     "text": [
      "Time elapsed: 10.18228639906738 seconds\n"
     ]
    }
   ],
   "source": [
    "shutil.rmtree('logs/1-rcp-time-series', ignore_errors=True)\n",
    "for model_name, model in models.items():\n",
    "    \n",
    "    logger = CSVLogger(\"logs/1-rcp-time-series\", name=model_name)\n",
    "\n",
    "    trainer=pl.Trainer(logger=logger, enable_checkpointing=False, \n",
    "                       devices=1 if torch.cuda.is_available() else None,\n",
    "                       accelerator='auto',\n",
    "                       max_epochs=globals['max_epochs'], callbacks=[RichProgressBar()])\n",
    "    start_time = time.perf_counter()\n",
    "    trainer.fit(model, data_module)\n",
    "    print(f\"Time elapsed: {time.perf_counter() - start_time} seconds\")"
   ]
  },
  {
   "cell_type": "code",
   "execution_count": 17,
   "id": "7ca73644",
   "metadata": {},
   "outputs": [
    {
     "data": {
      "image/png": "[encoded data removed]",
      "text/plain": [
       "<Figure size 640x480 with 1 Axes>"
      ]
     },
     "metadata": {},
     "output_type": "display_data"
    }
   ],
   "source": [
    "plt.title('Training Loss')\n",
    "for model_name, model in models.items():\n",
    "    metrics = pd.read_csv(f'logs/1-rcp-time-series/{model_name}/version_0/metrics.csv')\n",
    "    valid_idx = ~metrics['training_loss'].isna()\n",
    "    metrics = metrics[valid_idx]\n",
    "    metrics.plot(x='epoch', y='training_loss', ax=plt.gca(), label=model_name, logy=True)"
   ]
  },
  {
   "cell_type": "code",
   "execution_count": 18,
   "id": "a79bdfc5",
   "metadata": {},
   "outputs": [
    {
     "data": {
      "image/png": "[encoded data removed]",
      "text/plain": [
       "<Figure size 640x480 with 1 Axes>"
      ]
     },
     "metadata": {},
     "output_type": "display_data"
    }
   ],
   "source": [
    "plt.title('Validation Loss')\n",
    "for model_name, model in models.items():\n",
    "    metrics = pd.read_csv(f'logs/1-rcp-time-series/{model_name}/version_0/metrics.csv')\n",
    "    valid_idx = ~metrics['validation_loss'].isna()\n",
    "    metrics = metrics[valid_idx]\n",
    "    metrics.plot(x='epoch', y='validation_loss', ax=plt.gca(), label=model_name, logy=True)"
   ]
  },
  {
   "cell_type": "code",
   "execution_count": null,
   "id": "4a94e0c5",
   "metadata": {},
   "outputs": [],
   "source": []
  }
 ],
 "metadata": {
  "jupytext": {
   "cell_metadata_filter": "-all",
   "encoding": "# coding: utf-8",
   "main_language": "python",
   "notebook_metadata_filter": "-all"
  },
  "kernelspec": {
   "display_name": "venv",
   "language": "python",
   "name": "python3"
  },
  "language_info": {
   "codemirror_mode": {
    "name": "ipython",
    "version": 3
   },
   "file_extension": ".py",
   "mimetype": "text/x-python",
   "name": "python",
   "nbconvert_exporter": "python",
   "pygments_lexer": "ipython3",
   "version": "3.9.16"
  }
 },
 "nbformat": 4,
 "nbformat_minor": 5
}
