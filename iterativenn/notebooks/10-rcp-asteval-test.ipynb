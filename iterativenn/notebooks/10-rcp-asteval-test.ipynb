{
 "cells": [
  {
   "cell_type": "code",
   "execution_count": 44,
   "metadata": {},
   "outputs": [],
   "source": [
    "import omegaconf\n",
    "from asteval import Interpreter\n",
    "aeval = Interpreter()"
   ]
  },
  {
   "cell_type": "code",
   "execution_count": 45,
   "metadata": {},
   "outputs": [],
   "source": [
    "s = \"\"\"\n",
    "callbacks:\n",
    "    loss: \n",
    "        func: CrossEntropyLoss\n",
    "        idx_list: \"asteval::range(2500, 2500+10)\"\n",
    "        sequence_position: last\n",
    "    initialization:\n",
    "        func: zeros\n",
    "        size: 2510\n",
    "    data: \n",
    "        func: insert\n",
    "        idx_list: \"asteval::range(2500)\"\n",
    "        flatten_input: True\n",
    "    output: \n",
    "        func: max\n",
    "        idx_list: \"asteval::range(2500, 2500+10)\"\n",
    "\"\"\""
   ]
  },
  {
   "cell_type": "code",
   "execution_count": 46,
   "metadata": {},
   "outputs": [],
   "source": [
    "cfg =omegaconf.OmegaConf.create(s)"
   ]
  },
  {
   "cell_type": "code",
   "execution_count": 47,
   "metadata": {},
   "outputs": [
    {
     "name": "stdout",
     "output_type": "stream",
     "text": [
      "callbacks:\n",
      "  loss:\n",
      "    func: CrossEntropyLoss\n",
      "    idx_list: asteval::range(2500, 2500+10)\n",
      "    sequence_position: last\n",
      "  initialization:\n",
      "    func: zeros\n",
      "    size: 2510\n",
      "  data:\n",
      "    func: insert\n",
      "    idx_list: asteval::range(2500)\n",
      "    flatten_input: true\n",
      "  output:\n",
      "    func: max\n",
      "    idx_list: asteval::range(2500, 2500+10)\n",
      "\n"
     ]
    }
   ],
   "source": [
    "print(omegaconf.OmegaConf.to_yaml(cfg))"
   ]
  },
  {
   "cell_type": "code",
   "execution_count": 48,
   "metadata": {},
   "outputs": [
    {
     "name": "stdout",
     "output_type": "stream",
     "text": [
      "range(2500, 2500+10)\n",
      "range(2500)\n",
      "range(2500, 2500+10)\n"
     ]
    }
   ],
   "source": [
    "dict_cfg = omegaconf.OmegaConf.to_container(cfg)\n",
    "\n",
    "def dict_asteval(dict_cfg):\n",
    "    for key, value in dict_cfg.items():\n",
    "        if isinstance(value, dict):\n",
    "            dict_asteval(value)\n",
    "        elif isinstance(value, str):\n",
    "            if value.startswith(\"asteval::\"):\n",
    "                command = value.replace(\"asteval::\", \"\")\n",
    "                print(command)\n",
    "                new_value = aeval(command)\n",
    "                dict_cfg[key] = new_value\n",
    "dict_asteval(dict_cfg)"
   ]
  },
  {
   "cell_type": "code",
   "execution_count": 49,
   "metadata": {},
   "outputs": [
    {
     "name": "stdout",
     "output_type": "stream",
     "text": [
      "{'callbacks': {'loss': {'func': 'CrossEntropyLoss', 'idx_list': range(2500, 2510), 'sequence_position': 'last'}, 'initialization': {'func': 'zeros', 'size': 2510}, 'data': {'func': 'insert', 'idx_list': range(0, 2500), 'flatten_input': True}, 'output': {'func': 'max', 'idx_list': range(2500, 2510)}}}\n"
     ]
    }
   ],
   "source": [
    "print(dict_cfg)"
   ]
  },
  {
   "cell_type": "code",
   "execution_count": null,
   "metadata": {},
   "outputs": [],
   "source": []
  }
 ],
 "metadata": {
  "kernelspec": {
   "display_name": "venv",
   "language": "python",
   "name": "python3"
  },
  "language_info": {
   "codemirror_mode": {
    "name": "ipython",
    "version": 3
   },
   "file_extension": ".py",
   "mimetype": "text/x-python",
   "name": "python",
   "nbconvert_exporter": "python",
   "pygments_lexer": "ipython3",
   "version": "3.8.10"
  },
  "orig_nbformat": 4,
  "vscode": {
   "interpreter": {
    "hash": "91c69d281b806a3add6b161e23d9089dcb392788fdbe6cdd17c006940cab5b65"
   }
  }
 },
 "nbformat": 4,
 "nbformat_minor": 2
}
