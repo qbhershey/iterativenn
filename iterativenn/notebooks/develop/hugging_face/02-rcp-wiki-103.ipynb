{
 "cells": [
  {
   "cell_type": "code",
   "execution_count": 1,
   "metadata": {},
   "outputs": [],
   "source": [
    "import torchtext"
   ]
  },
  {
   "cell_type": "code",
   "execution_count": 9,
   "metadata": {},
   "outputs": [],
   "source": [
    "data = torchtext.datasets.WikiText103(root='wiki_data', split=('train', 'valid', 'test'))\n"
   ]
  },
  {
   "cell_type": "code",
   "execution_count": 11,
   "metadata": {},
   "outputs": [
    {
     "name": "stderr",
     "output_type": "stream",
     "text": [
      "/home/rcpaffenroth/projects/iterativenn/venv/lib/python3.9/site-packages/torch/utils/data/datapipes/iter/combining.py:297: UserWarning: Some child DataPipes are not exhausted when __iter__ is called. We are resetting the buffer and each child DataPipe will read from the start again.\n",
      "  warnings.warn(\"Some child DataPipes are not exhausted when __iter__ is called. We are resetting \"\n"
     ]
    },
    {
     "name": "stdout",
     "output_type": "stream",
     "text": [
      "  \n",
      "\n",
      "  =   V a l k y r i a   C h r o n i c l e s   I I I   =   \n",
      "\n",
      "  \n",
      "\n",
      "  S e n j ō   n o   V a l k y r i a   3   :   < u n k >   C h r o n i c l e s   (   J a p a n e s e   :   戦 場 の ヴ ァ ル キ ュ リ ア 3   ,   l i t   .   V a l k y r i a   o f   t h e   B a t t l e f i e l d   3   )   ,   c o m m o n l y   r e f e r r e d   t o   a s   V a l k y r i a   C h r o n i c l e s   I I I   o u t s i d e   J a p a n   ,   i s   a   t a c t i c a l   r o l e   @ - @   p l a y i n g   v i d e o   g a m e   d e v e l o p e d   b y   S e g a   a n d   M e d i a . V i s i o n   f o r   t h e   P l a y S t a t i o n   P o r t a b l e   .   R e l e a s e d   i n   J a n u a r y   2 0 1 1   i n   J a p a n   ,   i t   i s   t h e   t h i r d   g a m e   i n   t h e   V a l k y r i a   s e r i e s   .   E m p l o y i n g   t h e   s a m e   f u s i o n   o f   t a c t i c a l   a n d   r e a l   @ - @   t i m e   g a m e p l a y   a s   i t s   p r e d e c e s s o r s   ,   t h e   s t o r y   r u n s   p a r a l l e l   t o   t h e   f i r s t   g a m e   a n d   f o l l o w s   t h e   \"   N a m e l e s s   \"   ,   a   p e n a l   m i l i t a r y   u n i t   s e r v i n g   t h e   n a t i o n   o f   G a l l i a   d u r i n g   t h e   S e c o n d   E u r o p a n   W a r   w h o   p e r f o r m   s e c r e t   b l a c k   o p e r a t i o n s   a n d   a r e   p i t t e d   a g a i n s t   t h e   I m p e r i a l   u n i t   \"   < u n k >   R a v e n   \"   .   \n",
      "\n",
      "  T h e   g a m e   b e g a n   d e v e l o p m e n t   i n   2 0 1 0   ,   c a r r y i n g   o v e r   a   l a r g e   p o r t i o n   o f   t h e   w o r k   d o n e   o n   V a l k y r i a   C h r o n i c l e s   I I   .   W h i l e   i t   r e t a i n e d   t h e   s t a n d a r d   f e a t u r e s   o f   t h e   s e r i e s   ,   i t   a l s o   u n d e r w e n t   m u l t i p l e   a d j u s t m e n t s   ,   s u c h   a s   m a k i n g   t h e   g a m e   m o r e   f o r g i v i n g   f o r   s e r i e s   n e w c o m e r s   .   C h a r a c t e r   d e s i g n e r   < u n k >   H o n j o u   a n d   c o m p o s e r   H i t o s h i   S a k i m o t o   b o t h   r e t u r n e d   f r o m   p r e v i o u s   e n t r i e s   ,   a l o n g   w i t h   V a l k y r i a   C h r o n i c l e s   I I   d i r e c t o r   T a k e s h i   O z a w a   .   A   l a r g e   t e a m   o f   w r i t e r s   h a n d l e d   t h e   s c r i p t   .   T h e   g a m e   ' s   o p e n i n g   t h e m e   w a s   s u n g   b y   M a y   ' n   .   \n",
      "\n"
     ]
    }
   ],
   "source": [
    "data_iter = iter(data[0])\n",
    "for i in range(5):\n",
    "    print(' '.join(next(data_iter)))"
   ]
  },
  {
   "cell_type": "code",
   "execution_count": 12,
   "metadata": {},
   "outputs": [
    {
     "name": "stdout",
     "output_type": "stream",
     "text": [
      "  \n",
      "\n",
      "  =   H o m a r u s   g a m m a r u s   =   \n",
      "\n",
      "  \n",
      "\n",
      "  H o m a r u s   g a m m a r u s   ,   k n o w n   a s   t h e   E u r o p e a n   l o b s t e r   o r   c o m m o n   l o b s t e r   ,   i s   a   s p e c i e s   o f   c l a w e d   l o b s t e r   f r o m   t h e   e a s t e r n   A t l a n t i c   O c e a n   ,   M e d i t e r r a n e a n   S e a   a n d   p a r t s   o f   t h e   B l a c k   S e a   .   I t   i s   c l o s e l y   r e l a t e d   t o   t h e   A m e r i c a n   l o b s t e r   ,   H .   a m e r i c a n u s   .   I t   m a y   g r o w   t o   a   l e n g t h   o f   6 0   c m   (   2 4   i n   )   a n d   a   m a s s   o f   6   k i l o g r a m s   (   1 3   l b   )   ,   a n d   b e a r s   a   c o n s p i c u o u s   p a i r   o f   c l a w s   .   I n   l i f e   ,   t h e   l o b s t e r s   a r e   b l u e   ,   o n l y   b e c o m i n g   \"   l o b s t e r   r e d   \"   o n   c o o k i n g   .   M a t i n g   o c c u r s   i n   t h e   s u m m e r   ,   p r o d u c i n g   e g g s   w h i c h   a r e   c a r r i e d   b y   t h e   f e m a l e s   f o r   u p   t o   a   y e a r   b e f o r e   h a t c h i n g   i n t o   p l a n k t o n i c   l a r v a e   .   H o m a r u s   g a m m a r u s   i s   a   h i g h l y   e s t e e m e d   f o o d   ,   a n d   i s   w i d e l y   c a u g h t   u s i n g   l o b s t e r   p o t s   ,   m o s t l y   a r o u n d   t h e   B r i t i s h   I s l e s   .   \n",
      "\n",
      "  \n",
      "\n"
     ]
    }
   ],
   "source": [
    "data_iter = iter(data[1])\n",
    "for i in range(5):\n",
    "    print(' '.join(next(data_iter)))"
   ]
  },
  {
   "cell_type": "code",
   "execution_count": null,
   "metadata": {},
   "outputs": [],
   "source": []
  }
 ],
 "metadata": {
  "kernelspec": {
   "display_name": "venv",
   "language": "python",
   "name": "python3"
  },
  "language_info": {
   "codemirror_mode": {
    "name": "ipython",
    "version": 3
   },
   "file_extension": ".py",
   "mimetype": "text/x-python",
   "name": "python",
   "nbconvert_exporter": "python",
   "pygments_lexer": "ipython3",
   "version": "3.9.16"
  },
  "orig_nbformat": 4
 },
 "nbformat": 4,
 "nbformat_minor": 2
}
