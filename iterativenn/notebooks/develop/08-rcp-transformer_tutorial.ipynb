{
  "cells": [
    {
      "cell_type": "code",
      "execution_count": 1,
      "metadata": {
        "collapsed": false
      },
      "outputs": [],
      "source": [
        "%matplotlib inline"
      ]
    },
    {
      "cell_type": "markdown",
      "metadata": {},
      "source": [
        "\n",
        "# Language Modeling with nn.Transformer and TorchText\n",
        "\n",
        "This is a tutorial on training a sequence-to-sequence model that uses the\n",
        "[nn.Transformer](https://pytorch.org/docs/stable/generated/torch.nn.Transformer.html)_ module.\n",
        "\n",
        "The PyTorch 1.2 release includes a standard transformer module based on the\n",
        "paper [Attention is All You Need](https://arxiv.org/pdf/1706.03762.pdf)_.\n",
        "Compared to Recurrent Neural Networks (RNNs), the transformer model has proven\n",
        "to be superior in quality for many sequence-to-sequence tasks while being more\n",
        "parallelizable. The ``nn.Transformer`` module relies entirely on an attention\n",
        "mechanism (implemented as\n",
        "[nn.MultiheadAttention](https://pytorch.org/docs/stable/generated/torch.nn.MultiheadAttention.html)_)\n",
        "to draw global dependencies between input and output. The ``nn.Transformer``\n",
        "module is highly modularized such that a single component (e.g.,\n",
        "[nn.TransformerEncoder](https://pytorch.org/docs/stable/generated/torch.nn.TransformerEncoder.html)_)\n",
        "can be easily adapted/composed.\n",
        "\n",
        "<img src=\"file://../_static/img/transformer_architecture.jpg\">\n"
      ]
    },
    {
      "cell_type": "markdown",
      "metadata": {},
      "source": [
        "## Define the model\n",
        "\n",
        "\n"
      ]
    },
    {
      "cell_type": "markdown",
      "metadata": {},
      "source": [
        "In this tutorial, we train a ``nn.TransformerEncoder`` model on a\n",
        "language modeling task. The language modeling task is to assign a\n",
        "probability for the likelihood of a given word (or a sequence of words)\n",
        "to follow a sequence of words. A sequence of tokens are passed to the embedding\n",
        "layer first, followed by a positional encoding layer to account for the order\n",
        "of the word (see the next paragraph for more details). The\n",
        "``nn.TransformerEncoder`` consists of multiple layers of\n",
        "[nn.TransformerEncoderLayer](https://pytorch.org/docs/stable/generated/torch.nn.TransformerEncoderLayer.html)_.\n",
        "Along with the input sequence, a square attention mask is required because the\n",
        "self-attention layers in ``nn.TransformerEncoder`` are only allowed to attend\n",
        "the earlier positions in the sequence. For the language modeling task, any\n",
        "tokens on the future positions should be masked. To produce a probability\n",
        "distribution over output words, the output of the ``nn.TransformerEncoder``\n",
        "model is passed through a linear layer followed by a log-softmax function.\n",
        "\n",
        "\n"
      ]
    },
    {
      "cell_type": "code",
      "execution_count": 2,
      "metadata": {
        "collapsed": false
      },
      "outputs": [],
      "source": [
        "import math\n",
        "from typing import Tuple\n",
        "\n",
        "import torch\n",
        "from torch import nn, Tensor\n",
        "import torch.nn.functional as F\n",
        "from torch.nn import TransformerEncoder, TransformerEncoderLayer\n",
        "from torch.utils.data import dataset\n",
        "\n",
        "class TransformerModel(nn.Module):\n",
        "\n",
        "    def __init__(self, ntoken: int, d_model: int, nhead: int, d_hid: int,\n",
        "                 nlayers: int, dropout: float = 0.5):\n",
        "        super().__init__()\n",
        "        self.model_type = 'Transformer'\n",
        "        self.pos_encoder = PositionalEncoding(d_model, dropout)\n",
        "        encoder_layers = TransformerEncoderLayer(d_model, nhead, d_hid, dropout)\n",
        "        self.transformer_encoder = TransformerEncoder(encoder_layers, nlayers)\n",
        "        self.encoder = nn.Embedding(ntoken, d_model)\n",
        "        self.d_model = d_model\n",
        "        self.decoder = nn.Linear(d_model, ntoken)\n",
        "\n",
        "        self.init_weights()\n",
        "\n",
        "    def init_weights(self) -> None:\n",
        "        initrange = 0.1\n",
        "        self.encoder.weight.data.uniform_(-initrange, initrange)\n",
        "        self.decoder.bias.data.zero_()\n",
        "        self.decoder.weight.data.uniform_(-initrange, initrange)\n",
        "\n",
        "    def forward(self, src: Tensor, src_mask: Tensor) -> Tensor:\n",
        "        \"\"\"\n",
        "        Args:\n",
        "            src: Tensor, shape [seq_len, batch_size]\n",
        "            src_mask: Tensor, shape [seq_len, seq_len]\n",
        "\n",
        "        Returns:\n",
        "            output Tensor of shape [seq_len, batch_size, ntoken]\n",
        "        \"\"\"\n",
        "        src = self.encoder(src) * math.sqrt(self.d_model)\n",
        "        src = self.pos_encoder(src)\n",
        "        output = self.transformer_encoder(src, src_mask)\n",
        "        output = self.decoder(output)\n",
        "        return output\n",
        "\n",
        "\n",
        "def generate_square_subsequent_mask(sz: int) -> Tensor:\n",
        "    \"\"\"Generates an upper-triangular matrix of -inf, with zeros on diag.\"\"\"\n",
        "    return torch.triu(torch.ones(sz, sz) * float('-inf'), diagonal=1)"
      ]
    },
    {
      "cell_type": "markdown",
      "metadata": {},
      "source": [
        "``PositionalEncoding`` module injects some information about the\n",
        "relative or absolute position of the tokens in the sequence. The\n",
        "positional encodings have the same dimension as the embeddings so that\n",
        "the two can be summed. Here, we use ``sine`` and ``cosine`` functions of\n",
        "different frequencies.\n",
        "\n",
        "\n"
      ]
    },
    {
      "cell_type": "code",
      "execution_count": 3,
      "metadata": {
        "collapsed": false
      },
      "outputs": [],
      "source": [
        "class PositionalEncoding(nn.Module):\n",
        "\n",
        "    def __init__(self, d_model: int, dropout: float = 0.1, max_len: int = 5000):\n",
        "        super().__init__()\n",
        "        self.dropout = nn.Dropout(p=dropout)\n",
        "\n",
        "        position = torch.arange(max_len).unsqueeze(1)\n",
        "        div_term = torch.exp(torch.arange(0, d_model, 2) * (-math.log(10000.0) / d_model))\n",
        "        pe = torch.zeros(max_len, 1, d_model)\n",
        "        pe[:, 0, 0::2] = torch.sin(position * div_term)\n",
        "        pe[:, 0, 1::2] = torch.cos(position * div_term)\n",
        "        self.register_buffer('pe', pe)\n",
        "\n",
        "    def forward(self, x: Tensor) -> Tensor:\n",
        "        \"\"\"\n",
        "        Args:\n",
        "            x: Tensor, shape [seq_len, batch_size, embedding_dim]\n",
        "        \"\"\"\n",
        "        x = x + self.pe[:x.size(0)]\n",
        "        return self.dropout(x)"
      ]
    },
    {
      "cell_type": "markdown",
      "metadata": {},
      "source": [
        "## Load and batch data\n",
        "\n",
        "\n"
      ]
    },
    {
      "cell_type": "markdown",
      "metadata": {},
      "source": [
        "This tutorial uses ``torchtext`` to generate Wikitext-2 dataset.\n",
        "To access torchtext datasets, please install torchdata following instructions at https://github.com/pytorch/data. \n",
        "%%"
      ]
    },
    {
      "cell_type": "code",
      "execution_count": 4,
      "metadata": {
        "collapsed": false
      },
      "outputs": [
        {
          "name": "stdout",
          "output_type": "stream",
          "text": [
            "Requirement already satisfied: torchdata in /home/rcpaffenroth/projects/iterativenn/venv/lib/python3.8/site-packages (0.4.1)\n",
            "Requirement already satisfied: urllib3>=1.25 in /home/rcpaffenroth/projects/iterativenn/venv/lib/python3.8/site-packages (from torchdata) (1.25.11)\n",
            "Requirement already satisfied: portalocker>=2.0.0 in /home/rcpaffenroth/projects/iterativenn/venv/lib/python3.8/site-packages (from torchdata) (2.6.0)\n",
            "Requirement already satisfied: requests in /home/rcpaffenroth/projects/iterativenn/venv/lib/python3.8/site-packages (from torchdata) (2.28.1)\n",
            "Requirement already satisfied: torch==1.12.1 in /home/rcpaffenroth/projects/iterativenn/venv/lib/python3.8/site-packages (from torchdata) (1.12.1+cu116)\n",
            "Requirement already satisfied: typing-extensions in /home/rcpaffenroth/projects/iterativenn/venv/lib/python3.8/site-packages (from torch==1.12.1->torchdata) (4.4.0)\n",
            "Requirement already satisfied: idna<4,>=2.5 in /home/rcpaffenroth/projects/iterativenn/venv/lib/python3.8/site-packages (from requests->torchdata) (3.4)\n",
            "Requirement already satisfied: charset-normalizer<3,>=2 in /home/rcpaffenroth/projects/iterativenn/venv/lib/python3.8/site-packages (from requests->torchdata) (2.1.1)\n",
            "Requirement already satisfied: certifi>=2017.4.17 in /home/rcpaffenroth/projects/iterativenn/venv/lib/python3.8/site-packages (from requests->torchdata) (2022.9.24)\n"
          ]
        }
      ],
      "source": [
        "%%bash\n",
        "pip install torchdata"
      ]
    },
    {
      "cell_type": "markdown",
      "metadata": {},
      "source": [
        "The vocab object is built based on the train dataset and is used to numericalize\n",
        "tokens into tensors. Wikitext-2 represents rare tokens as `<unk>`.\n",
        "\n",
        "Given a 1-D vector of sequential data, ``batchify()`` arranges the data\n",
        "into ``batch_size`` columns. If the data does not divide evenly into\n",
        "``batch_size`` columns, then the data is trimmed to fit. For instance, with\n",
        "the alphabet as the data (total length of 26) and ``batch_size=4``, we would\n",
        "divide the alphabet into 4 sequences of length 6:\n",
        "\n",
        "$$\n",
        "\\begin{align}\n",
        "  \\begin{bmatrix}\n",
        "  \\text{A} & \\text{B} & \\text{C} & \\ldots & \\text{X} & \\text{Y} & \\text{Z}\n",
        "  \\end{bmatrix}\n",
        "  \\Rightarrow\n",
        "  \\begin{bmatrix}\n",
        "  \\begin{bmatrix}\\text{A} \\\\ \\text{B} \\\\ \\text{C} \\\\ \\text{D} \\\\ \\text{E} \\\\ \\text{F}\\end{bmatrix} &\n",
        "  \\begin{bmatrix}\\text{G} \\\\ \\text{H} \\\\ \\text{I} \\\\ \\text{J} \\\\ \\text{K} \\\\ \\text{L}\\end{bmatrix} &\n",
        "  \\begin{bmatrix}\\text{M} \\\\ \\text{N} \\\\ \\text{O} \\\\ \\text{P} \\\\ \\text{Q} \\\\ \\text{R}\\end{bmatrix} &\n",
        "  \\begin{bmatrix}\\text{S} \\\\ \\text{T} \\\\ \\text{U} \\\\ \\text{V} \\\\ \\text{W} \\\\ \\text{X}\\end{bmatrix}\n",
        "  \\end{bmatrix}\n",
        "\\end{align}\n",
        "$$\n",
        "\n",
        "Batching enables more parallelizable processing. However, batching means that\n",
        "the model treats each column independently; for example, the dependence of\n",
        "``G`` and ``F`` can not be learned in the example above.\n",
        "\n",
        "\n"
      ]
    },
    {
      "cell_type": "code",
      "execution_count": 5,
      "metadata": {
        "collapsed": false
      },
      "outputs": [],
      "source": [
        "from torchtext.datasets import WikiText2\n",
        "from torchtext.data.utils import get_tokenizer\n",
        "from torchtext.vocab import build_vocab_from_iterator\n",
        "\n",
        "train_iter = WikiText2(split='train')\n",
        "tokenizer = get_tokenizer('basic_english')\n",
        "vocab = build_vocab_from_iterator(map(tokenizer, train_iter), specials=['<unk>'])\n",
        "vocab.set_default_index(vocab['<unk>']) \n",
        "\n",
        "def data_process(raw_text_iter: dataset.IterableDataset) -> Tensor:\n",
        "    \"\"\"Converts raw text into a flat Tensor.\"\"\"\n",
        "    data = [torch.tensor(vocab(tokenizer(item)), dtype=torch.long) for item in raw_text_iter]\n",
        "    return torch.cat(tuple(filter(lambda t: t.numel() > 0, data)))\n",
        "\n",
        "# train_iter was \"consumed\" by the process of building the vocab,\n",
        "# so we have to create it again\n",
        "train_iter, val_iter, test_iter = WikiText2()\n",
        "train_data = data_process(train_iter)\n",
        "val_data = data_process(val_iter)\n",
        "test_data = data_process(test_iter)\n",
        "\n",
        "device = torch.device('cuda' if torch.cuda.is_available() else 'cpu')\n",
        "\n",
        "def batchify(data: Tensor, bsz: int) -> Tensor:\n",
        "    \"\"\"Divides the data into bsz separate sequences, removing extra elements\n",
        "    that wouldn't cleanly fit.\n",
        "\n",
        "    Args:\n",
        "        data: Tensor, shape [N]\n",
        "        bsz: int, batch size\n",
        "\n",
        "    Returns:\n",
        "        Tensor of shape [N // bsz, bsz]\n",
        "    \"\"\"\n",
        "    seq_len = data.size(0) // bsz\n",
        "    data = data[:seq_len * bsz]\n",
        "    data = data.view(bsz, seq_len).t().contiguous()\n",
        "    return data.to(device)\n",
        "\n",
        "batch_size = 20\n",
        "eval_batch_size = 10\n",
        "train_data = batchify(train_data, batch_size)  # shape [seq_len, batch_size]\n",
        "val_data = batchify(val_data, eval_batch_size)\n",
        "test_data = batchify(test_data, eval_batch_size)"
      ]
    },
    {
      "cell_type": "markdown",
      "metadata": {},
      "source": [
        "### Functions to generate input and target sequence\n",
        "\n",
        "\n"
      ]
    },
    {
      "cell_type": "markdown",
      "metadata": {},
      "source": [
        "``get_batch()`` generates a pair of input-target sequences for\n",
        "the transformer model. It subdivides the source data into chunks of\n",
        "length ``bptt``. For the language modeling task, the model needs the\n",
        "following words as ``Target``. For example, with a ``bptt`` value of 2,\n",
        "we’d get the following two Variables for ``i`` = 0:\n",
        "\n",
        "<img src=\"file://../_static/img/transformer_input_target.png\">\n",
        "\n",
        "It should be noted that the chunks are along dimension 0, consistent\n",
        "with the ``S`` dimension in the Transformer model. The batch dimension\n",
        "``N`` is along dimension 1.\n",
        "\n",
        "\n"
      ]
    },
    {
      "cell_type": "code",
      "execution_count": 6,
      "metadata": {
        "collapsed": false
      },
      "outputs": [],
      "source": [
        "bptt = 35\n",
        "def get_batch(source: Tensor, i: int) -> Tuple[Tensor, Tensor]:\n",
        "    \"\"\"\n",
        "    Args:\n",
        "        source: Tensor, shape [full_seq_len, batch_size]\n",
        "        i: int\n",
        "\n",
        "    Returns:\n",
        "        tuple (data, target), where data has shape [seq_len, batch_size] and\n",
        "        target has shape [seq_len * batch_size]\n",
        "    \"\"\"\n",
        "    seq_len = min(bptt, len(source) - 1 - i)\n",
        "    data = source[i:i+seq_len]\n",
        "    target = source[i+1:i+1+seq_len].reshape(-1)\n",
        "    return data, target"
      ]
    },
    {
      "cell_type": "code",
      "execution_count": 7,
      "metadata": {},
      "outputs": [],
      "source": [
        "x,y = get_batch(train_data, 0)"
      ]
    },
    {
      "cell_type": "code",
      "execution_count": 8,
      "metadata": {},
      "outputs": [
        {
          "data": {
            "text/plain": [
              "(torch.Size([35, 20]), torch.Size([700]))"
            ]
          },
          "execution_count": 8,
          "metadata": {},
          "output_type": "execute_result"
        }
      ],
      "source": [
        "x.shape, y.shape"
      ]
    },
    {
      "cell_type": "code",
      "execution_count": 9,
      "metadata": {},
      "outputs": [
        {
          "data": {
            "text/plain": [
              "tensor([[    9,    59,   564,   223,   443],\n",
              "        [ 3849,    12,   300,  6302,  3989],\n",
              "        [ 3869,   315,    19,    29,   939],\n",
              "        [  881,    67,   807,  5402,     6],\n",
              "        [    9,   196,  6041,   190,   218],\n",
              "        [20000,    21,  6406,    14,     3],\n",
              "        [   83,     8,     2,  1019,  1817],\n",
              "        [ 3849,   236,    52,  5067,    50],\n",
              "        [   88,   152,  3054,    29,   214],\n",
              "        [    0,  1526,   265,   591,     8],\n",
              "        [ 3869,    19,     1,    13,   620],\n",
              "        [   21, 17322,  4347,     1,   299],\n",
              "        [  780, 10360,     4,   519,     6],\n",
              "        [28780,    20,   695,    47,     1],\n",
              "        [    2,     3,     5,   306,  1247],\n",
              "        [ 6182,    16,  1226,   330,   166],\n",
              "        [    3,    85, 14195,     3,     4],\n",
              "        [ 3849,     2,     6,  5695,     1],\n",
              "        [    4,   665,  8138,    13,   291],\n",
              "        [    1,    10,     3,     1,   152],\n",
              "        [ 5023,     1,  1850,   291,  1146],\n",
              "        [   88,    68,     4,  8102,   233],\n",
              "        [   20,  1646,     1,     7,    21],\n",
              "        [    2,   285,    54,   215,     5],\n",
              "        [ 1837,     7,  1846,   109,   152],\n",
              "        [ 1018,   231,    10,    22,     1],\n",
              "        [    7,     6,  2959,     3,  2064],\n",
              "        [   14,    59,     6,    22,   131],\n",
              "        [ 3849,  4309,   960,    88,  9695],\n",
              "        [ 3869,   193,     2,   164,     2],\n",
              "        [  881,     2,    79,     3,    50],\n",
              "        [  629,  1042,    10,     6,    51],\n",
              "        [  976,     6,    30,     1,     1],\n",
              "        [    2,  4465, 10537,     0,  1693],\n",
              "        [   23,     4,     4,     0,     4]], device='cuda:0')"
            ]
          },
          "execution_count": 9,
          "metadata": {},
          "output_type": "execute_result"
        }
      ],
      "source": [
        "x[:,0:5]"
      ]
    },
    {
      "cell_type": "code",
      "execution_count": 10,
      "metadata": {},
      "outputs": [
        {
          "data": {
            "text/plain": [
              "['or',\n",
              " 'killed',\n",
              " 'for',\n",
              " 'zoos',\n",
              " ',',\n",
              " 'museums',\n",
              " 'and',\n",
              " 'collectors',\n",
              " '.',\n",
              " 'most',\n",
              " 'captured',\n",
              " 'specimens',\n",
              " 'died',\n",
              " 'within',\n",
              " 'months',\n",
              " '.',\n",
              " 'from',\n",
              " 'at',\n",
              " 'least',\n",
              " 'the',\n",
              " '1870s',\n",
              " ',',\n",
              " 'collectors',\n",
              " 'knew',\n",
              " 'the',\n",
              " 'kakapo',\n",
              " 'population',\n",
              " 'was',\n",
              " 'declining',\n",
              " 'their',\n",
              " 'prime',\n",
              " 'concern',\n",
              " 'was',\n",
              " 'to',\n",
              " 'collect']"
            ]
          },
          "execution_count": 10,
          "metadata": {},
          "output_type": "execute_result"
        }
      ],
      "source": [
        "vocab.lookup_tokens(list(x[:,15]))"
      ]
    },
    {
      "cell_type": "code",
      "execution_count": 11,
      "metadata": {},
      "outputs": [
        {
          "data": {
            "text/plain": [
              "['killed']"
            ]
          },
          "execution_count": 11,
          "metadata": {},
          "output_type": "execute_result"
        }
      ],
      "source": [
        "vocab.lookup_tokens([y[15]])"
      ]
    },
    {
      "cell_type": "markdown",
      "metadata": {},
      "source": [
        "## Initiate an instance\n",
        "\n",
        "\n"
      ]
    },
    {
      "cell_type": "markdown",
      "metadata": {},
      "source": [
        "The model hyperparameters are defined below. The vocab size is\n",
        "equal to the length of the vocab object.\n",
        "\n",
        "\n"
      ]
    },
    {
      "cell_type": "code",
      "execution_count": 12,
      "metadata": {
        "collapsed": false
      },
      "outputs": [],
      "source": [
        "ntokens = len(vocab)  # size of vocabulary\n",
        "emsize = 200  # embedding dimension\n",
        "d_hid = 200  # dimension of the feedforward network model in nn.TransformerEncoder\n",
        "nlayers = 2  # number of nn.TransformerEncoderLayer in nn.TransformerEncoder\n",
        "nhead = 2  # number of heads in nn.MultiheadAttention\n",
        "dropout = 0.2  # dropout probability\n",
        "model = TransformerModel(ntokens, emsize, nhead, d_hid, nlayers, dropout).to(device)"
      ]
    },
    {
      "cell_type": "markdown",
      "metadata": {},
      "source": [
        "## Run the model\n",
        "\n",
        "\n"
      ]
    },
    {
      "cell_type": "markdown",
      "metadata": {},
      "source": [
        "We use [CrossEntropyLoss](https://pytorch.org/docs/stable/generated/torch.nn.CrossEntropyLoss.html)_\n",
        "with the [SGD](https://pytorch.org/docs/stable/generated/torch.optim.SGD.html)_\n",
        "(stochastic gradient descent) optimizer. The learning rate is initially set to\n",
        "5.0 and follows a [StepLR](https://pytorch.org/docs/stable/generated/torch.optim.lr_scheduler.StepLR.html)_\n",
        "schedule. During training, we use [nn.utils.clip_grad_norm\\_](https://pytorch.org/docs/stable/generated/torch.nn.utils.clip_grad_norm_.html)_\n",
        "to prevent gradients from exploding.\n",
        "\n",
        "\n"
      ]
    },
    {
      "cell_type": "code",
      "execution_count": 13,
      "metadata": {
        "collapsed": false
      },
      "outputs": [],
      "source": [
        "import copy\n",
        "import time\n",
        "\n",
        "criterion = nn.CrossEntropyLoss()\n",
        "lr = 5.0  # learning rate\n",
        "optimizer = torch.optim.SGD(model.parameters(), lr=lr)\n",
        "scheduler = torch.optim.lr_scheduler.StepLR(optimizer, 1.0, gamma=0.95)\n",
        "\n",
        "def train(model: nn.Module, print_data=False) -> None:\n",
        "    model.train()  # turn on train mode\n",
        "    total_loss = 0.\n",
        "    log_interval = 200\n",
        "    start_time = time.time()\n",
        "    src_mask = generate_square_subsequent_mask(bptt).to(device)\n",
        "\n",
        "    num_batches = len(train_data) // bptt\n",
        "    for batch, i in enumerate(range(0, train_data.size(0) - 1, bptt)):\n",
        "        data, targets = get_batch(train_data, i)\n",
        "        seq_len = data.size(0)\n",
        "        if seq_len != bptt:  # only on last batch\n",
        "            src_mask = src_mask[:seq_len, :seq_len]\n",
        "        output = model(data, src_mask)\n",
        "        if print_data:\n",
        "            print('data', data)\n",
        "            print('output', output)\n",
        "            print('targets', targets)\n",
        "        loss = criterion(output.view(-1, ntokens), targets)\n",
        "\n",
        "        optimizer.zero_grad()\n",
        "        loss.backward()\n",
        "        torch.nn.utils.clip_grad_norm_(model.parameters(), 0.5)\n",
        "        optimizer.step()\n",
        "\n",
        "        total_loss += loss.item()\n",
        "        if batch % log_interval == 0 and batch > 0:\n",
        "            lr = scheduler.get_last_lr()[0]\n",
        "            ms_per_batch = (time.time() - start_time) * 1000 / log_interval\n",
        "            cur_loss = total_loss / log_interval\n",
        "            ppl = math.exp(cur_loss)\n",
        "            print(f'| epoch {epoch:3d} | {batch:5d}/{num_batches:5d} batches | '\n",
        "                  f'lr {lr:02.2f} | ms/batch {ms_per_batch:5.2f} | '\n",
        "                  f'loss {cur_loss:5.2f} | ppl {ppl:8.2f}')\n",
        "            total_loss = 0\n",
        "            start_time = time.time()\n",
        "\n",
        "def evaluate(model: nn.Module, eval_data: Tensor) -> float:\n",
        "    model.eval()  # turn on evaluation mode\n",
        "    total_loss = 0.\n",
        "    src_mask = generate_square_subsequent_mask(bptt).to(device)\n",
        "    with torch.no_grad():\n",
        "        for i in range(0, eval_data.size(0) - 1, bptt):\n",
        "            data, targets = get_batch(eval_data, i)\n",
        "            seq_len = data.size(0)\n",
        "            if seq_len != bptt:\n",
        "                src_mask = src_mask[:seq_len, :seq_len]\n",
        "            output = model(data, src_mask)\n",
        "            output_flat = output.view(-1, ntokens)\n",
        "            total_loss += seq_len * criterion(output_flat, targets).item()\n",
        "    return total_loss / (len(eval_data) - 1)"
      ]
    },
    {
      "cell_type": "markdown",
      "metadata": {},
      "source": [
        "Loop over epochs. Save the model if the validation loss is the best\n",
        "we've seen so far. Adjust the learning rate after each epoch.\n",
        "\n"
      ]
    },
    {
      "cell_type": "code",
      "execution_count": 14,
      "metadata": {
        "collapsed": false
      },
      "outputs": [
        {
          "name": "stdout",
          "output_type": "stream",
          "text": [
            "| epoch   1 |   200/ 2928 batches | lr 5.00 | ms/batch 29.92 | loss  8.20 | ppl  3630.99\n",
            "| epoch   1 |   400/ 2928 batches | lr 5.00 | ms/batch 23.61 | loss  6.90 | ppl   989.78\n",
            "| epoch   1 |   600/ 2928 batches | lr 5.00 | ms/batch 23.86 | loss  6.45 | ppl   633.41\n",
            "| epoch   1 |   800/ 2928 batches | lr 5.00 | ms/batch 24.15 | loss  6.31 | ppl   550.92\n",
            "| epoch   1 |  1000/ 2928 batches | lr 5.00 | ms/batch 23.15 | loss  6.21 | ppl   497.55\n",
            "| epoch   1 |  1200/ 2928 batches | lr 5.00 | ms/batch 23.38 | loss  6.17 | ppl   476.00\n",
            "| epoch   1 |  1400/ 2928 batches | lr 5.00 | ms/batch 23.40 | loss  6.12 | ppl   455.00\n",
            "| epoch   1 |  1600/ 2928 batches | lr 5.00 | ms/batch 23.22 | loss  6.11 | ppl   450.33\n",
            "| epoch   1 |  1800/ 2928 batches | lr 5.00 | ms/batch 23.47 | loss  6.03 | ppl   416.02\n",
            "| epoch   1 |  2000/ 2928 batches | lr 5.00 | ms/batch 23.19 | loss  6.03 | ppl   414.08\n",
            "| epoch   1 |  2200/ 2928 batches | lr 5.00 | ms/batch 23.77 | loss  5.90 | ppl   365.91\n",
            "| epoch   1 |  2400/ 2928 batches | lr 5.00 | ms/batch 23.49 | loss  5.97 | ppl   392.81\n",
            "| epoch   1 |  2600/ 2928 batches | lr 5.00 | ms/batch 24.38 | loss  5.97 | ppl   390.30\n",
            "| epoch   1 |  2800/ 2928 batches | lr 5.00 | ms/batch 23.34 | loss  5.89 | ppl   360.45\n",
            "-----------------------------------------------------------------------------------------\n",
            "| end of epoch   1 | time: 73.04s | valid loss  5.81 | valid ppl   334.61\n",
            "-----------------------------------------------------------------------------------------\n",
            "| epoch   2 |   200/ 2928 batches | lr 4.75 | ms/batch 23.73 | loss  5.87 | ppl   353.74\n",
            "| epoch   2 |   400/ 2928 batches | lr 4.75 | ms/batch 24.41 | loss  5.86 | ppl   351.21\n",
            "| epoch   2 |   600/ 2928 batches | lr 4.75 | ms/batch 25.60 | loss  5.68 | ppl   291.98\n",
            "| epoch   2 |   800/ 2928 batches | lr 4.75 | ms/batch 23.83 | loss  5.71 | ppl   302.16\n",
            "| epoch   2 |  1000/ 2928 batches | lr 4.75 | ms/batch 24.03 | loss  5.67 | ppl   290.06\n",
            "| epoch   2 |  1200/ 2928 batches | lr 4.75 | ms/batch 23.19 | loss  5.69 | ppl   295.95\n",
            "| epoch   2 |  1400/ 2928 batches | lr 4.75 | ms/batch 23.50 | loss  5.70 | ppl   298.45\n",
            "| epoch   2 |  1600/ 2928 batches | lr 4.75 | ms/batch 23.25 | loss  5.72 | ppl   304.24\n",
            "| epoch   2 |  1800/ 2928 batches | lr 4.75 | ms/batch 23.35 | loss  5.66 | ppl   287.86\n",
            "| epoch   2 |  2000/ 2928 batches | lr 4.75 | ms/batch 23.28 | loss  5.67 | ppl   290.13\n",
            "| epoch   2 |  2200/ 2928 batches | lr 4.75 | ms/batch 23.31 | loss  5.56 | ppl   259.71\n",
            "| epoch   2 |  2400/ 2928 batches | lr 4.75 | ms/batch 23.61 | loss  5.66 | ppl   286.33\n",
            "| epoch   2 |  2600/ 2928 batches | lr 4.75 | ms/batch 23.30 | loss  5.66 | ppl   286.78\n",
            "| epoch   2 |  2800/ 2928 batches | lr 4.75 | ms/batch 23.32 | loss  5.59 | ppl   268.15\n",
            "-----------------------------------------------------------------------------------------\n",
            "| end of epoch   2 | time: 72.10s | valid loss  5.70 | valid ppl   300.02\n",
            "-----------------------------------------------------------------------------------------\n",
            "| epoch   3 |   200/ 2928 batches | lr 4.51 | ms/batch 23.46 | loss  5.61 | ppl   272.77\n",
            "| epoch   3 |   400/ 2928 batches | lr 4.51 | ms/batch 23.37 | loss  5.63 | ppl   278.34\n",
            "| epoch   3 |   600/ 2928 batches | lr 4.51 | ms/batch 23.59 | loss  5.44 | ppl   230.13\n",
            "| epoch   3 |   800/ 2928 batches | lr 4.51 | ms/batch 23.67 | loss  5.50 | ppl   243.94\n",
            "| epoch   3 |  1000/ 2928 batches | lr 4.51 | ms/batch 24.90 | loss  5.45 | ppl   232.06\n",
            "| epoch   3 |  1200/ 2928 batches | lr 4.51 | ms/batch 29.99 | loss  5.49 | ppl   241.77\n",
            "| epoch   3 |  1400/ 2928 batches | lr 4.51 | ms/batch 23.59 | loss  5.50 | ppl   244.88\n",
            "| epoch   3 |  1600/ 2928 batches | lr 4.51 | ms/batch 27.39 | loss  5.53 | ppl   251.45\n",
            "| epoch   3 |  1800/ 2928 batches | lr 4.51 | ms/batch 23.35 | loss  5.48 | ppl   238.87\n",
            "| epoch   3 |  2000/ 2928 batches | lr 4.51 | ms/batch 23.30 | loss  5.50 | ppl   244.26\n",
            "| epoch   3 |  2200/ 2928 batches | lr 4.51 | ms/batch 23.38 | loss  5.37 | ppl   215.41\n",
            "| epoch   3 |  2400/ 2928 batches | lr 4.51 | ms/batch 25.72 | loss  5.49 | ppl   241.55\n",
            "| epoch   3 |  2600/ 2928 batches | lr 4.51 | ms/batch 24.58 | loss  5.48 | ppl   240.07\n",
            "| epoch   3 |  2800/ 2928 batches | lr 4.51 | ms/batch 23.89 | loss  5.41 | ppl   224.39\n",
            "-----------------------------------------------------------------------------------------\n",
            "| end of epoch   3 | time: 74.48s | valid loss  5.56 | valid ppl   260.00\n",
            "-----------------------------------------------------------------------------------------\n"
          ]
        }
      ],
      "source": [
        "best_val_loss = float('inf')\n",
        "epochs = 3\n",
        "best_model = None\n",
        "\n",
        "for epoch in range(1, epochs + 1):\n",
        "    epoch_start_time = time.time()\n",
        "    train(model)\n",
        "    val_loss = evaluate(model, val_data)\n",
        "    val_ppl = math.exp(val_loss)\n",
        "    elapsed = time.time() - epoch_start_time\n",
        "    print('-' * 89)\n",
        "    print(f'| end of epoch {epoch:3d} | time: {elapsed:5.2f}s | '\n",
        "          f'valid loss {val_loss:5.2f} | valid ppl {val_ppl:8.2f}')\n",
        "    print('-' * 89)\n",
        "\n",
        "    if val_loss < best_val_loss:\n",
        "        best_val_loss = val_loss\n",
        "        best_model = copy.deepcopy(model)\n",
        "\n",
        "    scheduler.step()"
      ]
    },
    {
      "cell_type": "markdown",
      "metadata": {},
      "source": [
        "## Evaluate the best model on the test dataset\n",
        "\n",
        "\n"
      ]
    },
    {
      "cell_type": "code",
      "execution_count": 15,
      "metadata": {
        "collapsed": false
      },
      "outputs": [
        {
          "name": "stdout",
          "output_type": "stream",
          "text": [
            "=========================================================================================\n",
            "| End of training | test loss  5.47 | test ppl   237.56\n",
            "=========================================================================================\n"
          ]
        }
      ],
      "source": [
        "test_loss = evaluate(best_model, test_data)\n",
        "test_ppl = math.exp(test_loss)\n",
        "print('=' * 89)\n",
        "print(f'| End of training | test loss {test_loss:5.2f} | '\n",
        "      f'test ppl {test_ppl:8.2f}')\n",
        "print('=' * 89)"
      ]
    },
    {
      "cell_type": "markdown",
      "metadata": {},
      "source": [
        "# Printing data"
      ]
    },
    {
      "cell_type": "code",
      "execution_count": 20,
      "metadata": {},
      "outputs": [
        {
          "data": {
            "text/plain": [
              "torch.Size([24185, 10, 200])"
            ]
          },
          "execution_count": 20,
          "metadata": {},
          "output_type": "execute_result"
        }
      ],
      "source": [
        "model.encoder(test_data).shape"
      ]
    },
    {
      "cell_type": "code",
      "execution_count": null,
      "metadata": {},
      "outputs": [],
      "source": []
    }
  ],
  "metadata": {
    "kernelspec": {
      "display_name": "Python 3.10.6 ('venv': venv)",
      "language": "python",
      "name": "python3"
    },
    "language_info": {
      "codemirror_mode": {
        "name": "ipython",
        "version": 3
      },
      "file_extension": ".py",
      "mimetype": "text/x-python",
      "name": "python",
      "nbconvert_exporter": "python",
      "pygments_lexer": "ipython3",
      "version": "3.8.10"
    },
    "vscode": {
      "interpreter": {
        "hash": "91c69d281b806a3add6b161e23d9089dcb392788fdbe6cdd17c006940cab5b65"
      }
    }
  },
  "nbformat": 4,
  "nbformat_minor": 0
}
