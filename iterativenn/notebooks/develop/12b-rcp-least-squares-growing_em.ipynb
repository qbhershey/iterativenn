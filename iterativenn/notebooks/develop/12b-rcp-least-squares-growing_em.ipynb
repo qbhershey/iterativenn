{
 "cells": [
  {
   "attachments": {},
   "cell_type": "markdown",
   "metadata": {},
   "source": [
    "# Load libaries"
   ]
  },
  {
   "cell_type": "code",
   "execution_count": 1,
   "metadata": {
    "execution": {
     "iopub.execute_input": "2023-03-05T17:41:48.031168Z",
     "iopub.status.busy": "2023-03-05T17:41:48.030789Z",
     "iopub.status.idle": "2023-03-05T17:41:49.890136Z",
     "shell.execute_reply": "2023-03-05T17:41:49.889724Z"
    }
   },
   "outputs": [],
   "source": [
    "import pandas as pd\n",
    "import matplotlib.pylab as plt\n",
    "import torch\n",
    "from torchmetrics import MeanSquaredError\n",
    "from iterativenn.nn_modules.Sequential1D import Sequential1D\n",
    "import pytorch_lightning as pl\n",
    "from scipy.signal import savgol_filter\n",
    "\n",
    "from iterativenn.utils.model_factory import ModelFactory_callback"
   ]
  },
  {
   "attachments": {},
   "cell_type": "markdown",
   "metadata": {},
   "source": [
    "# Introduction"
   ]
  },
  {
   "attachments": {},
   "cell_type": "markdown",
   "metadata": {},
   "source": [
    "This notebook is intended to be, in as simple a way as possible, a demonstration of growing an INN from a least squares problem.  There will be three solutions here:\n",
    "\n",
    "1.  The least squares solution\n",
    "2.  A classic MLP solution\n",
    "3.  An INN solution grown from the least squares solution\n",
    "\n",
    "We will get several benefits from this:\n",
    "\n",
    "1.  This will be a baseline solution to any problem that can be phrased as a mapping from X to Y (e.g., MNIST, EM, graphs, etc.)\n",
    "2.  It will be a sanity check on the MLP and INN solutions.  I.e., they should be able to learn the same thing as the least squares solution, if not better.\n",
    "3.  It will be a starting place for any student working on similar problems. \n"
   ]
  },
  {
   "attachments": {},
   "cell_type": "markdown",
   "metadata": {},
   "source": [
    "# Preliminaries"
   ]
  },
  {
   "attachments": {},
   "cell_type": "markdown",
   "metadata": {},
   "source": [
    "We want this notebook to be as simple and as general as possible, so all problem dependent code will be here."
   ]
  },
  {
   "cell_type": "code",
   "execution_count": 2,
   "metadata": {
    "execution": {
     "iopub.execute_input": "2023-03-05T17:41:49.892679Z",
     "iopub.status.busy": "2023-03-05T17:41:49.892516Z",
     "iopub.status.idle": "2023-03-05T17:41:49.899407Z",
     "shell.execute_reply": "2023-03-05T17:41:49.899102Z"
    }
   },
   "outputs": [],
   "source": [
    "X_orig_train = torch.load('/home/rcpaffenroth/projects/collaborators/students/mia/XTrain.pt')\n",
    "Y_orig_train = torch.load('/home/rcpaffenroth/projects/collaborators/students/mia/yTrain.pt')\n",
    "X_orig_test = torch.load('/home/rcpaffenroth/projects/collaborators/students/mia/XTest.pt')\n",
    "Y_orig_test = torch.load('/home/rcpaffenroth/projects/collaborators/students/mia/yTest.pt')\n",
    "\n",
    "# Training size\n",
    "# To make things faster, we'll only use a subset of the data\n",
    "train_size = X_orig_train.shape[0]\n",
    "test_size = X_orig_test.shape[0]\n",
    "\n",
    "# the batch size to use for all trained models\n",
    "batch_size = 1024\n",
    "optimizer_factory = torch.optim.RMSprop\n",
    "\n",
    "# Max epochs for all trained models\n",
    "Trained_LS_max_epochs = 5000\n",
    "MLP_max_epochs = 5000\n",
    "INN_max_epochs = 5000\n",
    "\n",
    "# learning rate for all trained models\n",
    "Trained_LS_learning_rate = 0.01*200\n",
    "MLP_learning_rate = 0.01\n",
    "INN_learning_rate = 0.01\n",
    "\n",
    "# Note, the first and last later sizes are fixed by the number of columns in X and Y\n",
    "MLP_layer_sizes = [X_orig_train.shape[1], 100, 70, 60, 40, 20, Y_orig_train.shape[1]]\n",
    "MLP_activation = torch.nn.ELU()\n",
    "\n",
    "# number of hidden values in the INN\n",
    "INN_hidden_size = 112\n",
    "# number of hidden values in the INN\n",
    "INN_iterations = 3\n",
    "# activation function for the INN\n",
    "INN_activation = 'ELU'\n"
   ]
  },
  {
   "cell_type": "code",
   "execution_count": 3,
   "metadata": {
    "execution": {
     "iopub.execute_input": "2023-03-05T17:41:49.900856Z",
     "iopub.status.busy": "2023-03-05T17:41:49.900733Z",
     "iopub.status.idle": "2023-03-05T17:41:49.902491Z",
     "shell.execute_reply": "2023-03-05T17:41:49.902211Z"
    }
   },
   "outputs": [],
   "source": [
    "# data for the final summary\n",
    "summary = []"
   ]
  },
  {
   "attachments": {},
   "cell_type": "markdown",
   "metadata": {},
   "source": [
    "# Setup"
   ]
  },
  {
   "attachments": {},
   "cell_type": "markdown",
   "metadata": {},
   "source": [
    "We do some basic setup and sanity checks."
   ]
  },
  {
   "cell_type": "code",
   "execution_count": 4,
   "metadata": {
    "execution": {
     "iopub.execute_input": "2023-03-05T17:41:49.903889Z",
     "iopub.status.busy": "2023-03-05T17:41:49.903718Z",
     "iopub.status.idle": "2023-03-05T17:41:49.905823Z",
     "shell.execute_reply": "2023-03-05T17:41:49.905547Z"
    }
   },
   "outputs": [],
   "source": [
    "# We have the correct number of training and test samples\n",
    "assert X_orig_train.shape[0] == Y_orig_train.shape[0]\n",
    "assert X_orig_test.shape[0] == Y_orig_test.shape[0]\n",
    "\n",
    "# We have the same number of features in the training and test sets\n",
    "assert X_orig_train.shape[1] == X_orig_test.shape[1]\n",
    "assert Y_orig_train.shape[1] == Y_orig_test.shape[1]"
   ]
  },
  {
   "cell_type": "code",
   "execution_count": 5,
   "metadata": {
    "execution": {
     "iopub.execute_input": "2023-03-05T17:41:49.907085Z",
     "iopub.status.busy": "2023-03-05T17:41:49.906923Z",
     "iopub.status.idle": "2023-03-05T17:41:49.909285Z",
     "shell.execute_reply": "2023-03-05T17:41:49.908995Z"
    }
   },
   "outputs": [
    {
     "name": "stdout",
     "output_type": "stream",
     "text": [
      "training data orig shape:\n",
      "X torch.Size([13040, 160])\n",
      "Y torch.Size([13040, 1])\n",
      "testing data orig shape:\n",
      "X torch.Size([3260, 160])\n",
      "Y torch.Size([3260, 1])\n"
     ]
    }
   ],
   "source": [
    "print('training data orig shape:')\n",
    "print (f'X {X_orig_train.shape}')\n",
    "print (f'Y {Y_orig_train.shape}')\n",
    "\n",
    "print('testing data orig shape:')\n",
    "print (f'X {X_orig_test.shape}')\n",
    "print (f'Y {Y_orig_test.shape}')"
   ]
  },
  {
   "cell_type": "code",
   "execution_count": 6,
   "metadata": {
    "execution": {
     "iopub.execute_input": "2023-03-05T17:41:49.927614Z",
     "iopub.status.busy": "2023-03-05T17:41:49.927397Z",
     "iopub.status.idle": "2023-03-05T17:41:49.931385Z",
     "shell.execute_reply": "2023-03-05T17:41:49.930984Z"
    }
   },
   "outputs": [],
   "source": [
    "perm = torch.randperm(X_orig_train.shape[0])\n",
    "idx = perm[:train_size]\n",
    "X_train = X_orig_train[idx, :]\n",
    "Y_train = Y_orig_train[idx, :]"
   ]
  },
  {
   "cell_type": "code",
   "execution_count": 7,
   "metadata": {
    "execution": {
     "iopub.execute_input": "2023-03-05T17:41:49.932941Z",
     "iopub.status.busy": "2023-03-05T17:41:49.932671Z",
     "iopub.status.idle": "2023-03-05T17:41:49.935268Z",
     "shell.execute_reply": "2023-03-05T17:41:49.934944Z"
    }
   },
   "outputs": [],
   "source": [
    "perm = torch.randperm(X_orig_test.shape[0])\n",
    "idx = perm[:test_size]\n",
    "X_test = X_orig_test[idx, :]\n",
    "Y_test = Y_orig_test[idx, :]"
   ]
  },
  {
   "cell_type": "code",
   "execution_count": 8,
   "metadata": {
    "execution": {
     "iopub.execute_input": "2023-03-05T17:41:49.936746Z",
     "iopub.status.busy": "2023-03-05T17:41:49.936520Z",
     "iopub.status.idle": "2023-03-05T17:41:49.938936Z",
     "shell.execute_reply": "2023-03-05T17:41:49.938663Z"
    }
   },
   "outputs": [
    {
     "name": "stdout",
     "output_type": "stream",
     "text": [
      "training data shape:\n",
      "X torch.Size([13040, 160])\n",
      "Y torch.Size([13040, 1])\n",
      "testing data shape:\n",
      "X torch.Size([3260, 160])\n",
      "Y torch.Size([3260, 1])\n"
     ]
    }
   ],
   "source": [
    "print('training data shape:')\n",
    "print (f'X {X_train.shape}')\n",
    "print (f'Y {Y_train.shape}')\n",
    "\n",
    "print('testing data shape:')\n",
    "print (f'X {X_test.shape}')\n",
    "print (f'Y {Y_test.shape}')"
   ]
  },
  {
   "attachments": {},
   "cell_type": "markdown",
   "metadata": {},
   "source": [
    "# Functions"
   ]
  },
  {
   "cell_type": "code",
   "execution_count": 9,
   "metadata": {
    "execution": {
     "iopub.execute_input": "2023-03-05T17:41:49.940275Z",
     "iopub.status.busy": "2023-03-05T17:41:49.940073Z",
     "iopub.status.idle": "2023-03-05T17:41:49.943048Z",
     "shell.execute_reply": "2023-03-05T17:41:49.942785Z"
    }
   },
   "outputs": [],
   "source": [
    "def least_squares(X, Y, device=None, dtype=None):\n",
    "    \"\"\"\n",
    "    Returns a Linear object that is the least squares solution to the problem X -> Y.\n",
    "    This function initializes the initial weights \"weight_0\" and the update \"U\" \n",
    "    to be the optimal least squares solution to the linear regression problem\n",
    "    which maps the input X to the output Y.  This is done by computing\n",
    "\n",
    "    :math:`\n",
    "        XW=Y\\\\\n",
    "        X^T X W = X^T Y \\\\\n",
    "        (X^T X)^{-1} X^T X W = (X^T X)^{-1} X^T Y \\\\\n",
    "        W = (X^T X)^{-1} X^T Y \n",
    "    `\n",
    "    Args:\n",
    "    X: A tensor of shape (N, D) where N is the number of samples and D is the number of features.\n",
    "    Y: A tensor of shape (N, K) where N is the number of samples and K is the number of outputs.\n",
    "    device: The device to use for the Linear object.\n",
    "    dtype: The dtype to use for the Linear object.\n",
    "    \"\"\"\n",
    "    X_size = X.shape[1]\n",
    "    Y_size = Y.shape[1]\n",
    "    A = torch.nn.Linear(in_features=X_size, out_features=Y_size, bias=False, device=device, dtype=dtype)\n",
    "    with torch.no_grad():\n",
    "        W_init = (torch.inverse(X.T @ X)@X.T@Y).T\n",
    "        # The requires_grad=Fase is important, otherwise the gradient will be computed when we don't want it to.\n",
    "        A.weight[:, :] = W_init\n",
    "    mse_loss = torch.nn.MSELoss()\n",
    "    loss = mse_loss(A(X), Y) \n",
    "    A.losses = [float(loss)] * 1000\n",
    "    return A"
   ]
  },
  {
   "cell_type": "code",
   "execution_count": 10,
   "metadata": {
    "execution": {
     "iopub.execute_input": "2023-03-05T17:41:49.944304Z",
     "iopub.status.busy": "2023-03-05T17:41:49.944091Z",
     "iopub.status.idle": "2023-03-05T17:41:49.946423Z",
     "shell.execute_reply": "2023-03-05T17:41:49.946143Z"
    }
   },
   "outputs": [],
   "source": [
    "def to_1D(Z):\n",
    "    \"\"\"Given a tensor Z, returns a 1D tensor with the same number of rows as Z,\n",
    "    but with each row projected onto a single column.\n",
    "\n",
    "    Args:\n",
    "        Z (Tensor): the possibly multi-dimensional tensor to project onto a single dimension.\n",
    "\n",
    "    Returns:\n",
    "        Tensor : A 1D projection of Z.\n",
    "    \"\"\"\n",
    "    Z = Z.detach()\n",
    "    if Z.shape[1] == 1:\n",
    "        return Z.reshape(-1)\n",
    "    else:\n",
    "        U,S,V = torch.pca_lowrank(Z)\n",
    "        Z_1D = torch.matmul(Z, V[:, :1])\n",
    "        return Z_1D.reshape(-1)"
   ]
  },
  {
   "cell_type": "code",
   "execution_count": 11,
   "metadata": {
    "execution": {
     "iopub.execute_input": "2023-03-05T17:41:49.947626Z",
     "iopub.status.busy": "2023-03-05T17:41:49.947427Z",
     "iopub.status.idle": "2023-03-05T17:41:49.950338Z",
     "shell.execute_reply": "2023-03-05T17:41:49.950061Z"
    }
   },
   "outputs": [],
   "source": [
    "class LitModule(pl.LightningModule):\n",
    "    def __init__(self, module, learning_rate):\n",
    "        super().__init__()\n",
    "        self.module = module\n",
    "        self.in_features = module.in_features\n",
    "        self.out_features = module.out_features\n",
    "        self.learning_rate = learning_rate\n",
    "        self.losses = []\n",
    "    \n",
    "    def forward(self, X):\n",
    "        return self.module(X)\n",
    "\n",
    "    def training_step(self, batch, batch_idx):\n",
    "        X,Y = batch\n",
    "        Y_hat = self.module(X)\n",
    "        # Both are training on the MSE loss (not RMSE)\n",
    "        loss = torch.nn.functional.mse_loss(Y_hat, Y)\n",
    "        self.losses.append(float(loss))\n",
    "        return loss\n",
    "    \n",
    "    def configure_optimizers(self):\n",
    "        optimizer = optimizer_factory(self.parameters(), lr=self.learning_rate)\n",
    "        return optimizer"
   ]
  },
  {
   "cell_type": "code",
   "execution_count": 12,
   "metadata": {
    "execution": {
     "iopub.execute_input": "2023-03-05T17:41:49.951610Z",
     "iopub.status.busy": "2023-03-05T17:41:49.951403Z",
     "iopub.status.idle": "2023-03-05T17:41:49.955222Z",
     "shell.execute_reply": "2023-03-05T17:41:49.954948Z"
    }
   },
   "outputs": [],
   "source": [
    "class LitIteratedModule(pl.LightningModule):\n",
    "    def __init__(self, module, callbacks, learning_rate, iterations=1):\n",
    "        super().__init__()\n",
    "        self.module = module\n",
    "        self.callbacks = callbacks\n",
    "        self.learning_rate = learning_rate\n",
    "        self.iterations = iterations\n",
    "        self.losses = []\n",
    "    \n",
    "    def forward(self, X):\n",
    "        Z = self.callbacks.initialization(X.device, rows=X.shape[0])\n",
    "        Z = self.callbacks.data(Z, X, 0, None)\n",
    "        for i in range(self.iterations):\n",
    "            Z = self.module(Z)\n",
    "        return self.callbacks.output(Z, 0, None, None)\n",
    "\n",
    "    def training_step(self, batch, batch_idx):\n",
    "        X,Y = batch\n",
    "        Z = self.callbacks.initialization(X.device, rows=X.shape[0])\n",
    "        Z = self.callbacks.data(Z, X, 0, None)\n",
    "        # Note, the lost is returned for every iteration.\n",
    "        # Sometimes it might be 0 (e.g., when loss type is 'last')\n",
    "        loss = 0\n",
    "        for i in range(self.iterations):\n",
    "            Z = self.module(Z)        \n",
    "            # Both are training on the MSE loss (not RMSE)\n",
    "            loss += self.callbacks.loss(Z, Y, i, range(self.iterations))\n",
    "        self.losses.append(float(loss))\n",
    "        return loss    \n",
    "\n",
    "    def configure_optimizers(self):\n",
    "        optimizer = optimizer_factory(self.parameters(), lr=self.learning_rate)\n",
    "        return optimizer"
   ]
  },
  {
   "cell_type": "code",
   "execution_count": 13,
   "metadata": {
    "execution": {
     "iopub.execute_input": "2023-03-05T17:41:49.956609Z",
     "iopub.status.busy": "2023-03-05T17:41:49.956392Z",
     "iopub.status.idle": "2023-03-05T17:41:49.960258Z",
     "shell.execute_reply": "2023-03-05T17:41:49.959976Z"
    }
   },
   "outputs": [],
   "source": [
    "def get_cfg(previous_module, grow_weight_std=0.01, m=X_train.shape[1], n=Y_train.shape[1], k=INN_hidden_size):\n",
    "    default_kwargs = {'block_type':'W', 'initialization_type':f'G=0.0,{grow_weight_std}', 'trainable':True, 'bias':False}\n",
    "    default_kwargs_0 = {'block_type':'W', 'initialization_type':f'G=0.0,0.0', 'trainable':True, 'bias':False}\n",
    "\n",
    "    default_module = 'MaskedLinear.from_description'\n",
    "    print(f'predicted INN_trainable_params: {m*k+2*n*k+k**2}')\n",
    "    cfg = {\n",
    "        \"model_type\": \"sequential2D\",   \n",
    "        \"in_features_list\": [m, n, k], \n",
    "        \"out_features_list\": [m, n, k], \n",
    "\n",
    "        \"activations\" : ['Identity', 'Identity', INN_activation],\n",
    "        \"activation_sizes\" : [m, n, k],\n",
    "        \"callbacks\": {\n",
    "            \"loss\": {\n",
    "                \"func\": \"MSELoss\",\n",
    "                \"idx_list\" : range(m, m+n),\n",
    "                # Change this to 'all' to use all the losses during the iteration\n",
    "                # \"sequence_position\": 'all',\n",
    "                \"sequence_position\": 'last',\n",
    "            },\n",
    "            \"initialization\": {\n",
    "                \"func\": \"zeros\",\n",
    "                \"size\": m+n+k,\n",
    "            },\n",
    "            \"data\": {\n",
    "                \"func\": \"insert\",\n",
    "                \"idx_list\": range(0, m),\n",
    "                \"flatten_input\": False,\n",
    "            },\n",
    "            \"output\": {\n",
    "                \"func\": \"all\",\n",
    "                \"idx_list\" : range(m, m+n)\n",
    "            },\n",
    "        }\n",
    "    }\n",
    "    cfg[\"block_types\"] = [\n",
    "            ['Identity',     'Module',       default_module],\n",
    "            [None,           None,           default_module],\n",
    "            [None,           default_module, default_module]]\n",
    "    cfg[\"block_kwargs\"] = [\n",
    "            [None,           {'module':previous_module, 'trainable': False}, default_kwargs],\n",
    "            [None,           None,                                           default_kwargs],\n",
    "            [None,           default_kwargs_0,                                 default_kwargs]]\n",
    "    return cfg"
   ]
  },
  {
   "cell_type": "code",
   "execution_count": 14,
   "metadata": {
    "execution": {
     "iopub.execute_input": "2023-03-05T17:41:49.961598Z",
     "iopub.status.busy": "2023-03-05T17:41:49.961388Z",
     "iopub.status.idle": "2023-03-05T17:41:49.964338Z",
     "shell.execute_reply": "2023-03-05T17:41:49.964060Z"
    }
   },
   "outputs": [],
   "source": [
    "def evaluate_modules(modules, names, X_train=X_train, Y_train=Y_train, X_test=X_test, Y_test=Y_test):\n",
    "    legends_error = []\n",
    "    legends_loss = []\n",
    "    rmse = MeanSquaredError(squared=False)\n",
    "    f, ax = plt.subplots(ncols=2, figsize=(12, 6))\n",
    "    for module, name in zip(modules, names):\n",
    "        # ax[0].plot(to_1D(Y_train), to_1D(module(X_train)), '.')\n",
    "        # legends_error.append(f'{name} Train')\n",
    "        # ax[0].plot(to_1D(Y_test), to_1D(module(X_test)), '.')\n",
    "        # legends_error.append(f'{name} Test')\n",
    "        # print(f'{name} Training error : {rmse(module(X_train), Y_train).item()}')\n",
    "        # print(f'{name} Testing error : {rmse(module(X_test), Y_test).item()}')\n",
    "        ax[1].semilogy(module.losses)\n",
    "        legends_loss.append(name)\n",
    "        # y = savgol_filter(module.losses, 1000, 1)\n",
    "        # ax[1].plot(y)\n",
    "        # legends_loss.append(name+' (smoothed)')\n",
    "        # ax[1].set_ylim(0,2)\n",
    "\n",
    "    ax[0].set_xlabel('True')\n",
    "    ax[0].set_ylabel('Predicted')\n",
    "    ax[0].legend(legends_error)\n",
    "    ax[1].set_xlabel('Step')\n",
    "    ax[1].set_ylabel('Loss')\n",
    "    ax[1].legend(legends_loss)\n",
    "\n",
    "    f.tight_layout()"
   ]
  },
  {
   "cell_type": "code",
   "execution_count": 15,
   "metadata": {
    "execution": {
     "iopub.execute_input": "2023-03-05T17:41:49.965661Z",
     "iopub.status.busy": "2023-03-05T17:41:49.965473Z",
     "iopub.status.idle": "2023-03-05T17:41:49.967747Z",
     "shell.execute_reply": "2023-03-05T17:41:49.967500Z"
    }
   },
   "outputs": [],
   "source": [
    "def train_module(module, max_epochs):\n",
    "    dataset = torch.utils.data.TensorDataset(X_train, Y_train)\n",
    "    train_dataloader = torch.utils.data.DataLoader(dataset, batch_size=batch_size, shuffle=True)\n",
    "    trainer = pl.Trainer(max_epochs=max_epochs,\n",
    "                         devices=1 if torch.cuda.is_available() else None,\n",
    "                         accelerator='auto')\n",
    "    torch.set_num_threads(1)\n",
    "    trainer.fit(model=module, train_dataloaders=train_dataloader)"
   ]
  },
  {
   "attachments": {},
   "cell_type": "markdown",
   "metadata": {},
   "source": [
    "# Least squares solution"
   ]
  },
  {
   "cell_type": "code",
   "execution_count": 16,
   "metadata": {
    "execution": {
     "iopub.execute_input": "2023-03-05T17:41:49.969143Z",
     "iopub.status.busy": "2023-03-05T17:41:49.968957Z",
     "iopub.status.idle": "2023-03-05T17:41:49.981438Z",
     "shell.execute_reply": "2023-03-05T17:41:49.981085Z"
    }
   },
   "outputs": [],
   "source": [
    "least_squares_module = least_squares(X_train, Y_train)"
   ]
  },
  {
   "cell_type": "code",
   "execution_count": 17,
   "metadata": {
    "execution": {
     "iopub.execute_input": "2023-03-05T17:41:49.983124Z",
     "iopub.status.busy": "2023-03-05T17:41:49.982961Z",
     "iopub.status.idle": "2023-03-05T17:41:50.289418Z",
     "shell.execute_reply": "2023-03-05T17:41:50.289090Z"
    }
   },
   "outputs": [
    {
     "data": {
      "image/png": "[encoded data removed]",
      "text/plain": [
       "<Figure size 1200x600 with 2 Axes>"
      ]
     },
     "metadata": {},
     "output_type": "display_data"
    }
   ],
   "source": [
    "evaluate_modules([least_squares_module], ['Least Squares'])"
   ]
  },
  {
   "cell_type": "code",
   "execution_count": 18,
   "metadata": {
    "execution": {
     "iopub.execute_input": "2023-03-05T17:41:50.290893Z",
     "iopub.status.busy": "2023-03-05T17:41:50.290752Z",
     "iopub.status.idle": "2023-03-05T17:41:50.292872Z",
     "shell.execute_reply": "2023-03-05T17:41:50.292583Z"
    }
   },
   "outputs": [],
   "source": [
    "summary_dict = {}\n",
    "summary_dict['module'] = least_squares_module\n",
    "summary_dict['name'] = 'Least Squares'\n",
    "summary_dict['trainable parameters'] = 0\n",
    "summary.append(summary_dict)"
   ]
  },
  {
   "attachments": {},
   "cell_type": "markdown",
   "metadata": {},
   "source": [
    "# Trained least squares solution"
   ]
  },
  {
   "cell_type": "code",
   "execution_count": 19,
   "metadata": {
    "execution": {
     "iopub.execute_input": "2023-03-05T17:41:50.294305Z",
     "iopub.status.busy": "2023-03-05T17:41:50.294180Z",
     "iopub.status.idle": "2023-03-05T17:41:50.296658Z",
     "shell.execute_reply": "2023-03-05T17:41:50.296361Z"
    }
   },
   "outputs": [],
   "source": [
    "# Sequential1D is just a wrapper around nn.Sequential that\n",
    "# records the input and output sizes of the network.  This is useful\n",
    "# for the INN solution below as the MLP can be used as a block in an INN.\n",
    "# However, the as far as this part is concerned, it is identical to nn.Sequential.\n",
    "trained_least_squares = Sequential1D(in_features=MLP_layer_sizes[0],\n",
    "                                     out_features=MLP_layer_sizes[-1]) \n",
    "\n",
    "trained_least_squares.add_module('linear0', torch.nn.Linear(X_train.shape[1], Y_train.shape[1], bias=False))\n",
    "trained_least_squares_module = LitModule(trained_least_squares, learning_rate=Trained_LS_learning_rate)"
   ]
  },
  {
   "cell_type": "code",
   "execution_count": 20,
   "metadata": {
    "execution": {
     "iopub.execute_input": "2023-03-05T17:41:50.298062Z",
     "iopub.status.busy": "2023-03-05T17:41:50.297829Z",
     "iopub.status.idle": "2023-03-05T17:47:30.036039Z",
     "shell.execute_reply": "2023-03-05T17:47:30.035748Z"
    }
   },
   "outputs": [
    {
     "name": "stderr",
     "output_type": "stream",
     "text": [
      "GPU available: True (cuda), used: True\n",
      "TPU available: False, using: 0 TPU cores\n",
      "IPU available: False, using: 0 IPUs\n",
      "HPU available: False, using: 0 HPUs\n",
      "LOCAL_RANK: 0 - CUDA_VISIBLE_DEVICES: [0,1]\n",
      "\n",
      "  | Name   | Type         | Params\n",
      "----------------------------------------\n",
      "0 | module | Sequential1D | 160   \n",
      "----------------------------------------\n",
      "160       Trainable params\n",
      "0         Non-trainable params\n",
      "160       Total params\n",
      "0.001     Total estimated model params size (MB)\n",
      "/home/rcpaffenroth/projects/iterativenn/venv/lib/python3.8/site-packages/pytorch_lightning/trainer/connectors/data_connector.py:224: PossibleUserWarning: The dataloader, train_dataloader, does not have many workers which may be a bottleneck. Consider increasing the value of the `num_workers` argument` (try 32 which is the number of cpus on this machine) in the `DataLoader` init to improve performance.\n",
      "  rank_zero_warn(\n",
      "/home/rcpaffenroth/projects/iterativenn/venv/lib/python3.8/site-packages/pytorch_lightning/trainer/trainer.py:1595: PossibleUserWarning: The number of training batches (13) is smaller than the logging interval Trainer(log_every_n_steps=50). Set a lower value for log_every_n_steps if you want to see logs for the training epoch.\n",
      "  rank_zero_warn(\n"
     ]
    },
    {
     "data": {
      "application/vnd.jupyter.widget-view+json": {
       "model_id": "72a4741b6c1a4cbcb1ffdc148c68db78",
       "version_major": 2,
       "version_minor": 0
      },
      "text/plain": [
       "Training: 0it [00:00, ?it/s]"
      ]
     },
     "metadata": {},
     "output_type": "display_data"
    },
    {
     "name": "stderr",
     "output_type": "stream",
     "text": [
      "`Trainer.fit` stopped: `max_epochs=5000` reached.\n"
     ]
    }
   ],
   "source": [
    "train_module(trained_least_squares_module, Trained_LS_max_epochs)"
   ]
  },
  {
   "cell_type": "code",
   "execution_count": 21,
   "metadata": {
    "execution": {
     "iopub.execute_input": "2023-03-05T17:47:30.037536Z",
     "iopub.status.busy": "2023-03-05T17:47:30.037423Z",
     "iopub.status.idle": "2023-03-05T17:47:30.365856Z",
     "shell.execute_reply": "2023-03-05T17:47:30.365484Z"
    }
   },
   "outputs": [
    {
     "data": {
      "image/png": "[encoded data removed]",
      "text/plain": [
       "<Figure size 1200x600 with 2 Axes>"
      ]
     },
     "metadata": {},
     "output_type": "display_data"
    }
   ],
   "source": [
    "evaluate_modules([least_squares_module, trained_least_squares_module], ['Least Squares', 'Trained Least Squares'])"
   ]
  },
  {
   "cell_type": "code",
   "execution_count": 22,
   "metadata": {
    "execution": {
     "iopub.execute_input": "2023-03-05T17:47:30.367243Z",
     "iopub.status.busy": "2023-03-05T17:47:30.367132Z",
     "iopub.status.idle": "2023-03-05T17:47:30.369719Z",
     "shell.execute_reply": "2023-03-05T17:47:30.369449Z"
    }
   },
   "outputs": [],
   "source": [
    "summary_dict = {}\n",
    "summary_dict['module'] = trained_least_squares_module\n",
    "summary_dict['name'] = 'Trained Least Squares'\n",
    "summary_dict['trainable parameters'] = sum(p.numel() for p in summary_dict['module'].parameters() if p.requires_grad)\n",
    "summary.append(summary_dict)"
   ]
  },
  {
   "attachments": {},
   "cell_type": "markdown",
   "metadata": {},
   "source": [
    "# MLP solution"
   ]
  },
  {
   "cell_type": "code",
   "execution_count": 23,
   "metadata": {
    "execution": {
     "iopub.execute_input": "2023-03-05T17:47:30.371258Z",
     "iopub.status.busy": "2023-03-05T17:47:30.370985Z",
     "iopub.status.idle": "2023-03-05T17:47:30.374043Z",
     "shell.execute_reply": "2023-03-05T17:47:30.373775Z"
    }
   },
   "outputs": [],
   "source": [
    "# Sequential1D is just a wrapper around nn.Sequential that\n",
    "# records the input and output sizes of the network.  This is useful\n",
    "# for the INN solution below as the MLP can be used as a block in an INN.\n",
    "# However, the as far as this part is concerned, it is identical to nn.Sequential.\n",
    "mlp = Sequential1D(in_features=MLP_layer_sizes[0],\n",
    "                   out_features=MLP_layer_sizes[-1]) \n",
    "\n",
    "for i in range(len(MLP_layer_sizes)-1):\n",
    "    mlp.add_module(f'linear{i}', \n",
    "                   torch.nn.Linear(MLP_layer_sizes[i], MLP_layer_sizes[i+1]))\n",
    "    # always end with a linear layer\n",
    "    if i < len(MLP_layer_sizes)-2:        \n",
    "        mlp.add_module(f'activation{i}', \n",
    "                       MLP_activation)\n",
    "mlp_module = LitModule(mlp, MLP_learning_rate)\n"
   ]
  },
  {
   "cell_type": "code",
   "execution_count": 24,
   "metadata": {
    "execution": {
     "iopub.execute_input": "2023-03-05T17:47:30.375283Z",
     "iopub.status.busy": "2023-03-05T17:47:30.375181Z",
     "iopub.status.idle": "2023-03-05T17:54:14.321854Z",
     "shell.execute_reply": "2023-03-05T17:54:14.321558Z"
    }
   },
   "outputs": [
    {
     "name": "stderr",
     "output_type": "stream",
     "text": [
      "GPU available: True (cuda), used: True\n",
      "TPU available: False, using: 0 TPU cores\n",
      "IPU available: False, using: 0 IPUs\n",
      "HPU available: False, using: 0 HPUs\n",
      "LOCAL_RANK: 0 - CUDA_VISIBLE_DEVICES: [0,1]\n",
      "\n",
      "  | Name   | Type         | Params\n",
      "----------------------------------------\n",
      "0 | module | Sequential1D | 30.7 K\n",
      "----------------------------------------\n",
      "30.7 K    Trainable params\n",
      "0         Non-trainable params\n",
      "30.7 K    Total params\n",
      "0.123     Total estimated model params size (MB)\n"
     ]
    },
    {
     "data": {
      "application/vnd.jupyter.widget-view+json": {
       "model_id": "c1b73b5c892e4b25899eb34e94a78bd0",
       "version_major": 2,
       "version_minor": 0
      },
      "text/plain": [
       "Training: 0it [00:00, ?it/s]"
      ]
     },
     "metadata": {},
     "output_type": "display_data"
    },
    {
     "name": "stderr",
     "output_type": "stream",
     "text": [
      "`Trainer.fit` stopped: `max_epochs=5000` reached.\n"
     ]
    }
   ],
   "source": [
    "train_module(mlp_module, MLP_max_epochs)"
   ]
  },
  {
   "cell_type": "code",
   "execution_count": 25,
   "metadata": {
    "execution": {
     "iopub.execute_input": "2023-03-05T17:54:14.323255Z",
     "iopub.status.busy": "2023-03-05T17:54:14.323145Z",
     "iopub.status.idle": "2023-03-05T17:54:14.723483Z",
     "shell.execute_reply": "2023-03-05T17:54:14.723121Z"
    }
   },
   "outputs": [
    {
     "data": {
      "image/png": "[encoded data removed]",
      "text/plain": [
       "<Figure size 1200x600 with 2 Axes>"
      ]
     },
     "metadata": {},
     "output_type": "display_data"
    }
   ],
   "source": [
    "evaluate_modules([least_squares_module, mlp_module], ['Least Squares', 'MLP'])"
   ]
  },
  {
   "cell_type": "code",
   "execution_count": 26,
   "metadata": {
    "execution": {
     "iopub.execute_input": "2023-03-05T17:54:14.725108Z",
     "iopub.status.busy": "2023-03-05T17:54:14.724994Z",
     "iopub.status.idle": "2023-03-05T17:54:14.727349Z",
     "shell.execute_reply": "2023-03-05T17:54:14.727085Z"
    }
   },
   "outputs": [],
   "source": [
    "summary_dict = {}\n",
    "summary_dict['module'] = mlp_module\n",
    "summary_dict['name'] = 'MLP'\n",
    "summary_dict['trainable parameters'] = sum(p.numel() for p in summary_dict['module'].parameters() if p.requires_grad)\n",
    "summary.append(summary_dict)"
   ]
  },
  {
   "attachments": {},
   "cell_type": "markdown",
   "metadata": {},
   "source": [
    "# INN solution, least squares grown"
   ]
  },
  {
   "cell_type": "code",
   "execution_count": 27,
   "metadata": {
    "execution": {
     "iopub.execute_input": "2023-03-05T17:54:14.728805Z",
     "iopub.status.busy": "2023-03-05T17:54:14.728685Z",
     "iopub.status.idle": "2023-03-05T17:54:14.744304Z",
     "shell.execute_reply": "2023-03-05T17:54:14.744015Z"
    }
   },
   "outputs": [
    {
     "name": "stdout",
     "output_type": "stream",
     "text": [
      "predicted INN_trainable_params: 30688\n"
     ]
    }
   ],
   "source": [
    "module = ModelFactory_callback(get_cfg(least_squares_module))\n",
    "inn_LS_grown_module = LitIteratedModule(module.model, module.callbacks, INN_learning_rate, iterations=INN_iterations)"
   ]
  },
  {
   "cell_type": "code",
   "execution_count": 28,
   "metadata": {
    "execution": {
     "iopub.execute_input": "2023-03-05T17:54:14.745801Z",
     "iopub.status.busy": "2023-03-05T17:54:14.745630Z",
     "iopub.status.idle": "2023-03-05T18:04:58.745485Z",
     "shell.execute_reply": "2023-03-05T18:04:58.744952Z"
    }
   },
   "outputs": [
    {
     "name": "stderr",
     "output_type": "stream",
     "text": [
      "GPU available: True (cuda), used: True\n",
      "TPU available: False, using: 0 TPU cores\n",
      "IPU available: False, using: 0 IPUs\n",
      "HPU available: False, using: 0 HPUs\n",
      "LOCAL_RANK: 0 - CUDA_VISIBLE_DEVICES: [0,1]\n",
      "\n",
      "  | Name   | Type         | Params\n",
      "----------------------------------------\n",
      "0 | module | Sequential1D | 92.2 K\n",
      "----------------------------------------\n",
      "30.7 K    Trainable params\n",
      "61.5 K    Non-trainable params\n",
      "92.2 K    Total params\n",
      "0.369     Total estimated model params size (MB)\n"
     ]
    },
    {
     "data": {
      "application/vnd.jupyter.widget-view+json": {
       "model_id": "ffd9d12831074bb1825124d4da1b73e9",
       "version_major": 2,
       "version_minor": 0
      },
      "text/plain": [
       "Training: 0it [00:00, ?it/s]"
      ]
     },
     "metadata": {},
     "output_type": "display_data"
    },
    {
     "name": "stderr",
     "output_type": "stream",
     "text": [
      "`Trainer.fit` stopped: `max_epochs=5000` reached.\n"
     ]
    }
   ],
   "source": [
    "train_module(inn_LS_grown_module, INN_max_epochs)"
   ]
  },
  {
   "cell_type": "code",
   "execution_count": 29,
   "metadata": {
    "execution": {
     "iopub.execute_input": "2023-03-05T18:04:58.748077Z",
     "iopub.status.busy": "2023-03-05T18:04:58.747812Z",
     "iopub.status.idle": "2023-03-05T18:04:59.223402Z",
     "shell.execute_reply": "2023-03-05T18:04:59.222821Z"
    }
   },
   "outputs": [
    {
     "data": {
      "image/png": "[encoded data removed]",
      "text/plain": [
       "<Figure size 1200x600 with 2 Axes>"
      ]
     },
     "metadata": {},
     "output_type": "display_data"
    }
   ],
   "source": [
    "evaluate_modules([mlp_module, inn_LS_grown_module], ['MLP', 'INN LS Grown'])"
   ]
  },
  {
   "cell_type": "code",
   "execution_count": 30,
   "metadata": {
    "execution": {
     "iopub.execute_input": "2023-03-05T18:04:59.226782Z",
     "iopub.status.busy": "2023-03-05T18:04:59.226574Z",
     "iopub.status.idle": "2023-03-05T18:04:59.229850Z",
     "shell.execute_reply": "2023-03-05T18:04:59.229453Z"
    }
   },
   "outputs": [],
   "source": [
    "summary_dict = {}\n",
    "summary_dict['module'] = inn_LS_grown_module\n",
    "summary_dict['name'] = 'INN LS Grown'\n",
    "summary_dict['trainable parameters'] = sum(p.numel() for p in summary_dict['module'].parameters() if p.requires_grad)\n",
    "summary.append(summary_dict)"
   ]
  },
  {
   "attachments": {},
   "cell_type": "markdown",
   "metadata": {},
   "source": [
    "# INN solution, trained least squares grown"
   ]
  },
  {
   "cell_type": "code",
   "execution_count": 31,
   "metadata": {
    "execution": {
     "iopub.execute_input": "2023-03-05T18:04:59.231403Z",
     "iopub.status.busy": "2023-03-05T18:04:59.231298Z",
     "iopub.status.idle": "2023-03-05T18:04:59.246902Z",
     "shell.execute_reply": "2023-03-05T18:04:59.246364Z"
    }
   },
   "outputs": [
    {
     "name": "stdout",
     "output_type": "stream",
     "text": [
      "predicted INN_trainable_params: 30688\n"
     ]
    }
   ],
   "source": [
    "module = ModelFactory_callback(get_cfg(trained_least_squares))\n",
    "inn_trained_LS_grown_module = LitIteratedModule(module.model, module.callbacks, INN_learning_rate, iterations=INN_iterations)"
   ]
  },
  {
   "cell_type": "code",
   "execution_count": 32,
   "metadata": {
    "execution": {
     "iopub.execute_input": "2023-03-05T18:04:59.248937Z",
     "iopub.status.busy": "2023-03-05T18:04:59.248826Z",
     "iopub.status.idle": "2023-03-05T18:15:36.318480Z",
     "shell.execute_reply": "2023-03-05T18:15:36.318163Z"
    }
   },
   "outputs": [
    {
     "name": "stderr",
     "output_type": "stream",
     "text": [
      "GPU available: True (cuda), used: True\n",
      "TPU available: False, using: 0 TPU cores\n",
      "IPU available: False, using: 0 IPUs\n",
      "HPU available: False, using: 0 HPUs\n",
      "LOCAL_RANK: 0 - CUDA_VISIBLE_DEVICES: [0,1]\n",
      "\n",
      "  | Name   | Type         | Params\n",
      "----------------------------------------\n",
      "0 | module | Sequential1D | 92.2 K\n",
      "----------------------------------------\n",
      "30.7 K    Trainable params\n",
      "61.5 K    Non-trainable params\n",
      "92.2 K    Total params\n",
      "0.369     Total estimated model params size (MB)\n"
     ]
    },
    {
     "data": {
      "application/vnd.jupyter.widget-view+json": {
       "model_id": "9f1d0fc719df4555a5ad0b3d4fa0405a",
       "version_major": 2,
       "version_minor": 0
      },
      "text/plain": [
       "Training: 0it [00:00, ?it/s]"
      ]
     },
     "metadata": {},
     "output_type": "display_data"
    },
    {
     "name": "stderr",
     "output_type": "stream",
     "text": [
      "`Trainer.fit` stopped: `max_epochs=5000` reached.\n"
     ]
    }
   ],
   "source": [
    "train_module(inn_trained_LS_grown_module, INN_max_epochs)"
   ]
  },
  {
   "cell_type": "code",
   "execution_count": 33,
   "metadata": {
    "execution": {
     "iopub.execute_input": "2023-03-05T18:15:36.320836Z",
     "iopub.status.busy": "2023-03-05T18:15:36.320566Z",
     "iopub.status.idle": "2023-03-05T18:15:36.921051Z",
     "shell.execute_reply": "2023-03-05T18:15:36.920678Z"
    }
   },
   "outputs": [
    {
     "data": {
      "image/png": "[encoded data removed]",
      "text/plain": [
       "<Figure size 1200x600 with 2 Axes>"
      ]
     },
     "metadata": {},
     "output_type": "display_data"
    }
   ],
   "source": [
    "evaluate_modules([mlp_module, inn_trained_LS_grown_module], ['MLP', 'INN trained LS Grown'])"
   ]
  },
  {
   "cell_type": "code",
   "execution_count": 34,
   "metadata": {
    "execution": {
     "iopub.execute_input": "2023-03-05T18:15:36.923062Z",
     "iopub.status.busy": "2023-03-05T18:15:36.922797Z",
     "iopub.status.idle": "2023-03-05T18:15:36.926099Z",
     "shell.execute_reply": "2023-03-05T18:15:36.925816Z"
    }
   },
   "outputs": [],
   "source": [
    "summary_dict = {}\n",
    "summary_dict['module'] = inn_trained_LS_grown_module\n",
    "summary_dict['name'] = 'INN Trained Least Squares'\n",
    "summary_dict['trainable parameters'] = sum(p.numel() for p in summary_dict['module'].parameters() if p.requires_grad)\n",
    "summary.append(summary_dict)"
   ]
  },
  {
   "attachments": {},
   "cell_type": "markdown",
   "metadata": {},
   "source": [
    "# INN solution (random start)"
   ]
  },
  {
   "cell_type": "code",
   "execution_count": 35,
   "metadata": {
    "execution": {
     "iopub.execute_input": "2023-03-05T18:15:36.929310Z",
     "iopub.status.busy": "2023-03-05T18:15:36.928869Z",
     "iopub.status.idle": "2023-03-05T18:15:36.931725Z",
     "shell.execute_reply": "2023-03-05T18:15:36.931448Z"
    }
   },
   "outputs": [],
   "source": [
    "random_start = Sequential1D(in_features=MLP_layer_sizes[0],\n",
    "                            out_features=MLP_layer_sizes[-1]) \n",
    "linear0 = torch.nn.Linear(X_train.shape[1], Y_train.shape[1], bias=False, device=X_train.device)\n",
    "for param in linear0.parameters():\n",
    "    param.requires_grad = False\n",
    "\n",
    "random_start.add_module('linear0', linear0)"
   ]
  },
  {
   "cell_type": "code",
   "execution_count": 36,
   "metadata": {
    "execution": {
     "iopub.execute_input": "2023-03-05T18:15:36.932927Z",
     "iopub.status.busy": "2023-03-05T18:15:36.932824Z",
     "iopub.status.idle": "2023-03-05T18:15:36.947619Z",
     "shell.execute_reply": "2023-03-05T18:15:36.947322Z"
    }
   },
   "outputs": [
    {
     "name": "stdout",
     "output_type": "stream",
     "text": [
      "predicted INN_trainable_params: 30688\n"
     ]
    }
   ],
   "source": [
    "module = ModelFactory_callback(get_cfg(random_start))\n",
    "inn_random_grown_module = LitIteratedModule(module.model, module.callbacks, INN_learning_rate, iterations=INN_iterations)"
   ]
  },
  {
   "cell_type": "code",
   "execution_count": 37,
   "metadata": {
    "execution": {
     "iopub.execute_input": "2023-03-05T18:15:36.950215Z",
     "iopub.status.busy": "2023-03-05T18:15:36.949653Z",
     "iopub.status.idle": "2023-03-05T18:26:20.767366Z",
     "shell.execute_reply": "2023-03-05T18:26:20.767078Z"
    }
   },
   "outputs": [
    {
     "name": "stderr",
     "output_type": "stream",
     "text": [
      "GPU available: True (cuda), used: True\n",
      "TPU available: False, using: 0 TPU cores\n",
      "IPU available: False, using: 0 IPUs\n",
      "HPU available: False, using: 0 HPUs\n",
      "LOCAL_RANK: 0 - CUDA_VISIBLE_DEVICES: [0,1]\n",
      "\n",
      "  | Name   | Type         | Params\n",
      "----------------------------------------\n",
      "0 | module | Sequential1D | 92.2 K\n",
      "----------------------------------------\n",
      "30.7 K    Trainable params\n",
      "61.5 K    Non-trainable params\n",
      "92.2 K    Total params\n",
      "0.369     Total estimated model params size (MB)\n"
     ]
    },
    {
     "data": {
      "application/vnd.jupyter.widget-view+json": {
       "model_id": "ab2b9a70bad54bb8be301ce8f1d72e81",
       "version_major": 2,
       "version_minor": 0
      },
      "text/plain": [
       "Training: 0it [00:00, ?it/s]"
      ]
     },
     "metadata": {},
     "output_type": "display_data"
    },
    {
     "name": "stderr",
     "output_type": "stream",
     "text": [
      "`Trainer.fit` stopped: `max_epochs=5000` reached.\n"
     ]
    }
   ],
   "source": [
    "train_module(inn_random_grown_module, INN_max_epochs)"
   ]
  },
  {
   "cell_type": "code",
   "execution_count": 38,
   "metadata": {
    "execution": {
     "iopub.execute_input": "2023-03-05T18:26:20.769519Z",
     "iopub.status.busy": "2023-03-05T18:26:20.769412Z",
     "iopub.status.idle": "2023-03-05T18:26:21.275570Z",
     "shell.execute_reply": "2023-03-05T18:26:21.275198Z"
    }
   },
   "outputs": [
    {
     "data": {
      "image/png": "[encoded data removed]",
      "text/plain": [
       "<Figure size 1200x600 with 2 Axes>"
      ]
     },
     "metadata": {},
     "output_type": "display_data"
    }
   ],
   "source": [
    "evaluate_modules([mlp_module, inn_random_grown_module], ['MLP', 'INN Random Grown'])"
   ]
  },
  {
   "cell_type": "code",
   "execution_count": 39,
   "metadata": {
    "execution": {
     "iopub.execute_input": "2023-03-05T18:26:21.277087Z",
     "iopub.status.busy": "2023-03-05T18:26:21.276978Z",
     "iopub.status.idle": "2023-03-05T18:26:21.279600Z",
     "shell.execute_reply": "2023-03-05T18:26:21.279328Z"
    }
   },
   "outputs": [],
   "source": [
    "summary_dict = {}\n",
    "summary_dict['module'] = inn_random_grown_module\n",
    "summary_dict['name'] = 'INN Random Grown'\n",
    "summary_dict['trainable parameters'] = sum(p.numel() for p in summary_dict['module'].parameters() if p.requires_grad)\n",
    "summary.append(summary_dict)"
   ]
  },
  {
   "attachments": {},
   "cell_type": "markdown",
   "metadata": {},
   "source": [
    "# INN solution (MLP start)"
   ]
  },
  {
   "cell_type": "code",
   "execution_count": 40,
   "metadata": {
    "execution": {
     "iopub.execute_input": "2023-03-05T18:26:21.282544Z",
     "iopub.status.busy": "2023-03-05T18:26:21.282288Z",
     "iopub.status.idle": "2023-03-05T18:26:21.298117Z",
     "shell.execute_reply": "2023-03-05T18:26:21.297829Z"
    }
   },
   "outputs": [
    {
     "name": "stdout",
     "output_type": "stream",
     "text": [
      "predicted INN_trainable_params: 30688\n"
     ]
    }
   ],
   "source": [
    "module = ModelFactory_callback(get_cfg(mlp))\n",
    "inn_mlp_grown_module = LitIteratedModule(module.model, module.callbacks, INN_learning_rate, iterations=INN_iterations)"
   ]
  },
  {
   "cell_type": "code",
   "execution_count": 41,
   "metadata": {
    "execution": {
     "iopub.execute_input": "2023-03-05T18:26:21.301029Z",
     "iopub.status.busy": "2023-03-05T18:26:21.300774Z",
     "iopub.status.idle": "2023-03-05T18:38:25.135277Z",
     "shell.execute_reply": "2023-03-05T18:38:25.134981Z"
    }
   },
   "outputs": [
    {
     "name": "stderr",
     "output_type": "stream",
     "text": [
      "GPU available: True (cuda), used: True\n",
      "TPU available: False, using: 0 TPU cores\n",
      "IPU available: False, using: 0 IPUs\n",
      "HPU available: False, using: 0 HPUs\n",
      "LOCAL_RANK: 0 - CUDA_VISIBLE_DEVICES: [0,1]\n",
      "\n",
      "  | Name   | Type         | Params\n",
      "----------------------------------------\n",
      "0 | module | Sequential1D | 122 K \n",
      "----------------------------------------\n",
      "30.7 K    Trainable params\n",
      "92.1 K    Non-trainable params\n",
      "122 K     Total params\n",
      "0.491     Total estimated model params size (MB)\n"
     ]
    },
    {
     "data": {
      "application/vnd.jupyter.widget-view+json": {
       "model_id": "85a75d7ef2d64909940c19b3789a0804",
       "version_major": 2,
       "version_minor": 0
      },
      "text/plain": [
       "Training: 0it [00:00, ?it/s]"
      ]
     },
     "metadata": {},
     "output_type": "display_data"
    },
    {
     "name": "stderr",
     "output_type": "stream",
     "text": [
      "`Trainer.fit` stopped: `max_epochs=5000` reached.\n"
     ]
    }
   ],
   "source": [
    "train_module(inn_mlp_grown_module, INN_max_epochs)"
   ]
  },
  {
   "cell_type": "code",
   "execution_count": 42,
   "metadata": {
    "execution": {
     "iopub.execute_input": "2023-03-05T18:38:25.137371Z",
     "iopub.status.busy": "2023-03-05T18:38:25.137257Z",
     "iopub.status.idle": "2023-03-05T18:38:25.649181Z",
     "shell.execute_reply": "2023-03-05T18:38:25.648803Z"
    }
   },
   "outputs": [
    {
     "data": {
      "image/png": "[encoded data removed]",
      "text/plain": [
       "<Figure size 1200x600 with 2 Axes>"
      ]
     },
     "metadata": {},
     "output_type": "display_data"
    }
   ],
   "source": [
    "evaluate_modules([mlp_module, inn_mlp_grown_module], ['MLP', 'INN MLP Grown'])"
   ]
  },
  {
   "cell_type": "code",
   "execution_count": 43,
   "metadata": {
    "execution": {
     "iopub.execute_input": "2023-03-05T18:38:25.650868Z",
     "iopub.status.busy": "2023-03-05T18:38:25.650734Z",
     "iopub.status.idle": "2023-03-05T18:38:25.653272Z",
     "shell.execute_reply": "2023-03-05T18:38:25.652994Z"
    }
   },
   "outputs": [],
   "source": [
    "summary_dict = {}\n",
    "summary_dict['module'] = inn_mlp_grown_module\n",
    "summary_dict['name'] = 'INN MLP Grown'\n",
    "summary_dict['trainable parameters'] = sum(p.numel() for p in summary_dict['module'].parameters() if p.requires_grad)\n",
    "summary.append(summary_dict)"
   ]
  },
  {
   "attachments": {},
   "cell_type": "markdown",
   "metadata": {},
   "source": [
    "# Summary"
   ]
  },
  {
   "cell_type": "code",
   "execution_count": 44,
   "metadata": {
    "execution": {
     "iopub.execute_input": "2023-03-05T18:38:25.654657Z",
     "iopub.status.busy": "2023-03-05T18:38:25.654495Z",
     "iopub.status.idle": "2023-03-05T18:38:26.306851Z",
     "shell.execute_reply": "2023-03-05T18:38:26.306492Z"
    }
   },
   "outputs": [
    {
     "name": "stdout",
     "output_type": "stream",
     "text": [
      "Least Squares trainable params: 0\n",
      "Least Squares Training error : 5594.91552734375\n",
      "Least Squares Testing error : 5623.78076171875\n",
      "================================\n",
      "Trained Least Squares trainable params: 160\n",
      "Trained Least Squares Training error : 5607.19287109375\n",
      "Trained Least Squares Testing error : 5609.42529296875\n",
      "================================\n",
      "MLP trainable params: 30711\n",
      "MLP Training error : 496.5812683105469\n",
      "MLP Testing error : 784.7252197265625\n",
      "================================\n",
      "INN LS Grown trainable params: 30688\n",
      "INN LS Grown Training error : 1197.6112060546875\n",
      "INN LS Grown Testing error : 1664.7730712890625\n",
      "================================\n",
      "INN Trained Least Squares trainable params: 30688\n",
      "INN Trained Least Squares Training error : 1928.93701171875\n",
      "INN Trained Least Squares Testing error : 2244.743896484375\n",
      "================================\n",
      "INN Random Grown trainable params: 30688\n",
      "INN Random Grown Training error : 555.3580932617188\n",
      "INN Random Grown Testing error : 1049.0548095703125\n",
      "================================\n",
      "INN MLP Grown trainable params: 30688\n",
      "INN MLP Grown Training error : 219.15786743164062\n",
      "INN MLP Grown Testing error : 651.677734375\n",
      "================================\n"
     ]
    }
   ],
   "source": [
    "rmse = MeanSquaredError(squared=False)\n",
    "for summary_dict in summary:\n",
    "    print(f'{summary_dict[\"name\"]} trainable params: {summary_dict[\"trainable parameters\"]}')\n",
    "    print(f'{summary_dict[\"name\"]} Training error : {rmse(summary_dict[\"module\"](X_train), Y_train).item()}')\n",
    "    print(f'{summary_dict[\"name\"]} Testing error : {rmse(summary_dict[\"module\"](X_test), Y_test).item()}')\n",
    "    print('================================')\n"
   ]
  },
  {
   "cell_type": "code",
   "execution_count": null,
   "metadata": {},
   "outputs": [],
   "source": []
  }
 ],
 "metadata": {
  "kernelspec": {
   "display_name": "venv",
   "language": "python",
   "name": "python3"
  },
  "language_info": {
   "codemirror_mode": {
    "name": "ipython",
    "version": 3
   },
   "file_extension": ".py",
   "mimetype": "text/x-python",
   "name": "python",
   "nbconvert_exporter": "python",
   "pygments_lexer": "ipython3",
   "version": "3.8.10"
  },
  "vscode": {
   "interpreter": {
    "hash": "91c69d281b806a3add6b161e23d9089dcb392788fdbe6cdd17c006940cab5b65"
   }
  },
  "widgets": {
   "application/vnd.jupyter.widget-state+json": {
    "state": {
     "0a3a73c1b95c4890bb8f8f171f3b62b4": {
      "model_module": "@jupyter-widgets/controls",
      "model_module_version": "2.0.0",
      "model_name": "HTMLStyleModel",
      "state": {
       "_model_module": "@jupyter-widgets/controls",
       "_model_module_version": "2.0.0",
       "_model_name": "HTMLStyleModel",
       "_view_count": null,
       "_view_module": "@jupyter-widgets/base",
       "_view_module_version": "2.0.0",
       "_view_name": "StyleView",
       "background": null,
       "description_width": "",
       "font_size": null,
       "text_color": null
      }
     },
     "0b18a40733464b06a54082ec528cbc99": {
      "model_module": "@jupyter-widgets/controls",
      "model_module_version": "2.0.0",
      "model_name": "HTMLStyleModel",
      "state": {
       "_model_module": "@jupyter-widgets/controls",
       "_model_module_version": "2.0.0",
       "_model_name": "HTMLStyleModel",
       "_view_count": null,
       "_view_module": "@jupyter-widgets/base",
       "_view_module_version": "2.0.0",
       "_view_name": "StyleView",
       "background": null,
       "description_width": "",
       "font_size": null,
       "text_color": null
      }
     },
     "0efec87def2e41028bbb7e78c9991d21": {
      "model_module": "@jupyter-widgets/controls",
      "model_module_version": "2.0.0",
      "model_name": "HTMLStyleModel",
      "state": {
       "_model_module": "@jupyter-widgets/controls",
       "_model_module_version": "2.0.0",
       "_model_name": "HTMLStyleModel",
       "_view_count": null,
       "_view_module": "@jupyter-widgets/base",
       "_view_module_version": "2.0.0",
       "_view_name": "StyleView",
       "background": null,
       "description_width": "",
       "font_size": null,
       "text_color": null
      }
     },
     "10a995493f69468ea96c6c997d6e698d": {
      "model_module": "@jupyter-widgets/controls",
      "model_module_version": "2.0.0",
      "model_name": "ProgressStyleModel",
      "state": {
       "_model_module": "@jupyter-widgets/controls",
       "_model_module_version": "2.0.0",
       "_model_name": "ProgressStyleModel",
       "_view_count": null,
       "_view_module": "@jupyter-widgets/base",
       "_view_module_version": "2.0.0",
       "_view_name": "StyleView",
       "bar_color": null,
       "description_width": ""
      }
     },
     "17a1f6983ec54d749f22c6620721748c": {
      "model_module": "@jupyter-widgets/controls",
      "model_module_version": "2.0.0",
      "model_name": "FloatProgressModel",
      "state": {
       "_dom_classes": [],
       "_model_module": "@jupyter-widgets/controls",
       "_model_module_version": "2.0.0",
       "_model_name": "FloatProgressModel",
       "_view_count": null,
       "_view_module": "@jupyter-widgets/controls",
       "_view_module_version": "2.0.0",
       "_view_name": "ProgressView",
       "bar_style": "success",
       "description": "",
       "description_allow_html": false,
       "layout": "IPY_MODEL_674402caa2614f0ca5791d8871b54032",
       "max": 13,
       "min": 0,
       "orientation": "horizontal",
       "style": "IPY_MODEL_c6f2cfc6f0674478898c4e3753390d47",
       "tabbable": null,
       "tooltip": null,
       "value": 13
      }
     },
     "1875525b5f164df8a7299a26a9b78042": {
      "model_module": "@jupyter-widgets/controls",
      "model_module_version": "2.0.0",
      "model_name": "HTMLModel",
      "state": {
       "_dom_classes": [],
       "_model_module": "@jupyter-widgets/controls",
       "_model_module_version": "2.0.0",
       "_model_name": "HTMLModel",
       "_view_count": null,
       "_view_module": "@jupyter-widgets/controls",
       "_view_module_version": "2.0.0",
       "_view_name": "HTMLView",
       "description": "",
       "description_allow_html": false,
       "layout": "IPY_MODEL_b2403e67f2224325a723f025598e5c79",
       "placeholder": "​",
       "style": "IPY_MODEL_0a3a73c1b95c4890bb8f8f171f3b62b4",
       "tabbable": null,
       "tooltip": null,
       "value": " 13/13 [00:00&lt;00:00, 80.07it/s, loss=2.69e+05, v_num=57]"
      }
     },
     "192ee0fbbba0428b8b54e5fe094c8c17": {
      "model_module": "@jupyter-widgets/base",
      "model_module_version": "2.0.0",
      "model_name": "LayoutModel",
      "state": {
       "_model_module": "@jupyter-widgets/base",
       "_model_module_version": "2.0.0",
       "_model_name": "LayoutModel",
       "_view_count": null,
       "_view_module": "@jupyter-widgets/base",
       "_view_module_version": "2.0.0",
       "_view_name": "LayoutView",
       "align_content": null,
       "align_items": null,
       "align_self": null,
       "border_bottom": null,
       "border_left": null,
       "border_right": null,
       "border_top": null,
       "bottom": null,
       "display": null,
       "flex": null,
       "flex_flow": null,
       "grid_area": null,
       "grid_auto_columns": null,
       "grid_auto_flow": null,
       "grid_auto_rows": null,
       "grid_column": null,
       "grid_gap": null,
       "grid_row": null,
       "grid_template_areas": null,
       "grid_template_columns": null,
       "grid_template_rows": null,
       "height": null,
       "justify_content": null,
       "justify_items": null,
       "left": null,
       "margin": null,
       "max_height": null,
       "max_width": null,
       "min_height": null,
       "min_width": null,
       "object_fit": null,
       "object_position": null,
       "order": null,
       "overflow": null,
       "padding": null,
       "right": null,
       "top": null,
       "visibility": null,
       "width": null
      }
     },
     "1969983d1cb34a89849016dfd6dd524a": {
      "model_module": "@jupyter-widgets/base",
      "model_module_version": "2.0.0",
      "model_name": "LayoutModel",
      "state": {
       "_model_module": "@jupyter-widgets/base",
       "_model_module_version": "2.0.0",
       "_model_name": "LayoutModel",
       "_view_count": null,
       "_view_module": "@jupyter-widgets/base",
       "_view_module_version": "2.0.0",
       "_view_name": "LayoutView",
       "align_content": null,
       "align_items": null,
       "align_self": null,
       "border_bottom": null,
       "border_left": null,
       "border_right": null,
       "border_top": null,
       "bottom": null,
       "display": "inline-flex",
       "flex": null,
       "flex_flow": "row wrap",
       "grid_area": null,
       "grid_auto_columns": null,
       "grid_auto_flow": null,
       "grid_auto_rows": null,
       "grid_column": null,
       "grid_gap": null,
       "grid_row": null,
       "grid_template_areas": null,
       "grid_template_columns": null,
       "grid_template_rows": null,
       "height": null,
       "justify_content": null,
       "justify_items": null,
       "left": null,
       "margin": null,
       "max_height": null,
       "max_width": null,
       "min_height": null,
       "min_width": null,
       "object_fit": null,
       "object_position": null,
       "order": null,
       "overflow": null,
       "padding": null,
       "right": null,
       "top": null,
       "visibility": null,
       "width": "100%"
      }
     },
     "214f8e9b78914b7eb25813f3ec647b45": {
      "model_module": "@jupyter-widgets/controls",
      "model_module_version": "2.0.0",
      "model_name": "FloatProgressModel",
      "state": {
       "_dom_classes": [],
       "_model_module": "@jupyter-widgets/controls",
       "_model_module_version": "2.0.0",
       "_model_name": "FloatProgressModel",
       "_view_count": null,
       "_view_module": "@jupyter-widgets/controls",
       "_view_module_version": "2.0.0",
       "_view_name": "ProgressView",
       "bar_style": "success",
       "description": "",
       "description_allow_html": false,
       "layout": "IPY_MODEL_c8117bdc8492473fbdf44747264992ca",
       "max": 13,
       "min": 0,
       "orientation": "horizontal",
       "style": "IPY_MODEL_10a995493f69468ea96c6c997d6e698d",
       "tabbable": null,
       "tooltip": null,
       "value": 13
      }
     },
     "21f995c6da34409f8625110e6bb58e71": {
      "model_module": "@jupyter-widgets/controls",
      "model_module_version": "2.0.0",
      "model_name": "HTMLStyleModel",
      "state": {
       "_model_module": "@jupyter-widgets/controls",
       "_model_module_version": "2.0.0",
       "_model_name": "HTMLStyleModel",
       "_view_count": null,
       "_view_module": "@jupyter-widgets/base",
       "_view_module_version": "2.0.0",
       "_view_name": "StyleView",
       "background": null,
       "description_width": "",
       "font_size": null,
       "text_color": null
      }
     },
     "2a4acf1ca9594210ab0724e5fa3dabc5": {
      "model_module": "@jupyter-widgets/controls",
      "model_module_version": "2.0.0",
      "model_name": "HTMLModel",
      "state": {
       "_dom_classes": [],
       "_model_module": "@jupyter-widgets/controls",
       "_model_module_version": "2.0.0",
       "_model_name": "HTMLModel",
       "_view_count": null,
       "_view_module": "@jupyter-widgets/controls",
       "_view_module_version": "2.0.0",
       "_view_name": "HTMLView",
       "description": "",
       "description_allow_html": false,
       "layout": "IPY_MODEL_5f668b0d88eb4516a837ab9f69ca8d85",
       "placeholder": "​",
       "style": "IPY_MODEL_21f995c6da34409f8625110e6bb58e71",
       "tabbable": null,
       "tooltip": null,
       "value": "Epoch 4999: 100%"
      }
     },
     "2f4029bef94546b792eed36cb4b048e4": {
      "model_module": "@jupyter-widgets/base",
      "model_module_version": "2.0.0",
      "model_name": "LayoutModel",
      "state": {
       "_model_module": "@jupyter-widgets/base",
       "_model_module_version": "2.0.0",
       "_model_name": "LayoutModel",
       "_view_count": null,
       "_view_module": "@jupyter-widgets/base",
       "_view_module_version": "2.0.0",
       "_view_name": "LayoutView",
       "align_content": null,
       "align_items": null,
       "align_self": null,
       "border_bottom": null,
       "border_left": null,
       "border_right": null,
       "border_top": null,
       "bottom": null,
       "display": null,
       "flex": null,
       "flex_flow": null,
       "grid_area": null,
       "grid_auto_columns": null,
       "grid_auto_flow": null,
       "grid_auto_rows": null,
       "grid_column": null,
       "grid_gap": null,
       "grid_row": null,
       "grid_template_areas": null,
       "grid_template_columns": null,
       "grid_template_rows": null,
       "height": null,
       "justify_content": null,
       "justify_items": null,
       "left": null,
       "margin": null,
       "max_height": null,
       "max_width": null,
       "min_height": null,
       "min_width": null,
       "object_fit": null,
       "object_position": null,
       "order": null,
       "overflow": null,
       "padding": null,
       "right": null,
       "top": null,
       "visibility": null,
       "width": null
      }
     },
     "363a253799ff49d2b584ff8b0c1b0bd4": {
      "model_module": "@jupyter-widgets/controls",
      "model_module_version": "2.0.0",
      "model_name": "HTMLModel",
      "state": {
       "_dom_classes": [],
       "_model_module": "@jupyter-widgets/controls",
       "_model_module_version": "2.0.0",
       "_model_name": "HTMLModel",
       "_view_count": null,
       "_view_module": "@jupyter-widgets/controls",
       "_view_module_version": "2.0.0",
       "_view_name": "HTMLView",
       "description": "",
       "description_allow_html": false,
       "layout": "IPY_MODEL_cd5e4d7402a94718b4ce619175d7c3f4",
       "placeholder": "​",
       "style": "IPY_MODEL_677fdd6cec3d4675839a8cf052b2985a",
       "tabbable": null,
       "tooltip": null,
       "value": " 13/13 [00:00&lt;00:00, 99.39it/s, loss=4.83e+04, v_num=64]"
      }
     },
     "3684613ccdeb40a6a240d3dccd0f7e47": {
      "model_module": "@jupyter-widgets/controls",
      "model_module_version": "2.0.0",
      "model_name": "HTMLStyleModel",
      "state": {
       "_model_module": "@jupyter-widgets/controls",
       "_model_module_version": "2.0.0",
       "_model_name": "HTMLStyleModel",
       "_view_count": null,
       "_view_module": "@jupyter-widgets/base",
       "_view_module_version": "2.0.0",
       "_view_name": "StyleView",
       "background": null,
       "description_width": "",
       "font_size": null,
       "text_color": null
      }
     },
     "3c2199e759fb459984be723f5ba1c098": {
      "model_module": "@jupyter-widgets/controls",
      "model_module_version": "2.0.0",
      "model_name": "HTMLModel",
      "state": {
       "_dom_classes": [],
       "_model_module": "@jupyter-widgets/controls",
       "_model_module_version": "2.0.0",
       "_model_name": "HTMLModel",
       "_view_count": null,
       "_view_module": "@jupyter-widgets/controls",
       "_view_module_version": "2.0.0",
       "_view_name": "HTMLView",
       "description": "",
       "description_allow_html": false,
       "layout": "IPY_MODEL_529bdfb304e8432ca17a66a9b7fb633f",
       "placeholder": "​",
       "style": "IPY_MODEL_0b18a40733464b06a54082ec528cbc99",
       "tabbable": null,
       "tooltip": null,
       "value": "Epoch 4999: 100%"
      }
     },
     "428d53986967450a852ac754fb34835f": {
      "model_module": "@jupyter-widgets/controls",
      "model_module_version": "2.0.0",
      "model_name": "ProgressStyleModel",
      "state": {
       "_model_module": "@jupyter-widgets/controls",
       "_model_module_version": "2.0.0",
       "_model_name": "ProgressStyleModel",
       "_view_count": null,
       "_view_module": "@jupyter-widgets/base",
       "_view_module_version": "2.0.0",
       "_view_name": "StyleView",
       "bar_color": null,
       "description_width": ""
      }
     },
     "484ce9d3624942549ca403c92c856ff2": {
      "model_module": "@jupyter-widgets/controls",
      "model_module_version": "2.0.0",
      "model_name": "HTMLStyleModel",
      "state": {
       "_model_module": "@jupyter-widgets/controls",
       "_model_module_version": "2.0.0",
       "_model_name": "HTMLStyleModel",
       "_view_count": null,
       "_view_module": "@jupyter-widgets/base",
       "_view_module_version": "2.0.0",
       "_view_name": "StyleView",
       "background": null,
       "description_width": "",
       "font_size": null,
       "text_color": null
      }
     },
     "529bdfb304e8432ca17a66a9b7fb633f": {
      "model_module": "@jupyter-widgets/base",
      "model_module_version": "2.0.0",
      "model_name": "LayoutModel",
      "state": {
       "_model_module": "@jupyter-widgets/base",
       "_model_module_version": "2.0.0",
       "_model_name": "LayoutModel",
       "_view_count": null,
       "_view_module": "@jupyter-widgets/base",
       "_view_module_version": "2.0.0",
       "_view_name": "LayoutView",
       "align_content": null,
       "align_items": null,
       "align_self": null,
       "border_bottom": null,
       "border_left": null,
       "border_right": null,
       "border_top": null,
       "bottom": null,
       "display": null,
       "flex": null,
       "flex_flow": null,
       "grid_area": null,
       "grid_auto_columns": null,
       "grid_auto_flow": null,
       "grid_auto_rows": null,
       "grid_column": null,
       "grid_gap": null,
       "grid_row": null,
       "grid_template_areas": null,
       "grid_template_columns": null,
       "grid_template_rows": null,
       "height": null,
       "justify_content": null,
       "justify_items": null,
       "left": null,
       "margin": null,
       "max_height": null,
       "max_width": null,
       "min_height": null,
       "min_width": null,
       "object_fit": null,
       "object_position": null,
       "order": null,
       "overflow": null,
       "padding": null,
       "right": null,
       "top": null,
       "visibility": null,
       "width": null
      }
     },
     "5800e9ea61384355b4eb3d95285028c0": {
      "model_module": "@jupyter-widgets/controls",
      "model_module_version": "2.0.0",
      "model_name": "FloatProgressModel",
      "state": {
       "_dom_classes": [],
       "_model_module": "@jupyter-widgets/controls",
       "_model_module_version": "2.0.0",
       "_model_name": "FloatProgressModel",
       "_view_count": null,
       "_view_module": "@jupyter-widgets/controls",
       "_view_module_version": "2.0.0",
       "_view_name": "ProgressView",
       "bar_style": "success",
       "description": "",
       "description_allow_html": false,
       "layout": "IPY_MODEL_9b2da1406ba544b5873297e8c1ed8712",
       "max": 13,
       "min": 0,
       "orientation": "horizontal",
       "style": "IPY_MODEL_ccd6fb32000f406bb536965345fd0467",
       "tabbable": null,
       "tooltip": null,
       "value": 13
      }
     },
     "5a7ff4d7c93844a48dd1442e8b68a57f": {
      "model_module": "@jupyter-widgets/base",
      "model_module_version": "2.0.0",
      "model_name": "LayoutModel",
      "state": {
       "_model_module": "@jupyter-widgets/base",
       "_model_module_version": "2.0.0",
       "_model_name": "LayoutModel",
       "_view_count": null,
       "_view_module": "@jupyter-widgets/base",
       "_view_module_version": "2.0.0",
       "_view_name": "LayoutView",
       "align_content": null,
       "align_items": null,
       "align_self": null,
       "border_bottom": null,
       "border_left": null,
       "border_right": null,
       "border_top": null,
       "bottom": null,
       "display": null,
       "flex": null,
       "flex_flow": null,
       "grid_area": null,
       "grid_auto_columns": null,
       "grid_auto_flow": null,
       "grid_auto_rows": null,
       "grid_column": null,
       "grid_gap": null,
       "grid_row": null,
       "grid_template_areas": null,
       "grid_template_columns": null,
       "grid_template_rows": null,
       "height": null,
       "justify_content": null,
       "justify_items": null,
       "left": null,
       "margin": null,
       "max_height": null,
       "max_width": null,
       "min_height": null,
       "min_width": null,
       "object_fit": null,
       "object_position": null,
       "order": null,
       "overflow": null,
       "padding": null,
       "right": null,
       "top": null,
       "visibility": null,
       "width": null
      }
     },
     "5f668b0d88eb4516a837ab9f69ca8d85": {
      "model_module": "@jupyter-widgets/base",
      "model_module_version": "2.0.0",
      "model_name": "LayoutModel",
      "state": {
       "_model_module": "@jupyter-widgets/base",
       "_model_module_version": "2.0.0",
       "_model_name": "LayoutModel",
       "_view_count": null,
       "_view_module": "@jupyter-widgets/base",
       "_view_module_version": "2.0.0",
       "_view_name": "LayoutView",
       "align_content": null,
       "align_items": null,
       "align_self": null,
       "border_bottom": null,
       "border_left": null,
       "border_right": null,
       "border_top": null,
       "bottom": null,
       "display": null,
       "flex": null,
       "flex_flow": null,
       "grid_area": null,
       "grid_auto_columns": null,
       "grid_auto_flow": null,
       "grid_auto_rows": null,
       "grid_column": null,
       "grid_gap": null,
       "grid_row": null,
       "grid_template_areas": null,
       "grid_template_columns": null,
       "grid_template_rows": null,
       "height": null,
       "justify_content": null,
       "justify_items": null,
       "left": null,
       "margin": null,
       "max_height": null,
       "max_width": null,
       "min_height": null,
       "min_width": null,
       "object_fit": null,
       "object_position": null,
       "order": null,
       "overflow": null,
       "padding": null,
       "right": null,
       "top": null,
       "visibility": null,
       "width": null
      }
     },
     "62713dc39c654a749a6697009b3959a9": {
      "model_module": "@jupyter-widgets/base",
      "model_module_version": "2.0.0",
      "model_name": "LayoutModel",
      "state": {
       "_model_module": "@jupyter-widgets/base",
       "_model_module_version": "2.0.0",
       "_model_name": "LayoutModel",
       "_view_count": null,
       "_view_module": "@jupyter-widgets/base",
       "_view_module_version": "2.0.0",
       "_view_name": "LayoutView",
       "align_content": null,
       "align_items": null,
       "align_self": null,
       "border_bottom": null,
       "border_left": null,
       "border_right": null,
       "border_top": null,
       "bottom": null,
       "display": "inline-flex",
       "flex": null,
       "flex_flow": "row wrap",
       "grid_area": null,
       "grid_auto_columns": null,
       "grid_auto_flow": null,
       "grid_auto_rows": null,
       "grid_column": null,
       "grid_gap": null,
       "grid_row": null,
       "grid_template_areas": null,
       "grid_template_columns": null,
       "grid_template_rows": null,
       "height": null,
       "justify_content": null,
       "justify_items": null,
       "left": null,
       "margin": null,
       "max_height": null,
       "max_width": null,
       "min_height": null,
       "min_width": null,
       "object_fit": null,
       "object_position": null,
       "order": null,
       "overflow": null,
       "padding": null,
       "right": null,
       "top": null,
       "visibility": null,
       "width": "100%"
      }
     },
     "674402caa2614f0ca5791d8871b54032": {
      "model_module": "@jupyter-widgets/base",
      "model_module_version": "2.0.0",
      "model_name": "LayoutModel",
      "state": {
       "_model_module": "@jupyter-widgets/base",
       "_model_module_version": "2.0.0",
       "_model_name": "LayoutModel",
       "_view_count": null,
       "_view_module": "@jupyter-widgets/base",
       "_view_module_version": "2.0.0",
       "_view_name": "LayoutView",
       "align_content": null,
       "align_items": null,
       "align_self": null,
       "border_bottom": null,
       "border_left": null,
       "border_right": null,
       "border_top": null,
       "bottom": null,
       "display": null,
       "flex": "2",
       "flex_flow": null,
       "grid_area": null,
       "grid_auto_columns": null,
       "grid_auto_flow": null,
       "grid_auto_rows": null,
       "grid_column": null,
       "grid_gap": null,
       "grid_row": null,
       "grid_template_areas": null,
       "grid_template_columns": null,
       "grid_template_rows": null,
       "height": null,
       "justify_content": null,
       "justify_items": null,
       "left": null,
       "margin": null,
       "max_height": null,
       "max_width": null,
       "min_height": null,
       "min_width": null,
       "object_fit": null,
       "object_position": null,
       "order": null,
       "overflow": null,
       "padding": null,
       "right": null,
       "top": null,
       "visibility": null,
       "width": null
      }
     },
     "677fdd6cec3d4675839a8cf052b2985a": {
      "model_module": "@jupyter-widgets/controls",
      "model_module_version": "2.0.0",
      "model_name": "HTMLStyleModel",
      "state": {
       "_model_module": "@jupyter-widgets/controls",
       "_model_module_version": "2.0.0",
       "_model_name": "HTMLStyleModel",
       "_view_count": null,
       "_view_module": "@jupyter-widgets/base",
       "_view_module_version": "2.0.0",
       "_view_name": "StyleView",
       "background": null,
       "description_width": "",
       "font_size": null,
       "text_color": null
      }
     },
     "6dc13b24393242a08307e4f3dee71dd2": {
      "model_module": "@jupyter-widgets/controls",
      "model_module_version": "2.0.0",
      "model_name": "FloatProgressModel",
      "state": {
       "_dom_classes": [],
       "_model_module": "@jupyter-widgets/controls",
       "_model_module_version": "2.0.0",
       "_model_name": "FloatProgressModel",
       "_view_count": null,
       "_view_module": "@jupyter-widgets/controls",
       "_view_module_version": "2.0.0",
       "_view_name": "ProgressView",
       "bar_style": "success",
       "description": "",
       "description_allow_html": false,
       "layout": "IPY_MODEL_f75d360554c94df2a7bc2f56ae4b672e",
       "max": 13,
       "min": 0,
       "orientation": "horizontal",
       "style": "IPY_MODEL_fa050cf0f9564a11b2c3033491f8d1ae",
       "tabbable": null,
       "tooltip": null,
       "value": 13
      }
     },
     "6e31509654b14fb09dd16ef3708425ff": {
      "model_module": "@jupyter-widgets/controls",
      "model_module_version": "2.0.0",
      "model_name": "HTMLModel",
      "state": {
       "_dom_classes": [],
       "_model_module": "@jupyter-widgets/controls",
       "_model_module_version": "2.0.0",
       "_model_name": "HTMLModel",
       "_view_count": null,
       "_view_module": "@jupyter-widgets/controls",
       "_view_module_version": "2.0.0",
       "_view_name": "HTMLView",
       "description": "",
       "description_allow_html": false,
       "layout": "IPY_MODEL_6eab2b1bef2040c1bb7dbb3bea721f94",
       "placeholder": "​",
       "style": "IPY_MODEL_ee867dab1bf84b558f408d2bddd32bd3",
       "tabbable": null,
       "tooltip": null,
       "value": "Epoch 4999: 100%"
      }
     },
     "6eab2b1bef2040c1bb7dbb3bea721f94": {
      "model_module": "@jupyter-widgets/base",
      "model_module_version": "2.0.0",
      "model_name": "LayoutModel",
      "state": {
       "_model_module": "@jupyter-widgets/base",
       "_model_module_version": "2.0.0",
       "_model_name": "LayoutModel",
       "_view_count": null,
       "_view_module": "@jupyter-widgets/base",
       "_view_module_version": "2.0.0",
       "_view_name": "LayoutView",
       "align_content": null,
       "align_items": null,
       "align_self": null,
       "border_bottom": null,
       "border_left": null,
       "border_right": null,
       "border_top": null,
       "bottom": null,
       "display": null,
       "flex": null,
       "flex_flow": null,
       "grid_area": null,
       "grid_auto_columns": null,
       "grid_auto_flow": null,
       "grid_auto_rows": null,
       "grid_column": null,
       "grid_gap": null,
       "grid_row": null,
       "grid_template_areas": null,
       "grid_template_columns": null,
       "grid_template_rows": null,
       "height": null,
       "justify_content": null,
       "justify_items": null,
       "left": null,
       "margin": null,
       "max_height": null,
       "max_width": null,
       "min_height": null,
       "min_width": null,
       "object_fit": null,
       "object_position": null,
       "order": null,
       "overflow": null,
       "padding": null,
       "right": null,
       "top": null,
       "visibility": null,
       "width": null
      }
     },
     "72a4741b6c1a4cbcb1ffdc148c68db78": {
      "model_module": "@jupyter-widgets/controls",
      "model_module_version": "2.0.0",
      "model_name": "HBoxModel",
      "state": {
       "_dom_classes": [],
       "_model_module": "@jupyter-widgets/controls",
       "_model_module_version": "2.0.0",
       "_model_name": "HBoxModel",
       "_view_count": null,
       "_view_module": "@jupyter-widgets/controls",
       "_view_module_version": "2.0.0",
       "_view_name": "HBoxView",
       "box_style": "",
       "children": [
        "IPY_MODEL_fc0fc11cd9ba488aa29ec0148def39c8",
        "IPY_MODEL_17a1f6983ec54d749f22c6620721748c",
        "IPY_MODEL_dbf2cb3cbb7a4df29b4312cf5432e306"
       ],
       "layout": "IPY_MODEL_d8d15dfd981a43e5a9dedddff570608b",
       "tabbable": null,
       "tooltip": null
      }
     },
     "72f57d91b593422a911e9d634910e267": {
      "model_module": "@jupyter-widgets/base",
      "model_module_version": "2.0.0",
      "model_name": "LayoutModel",
      "state": {
       "_model_module": "@jupyter-widgets/base",
       "_model_module_version": "2.0.0",
       "_model_name": "LayoutModel",
       "_view_count": null,
       "_view_module": "@jupyter-widgets/base",
       "_view_module_version": "2.0.0",
       "_view_name": "LayoutView",
       "align_content": null,
       "align_items": null,
       "align_self": null,
       "border_bottom": null,
       "border_left": null,
       "border_right": null,
       "border_top": null,
       "bottom": null,
       "display": "inline-flex",
       "flex": null,
       "flex_flow": "row wrap",
       "grid_area": null,
       "grid_auto_columns": null,
       "grid_auto_flow": null,
       "grid_auto_rows": null,
       "grid_column": null,
       "grid_gap": null,
       "grid_row": null,
       "grid_template_areas": null,
       "grid_template_columns": null,
       "grid_template_rows": null,
       "height": null,
       "justify_content": null,
       "justify_items": null,
       "left": null,
       "margin": null,
       "max_height": null,
       "max_width": null,
       "min_height": null,
       "min_width": null,
       "object_fit": null,
       "object_position": null,
       "order": null,
       "overflow": null,
       "padding": null,
       "right": null,
       "top": null,
       "visibility": null,
       "width": "100%"
      }
     },
     "8275e066c8d3454d9b3bdbe61c5a8e71": {
      "model_module": "@jupyter-widgets/controls",
      "model_module_version": "2.0.0",
      "model_name": "HTMLStyleModel",
      "state": {
       "_model_module": "@jupyter-widgets/controls",
       "_model_module_version": "2.0.0",
       "_model_name": "HTMLStyleModel",
       "_view_count": null,
       "_view_module": "@jupyter-widgets/base",
       "_view_module_version": "2.0.0",
       "_view_name": "StyleView",
       "background": null,
       "description_width": "",
       "font_size": null,
       "text_color": null
      }
     },
     "85a75d7ef2d64909940c19b3789a0804": {
      "model_module": "@jupyter-widgets/controls",
      "model_module_version": "2.0.0",
      "model_name": "HBoxModel",
      "state": {
       "_dom_classes": [],
       "_model_module": "@jupyter-widgets/controls",
       "_model_module_version": "2.0.0",
       "_model_name": "HBoxModel",
       "_view_count": null,
       "_view_module": "@jupyter-widgets/controls",
       "_view_module_version": "2.0.0",
       "_view_name": "HBoxView",
       "box_style": "",
       "children": [
        "IPY_MODEL_c65265266a7b41538c2c5a54492e0d0c",
        "IPY_MODEL_9ebd7a670a5341fcb6ed78ad7abd8b9c",
        "IPY_MODEL_363a253799ff49d2b584ff8b0c1b0bd4"
       ],
       "layout": "IPY_MODEL_62713dc39c654a749a6697009b3959a9",
       "tabbable": null,
       "tooltip": null
      }
     },
     "8b948c466407416cad1ee2870c10cd0d": {
      "model_module": "@jupyter-widgets/controls",
      "model_module_version": "2.0.0",
      "model_name": "FloatProgressModel",
      "state": {
       "_dom_classes": [],
       "_model_module": "@jupyter-widgets/controls",
       "_model_module_version": "2.0.0",
       "_model_name": "FloatProgressModel",
       "_view_count": null,
       "_view_module": "@jupyter-widgets/controls",
       "_view_module_version": "2.0.0",
       "_view_name": "ProgressView",
       "bar_style": "success",
       "description": "",
       "description_allow_html": false,
       "layout": "IPY_MODEL_f6d54fb4d38b456d911115ce16762bbe",
       "max": 13,
       "min": 0,
       "orientation": "horizontal",
       "style": "IPY_MODEL_428d53986967450a852ac754fb34835f",
       "tabbable": null,
       "tooltip": null,
       "value": 13
      }
     },
     "8dc03e5521b843f09654c0967fbbb353": {
      "model_module": "@jupyter-widgets/controls",
      "model_module_version": "2.0.0",
      "model_name": "HTMLModel",
      "state": {
       "_dom_classes": [],
       "_model_module": "@jupyter-widgets/controls",
       "_model_module_version": "2.0.0",
       "_model_name": "HTMLModel",
       "_view_count": null,
       "_view_module": "@jupyter-widgets/controls",
       "_view_module_version": "2.0.0",
       "_view_name": "HTMLView",
       "description": "",
       "description_allow_html": false,
       "layout": "IPY_MODEL_2f4029bef94546b792eed36cb4b048e4",
       "placeholder": "​",
       "style": "IPY_MODEL_abf7c51b595a463480d7fdba6ebfb434",
       "tabbable": null,
       "tooltip": null,
       "value": " 13/13 [00:00&lt;00:00, 61.39it/s, loss=2.81e+05, v_num=63]"
      }
     },
     "946c071a3b4c401aad8a8ed8b607613d": {
      "model_module": "@jupyter-widgets/base",
      "model_module_version": "2.0.0",
      "model_name": "LayoutModel",
      "state": {
       "_model_module": "@jupyter-widgets/base",
       "_model_module_version": "2.0.0",
       "_model_name": "LayoutModel",
       "_view_count": null,
       "_view_module": "@jupyter-widgets/base",
       "_view_module_version": "2.0.0",
       "_view_name": "LayoutView",
       "align_content": null,
       "align_items": null,
       "align_self": null,
       "border_bottom": null,
       "border_left": null,
       "border_right": null,
       "border_top": null,
       "bottom": null,
       "display": null,
       "flex": "2",
       "flex_flow": null,
       "grid_area": null,
       "grid_auto_columns": null,
       "grid_auto_flow": null,
       "grid_auto_rows": null,
       "grid_column": null,
       "grid_gap": null,
       "grid_row": null,
       "grid_template_areas": null,
       "grid_template_columns": null,
       "grid_template_rows": null,
       "height": null,
       "justify_content": null,
       "justify_items": null,
       "left": null,
       "margin": null,
       "max_height": null,
       "max_width": null,
       "min_height": null,
       "min_width": null,
       "object_fit": null,
       "object_position": null,
       "order": null,
       "overflow": null,
       "padding": null,
       "right": null,
       "top": null,
       "visibility": null,
       "width": null
      }
     },
     "979a4fa925014fb19fee9c46c351fd4a": {
      "model_module": "@jupyter-widgets/base",
      "model_module_version": "2.0.0",
      "model_name": "LayoutModel",
      "state": {
       "_model_module": "@jupyter-widgets/base",
       "_model_module_version": "2.0.0",
       "_model_name": "LayoutModel",
       "_view_count": null,
       "_view_module": "@jupyter-widgets/base",
       "_view_module_version": "2.0.0",
       "_view_name": "LayoutView",
       "align_content": null,
       "align_items": null,
       "align_self": null,
       "border_bottom": null,
       "border_left": null,
       "border_right": null,
       "border_top": null,
       "bottom": null,
       "display": "inline-flex",
       "flex": null,
       "flex_flow": "row wrap",
       "grid_area": null,
       "grid_auto_columns": null,
       "grid_auto_flow": null,
       "grid_auto_rows": null,
       "grid_column": null,
       "grid_gap": null,
       "grid_row": null,
       "grid_template_areas": null,
       "grid_template_columns": null,
       "grid_template_rows": null,
       "height": null,
       "justify_content": null,
       "justify_items": null,
       "left": null,
       "margin": null,
       "max_height": null,
       "max_width": null,
       "min_height": null,
       "min_width": null,
       "object_fit": null,
       "object_position": null,
       "order": null,
       "overflow": null,
       "padding": null,
       "right": null,
       "top": null,
       "visibility": null,
       "width": "100%"
      }
     },
     "9b2da1406ba544b5873297e8c1ed8712": {
      "model_module": "@jupyter-widgets/base",
      "model_module_version": "2.0.0",
      "model_name": "LayoutModel",
      "state": {
       "_model_module": "@jupyter-widgets/base",
       "_model_module_version": "2.0.0",
       "_model_name": "LayoutModel",
       "_view_count": null,
       "_view_module": "@jupyter-widgets/base",
       "_view_module_version": "2.0.0",
       "_view_name": "LayoutView",
       "align_content": null,
       "align_items": null,
       "align_self": null,
       "border_bottom": null,
       "border_left": null,
       "border_right": null,
       "border_top": null,
       "bottom": null,
       "display": null,
       "flex": "2",
       "flex_flow": null,
       "grid_area": null,
       "grid_auto_columns": null,
       "grid_auto_flow": null,
       "grid_auto_rows": null,
       "grid_column": null,
       "grid_gap": null,
       "grid_row": null,
       "grid_template_areas": null,
       "grid_template_columns": null,
       "grid_template_rows": null,
       "height": null,
       "justify_content": null,
       "justify_items": null,
       "left": null,
       "margin": null,
       "max_height": null,
       "max_width": null,
       "min_height": null,
       "min_width": null,
       "object_fit": null,
       "object_position": null,
       "order": null,
       "overflow": null,
       "padding": null,
       "right": null,
       "top": null,
       "visibility": null,
       "width": null
      }
     },
     "9ebd7a670a5341fcb6ed78ad7abd8b9c": {
      "model_module": "@jupyter-widgets/controls",
      "model_module_version": "2.0.0",
      "model_name": "FloatProgressModel",
      "state": {
       "_dom_classes": [],
       "_model_module": "@jupyter-widgets/controls",
       "_model_module_version": "2.0.0",
       "_model_name": "FloatProgressModel",
       "_view_count": null,
       "_view_module": "@jupyter-widgets/controls",
       "_view_module_version": "2.0.0",
       "_view_name": "ProgressView",
       "bar_style": "success",
       "description": "",
       "description_allow_html": false,
       "layout": "IPY_MODEL_946c071a3b4c401aad8a8ed8b607613d",
       "max": 13,
       "min": 0,
       "orientation": "horizontal",
       "style": "IPY_MODEL_ad840a524e6041208f457b4e2e402bd5",
       "tabbable": null,
       "tooltip": null,
       "value": 13
      }
     },
     "9f1d0fc719df4555a5ad0b3d4fa0405a": {
      "model_module": "@jupyter-widgets/controls",
      "model_module_version": "2.0.0",
      "model_name": "HBoxModel",
      "state": {
       "_dom_classes": [],
       "_model_module": "@jupyter-widgets/controls",
       "_model_module_version": "2.0.0",
       "_model_name": "HBoxModel",
       "_view_count": null,
       "_view_module": "@jupyter-widgets/controls",
       "_view_module_version": "2.0.0",
       "_view_name": "HBoxView",
       "box_style": "",
       "children": [
        "IPY_MODEL_ee1566288abf4c3cbfcbf20ae1af3f0f",
        "IPY_MODEL_5800e9ea61384355b4eb3d95285028c0",
        "IPY_MODEL_bb1ff531b8974be1baabe78b83e7a84d"
       ],
       "layout": "IPY_MODEL_72f57d91b593422a911e9d634910e267",
       "tabbable": null,
       "tooltip": null
      }
     },
     "a7b4633c9f6b4498a712bda4a133a1c1": {
      "model_module": "@jupyter-widgets/controls",
      "model_module_version": "2.0.0",
      "model_name": "HTMLModel",
      "state": {
       "_dom_classes": [],
       "_model_module": "@jupyter-widgets/controls",
       "_model_module_version": "2.0.0",
       "_model_name": "HTMLModel",
       "_view_count": null,
       "_view_module": "@jupyter-widgets/controls",
       "_view_module_version": "2.0.0",
       "_view_name": "HTMLView",
       "description": "",
       "description_allow_html": false,
       "layout": "IPY_MODEL_5a7ff4d7c93844a48dd1442e8b68a57f",
       "placeholder": "​",
       "style": "IPY_MODEL_8275e066c8d3454d9b3bdbe61c5a8e71",
       "tabbable": null,
       "tooltip": null,
       "value": " 13/13 [00:00&lt;00:00, 104.78it/s, loss=1.77e+06, v_num=61]"
      }
     },
     "ab2b9a70bad54bb8be301ce8f1d72e81": {
      "model_module": "@jupyter-widgets/controls",
      "model_module_version": "2.0.0",
      "model_name": "HBoxModel",
      "state": {
       "_dom_classes": [],
       "_model_module": "@jupyter-widgets/controls",
       "_model_module_version": "2.0.0",
       "_model_name": "HBoxModel",
       "_view_count": null,
       "_view_module": "@jupyter-widgets/controls",
       "_view_module_version": "2.0.0",
       "_view_name": "HBoxView",
       "box_style": "",
       "children": [
        "IPY_MODEL_6e31509654b14fb09dd16ef3708425ff",
        "IPY_MODEL_6dc13b24393242a08307e4f3dee71dd2",
        "IPY_MODEL_8dc03e5521b843f09654c0967fbbb353"
       ],
       "layout": "IPY_MODEL_f0a9ac4f18a04f50907ceedbf7f72d4b",
       "tabbable": null,
       "tooltip": null
      }
     },
     "abf7c51b595a463480d7fdba6ebfb434": {
      "model_module": "@jupyter-widgets/controls",
      "model_module_version": "2.0.0",
      "model_name": "HTMLStyleModel",
      "state": {
       "_model_module": "@jupyter-widgets/controls",
       "_model_module_version": "2.0.0",
       "_model_name": "HTMLStyleModel",
       "_view_count": null,
       "_view_module": "@jupyter-widgets/base",
       "_view_module_version": "2.0.0",
       "_view_name": "StyleView",
       "background": null,
       "description_width": "",
       "font_size": null,
       "text_color": null
      }
     },
     "ad840a524e6041208f457b4e2e402bd5": {
      "model_module": "@jupyter-widgets/controls",
      "model_module_version": "2.0.0",
      "model_name": "ProgressStyleModel",
      "state": {
       "_model_module": "@jupyter-widgets/controls",
       "_model_module_version": "2.0.0",
       "_model_name": "ProgressStyleModel",
       "_view_count": null,
       "_view_module": "@jupyter-widgets/base",
       "_view_module_version": "2.0.0",
       "_view_name": "StyleView",
       "bar_color": null,
       "description_width": ""
      }
     },
     "b2403e67f2224325a723f025598e5c79": {
      "model_module": "@jupyter-widgets/base",
      "model_module_version": "2.0.0",
      "model_name": "LayoutModel",
      "state": {
       "_model_module": "@jupyter-widgets/base",
       "_model_module_version": "2.0.0",
       "_model_name": "LayoutModel",
       "_view_count": null,
       "_view_module": "@jupyter-widgets/base",
       "_view_module_version": "2.0.0",
       "_view_name": "LayoutView",
       "align_content": null,
       "align_items": null,
       "align_self": null,
       "border_bottom": null,
       "border_left": null,
       "border_right": null,
       "border_top": null,
       "bottom": null,
       "display": null,
       "flex": null,
       "flex_flow": null,
       "grid_area": null,
       "grid_auto_columns": null,
       "grid_auto_flow": null,
       "grid_auto_rows": null,
       "grid_column": null,
       "grid_gap": null,
       "grid_row": null,
       "grid_template_areas": null,
       "grid_template_columns": null,
       "grid_template_rows": null,
       "height": null,
       "justify_content": null,
       "justify_items": null,
       "left": null,
       "margin": null,
       "max_height": null,
       "max_width": null,
       "min_height": null,
       "min_width": null,
       "object_fit": null,
       "object_position": null,
       "order": null,
       "overflow": null,
       "padding": null,
       "right": null,
       "top": null,
       "visibility": null,
       "width": null
      }
     },
     "bb1ff531b8974be1baabe78b83e7a84d": {
      "model_module": "@jupyter-widgets/controls",
      "model_module_version": "2.0.0",
      "model_name": "HTMLModel",
      "state": {
       "_dom_classes": [],
       "_model_module": "@jupyter-widgets/controls",
       "_model_module_version": "2.0.0",
       "_model_name": "HTMLModel",
       "_view_count": null,
       "_view_module": "@jupyter-widgets/controls",
       "_view_module_version": "2.0.0",
       "_view_name": "HTMLView",
       "description": "",
       "description_allow_html": false,
       "layout": "IPY_MODEL_d9b72152379e4bb0b268afe71993acde",
       "placeholder": "​",
       "style": "IPY_MODEL_484ce9d3624942549ca403c92c856ff2",
       "tabbable": null,
       "tooltip": null,
       "value": " 13/13 [00:00&lt;00:00, 108.76it/s, loss=2.41e+06, v_num=62]"
      }
     },
     "c1b73b5c892e4b25899eb34e94a78bd0": {
      "model_module": "@jupyter-widgets/controls",
      "model_module_version": "2.0.0",
      "model_name": "HBoxModel",
      "state": {
       "_dom_classes": [],
       "_model_module": "@jupyter-widgets/controls",
       "_model_module_version": "2.0.0",
       "_model_name": "HBoxModel",
       "_view_count": null,
       "_view_module": "@jupyter-widgets/controls",
       "_view_module_version": "2.0.0",
       "_view_name": "HBoxView",
       "box_style": "",
       "children": [
        "IPY_MODEL_3c2199e759fb459984be723f5ba1c098",
        "IPY_MODEL_214f8e9b78914b7eb25813f3ec647b45",
        "IPY_MODEL_1875525b5f164df8a7299a26a9b78042"
       ],
       "layout": "IPY_MODEL_1969983d1cb34a89849016dfd6dd524a",
       "tabbable": null,
       "tooltip": null
      }
     },
     "c3e15fdc286046819cf512c7a0442b06": {
      "model_module": "@jupyter-widgets/controls",
      "model_module_version": "2.0.0",
      "model_name": "HTMLStyleModel",
      "state": {
       "_model_module": "@jupyter-widgets/controls",
       "_model_module_version": "2.0.0",
       "_model_name": "HTMLStyleModel",
       "_view_count": null,
       "_view_module": "@jupyter-widgets/base",
       "_view_module_version": "2.0.0",
       "_view_name": "StyleView",
       "background": null,
       "description_width": "",
       "font_size": null,
       "text_color": null
      }
     },
     "c65265266a7b41538c2c5a54492e0d0c": {
      "model_module": "@jupyter-widgets/controls",
      "model_module_version": "2.0.0",
      "model_name": "HTMLModel",
      "state": {
       "_dom_classes": [],
       "_model_module": "@jupyter-widgets/controls",
       "_model_module_version": "2.0.0",
       "_model_name": "HTMLModel",
       "_view_count": null,
       "_view_module": "@jupyter-widgets/controls",
       "_view_module_version": "2.0.0",
       "_view_name": "HTMLView",
       "description": "",
       "description_allow_html": false,
       "layout": "IPY_MODEL_192ee0fbbba0428b8b54e5fe094c8c17",
       "placeholder": "​",
       "style": "IPY_MODEL_c3e15fdc286046819cf512c7a0442b06",
       "tabbable": null,
       "tooltip": null,
       "value": "Epoch 4999: 100%"
      }
     },
     "c6f2cfc6f0674478898c4e3753390d47": {
      "model_module": "@jupyter-widgets/controls",
      "model_module_version": "2.0.0",
      "model_name": "ProgressStyleModel",
      "state": {
       "_model_module": "@jupyter-widgets/controls",
       "_model_module_version": "2.0.0",
       "_model_name": "ProgressStyleModel",
       "_view_count": null,
       "_view_module": "@jupyter-widgets/base",
       "_view_module_version": "2.0.0",
       "_view_name": "StyleView",
       "bar_color": null,
       "description_width": ""
      }
     },
     "c8117bdc8492473fbdf44747264992ca": {
      "model_module": "@jupyter-widgets/base",
      "model_module_version": "2.0.0",
      "model_name": "LayoutModel",
      "state": {
       "_model_module": "@jupyter-widgets/base",
       "_model_module_version": "2.0.0",
       "_model_name": "LayoutModel",
       "_view_count": null,
       "_view_module": "@jupyter-widgets/base",
       "_view_module_version": "2.0.0",
       "_view_name": "LayoutView",
       "align_content": null,
       "align_items": null,
       "align_self": null,
       "border_bottom": null,
       "border_left": null,
       "border_right": null,
       "border_top": null,
       "bottom": null,
       "display": null,
       "flex": "2",
       "flex_flow": null,
       "grid_area": null,
       "grid_auto_columns": null,
       "grid_auto_flow": null,
       "grid_auto_rows": null,
       "grid_column": null,
       "grid_gap": null,
       "grid_row": null,
       "grid_template_areas": null,
       "grid_template_columns": null,
       "grid_template_rows": null,
       "height": null,
       "justify_content": null,
       "justify_items": null,
       "left": null,
       "margin": null,
       "max_height": null,
       "max_width": null,
       "min_height": null,
       "min_width": null,
       "object_fit": null,
       "object_position": null,
       "order": null,
       "overflow": null,
       "padding": null,
       "right": null,
       "top": null,
       "visibility": null,
       "width": null
      }
     },
     "ccd6fb32000f406bb536965345fd0467": {
      "model_module": "@jupyter-widgets/controls",
      "model_module_version": "2.0.0",
      "model_name": "ProgressStyleModel",
      "state": {
       "_model_module": "@jupyter-widgets/controls",
       "_model_module_version": "2.0.0",
       "_model_name": "ProgressStyleModel",
       "_view_count": null,
       "_view_module": "@jupyter-widgets/base",
       "_view_module_version": "2.0.0",
       "_view_name": "StyleView",
       "bar_color": null,
       "description_width": ""
      }
     },
     "cd5e4d7402a94718b4ce619175d7c3f4": {
      "model_module": "@jupyter-widgets/base",
      "model_module_version": "2.0.0",
      "model_name": "LayoutModel",
      "state": {
       "_model_module": "@jupyter-widgets/base",
       "_model_module_version": "2.0.0",
       "_model_name": "LayoutModel",
       "_view_count": null,
       "_view_module": "@jupyter-widgets/base",
       "_view_module_version": "2.0.0",
       "_view_name": "LayoutView",
       "align_content": null,
       "align_items": null,
       "align_self": null,
       "border_bottom": null,
       "border_left": null,
       "border_right": null,
       "border_top": null,
       "bottom": null,
       "display": null,
       "flex": null,
       "flex_flow": null,
       "grid_area": null,
       "grid_auto_columns": null,
       "grid_auto_flow": null,
       "grid_auto_rows": null,
       "grid_column": null,
       "grid_gap": null,
       "grid_row": null,
       "grid_template_areas": null,
       "grid_template_columns": null,
       "grid_template_rows": null,
       "height": null,
       "justify_content": null,
       "justify_items": null,
       "left": null,
       "margin": null,
       "max_height": null,
       "max_width": null,
       "min_height": null,
       "min_width": null,
       "object_fit": null,
       "object_position": null,
       "order": null,
       "overflow": null,
       "padding": null,
       "right": null,
       "top": null,
       "visibility": null,
       "width": null
      }
     },
     "d8d15dfd981a43e5a9dedddff570608b": {
      "model_module": "@jupyter-widgets/base",
      "model_module_version": "2.0.0",
      "model_name": "LayoutModel",
      "state": {
       "_model_module": "@jupyter-widgets/base",
       "_model_module_version": "2.0.0",
       "_model_name": "LayoutModel",
       "_view_count": null,
       "_view_module": "@jupyter-widgets/base",
       "_view_module_version": "2.0.0",
       "_view_name": "LayoutView",
       "align_content": null,
       "align_items": null,
       "align_self": null,
       "border_bottom": null,
       "border_left": null,
       "border_right": null,
       "border_top": null,
       "bottom": null,
       "display": "inline-flex",
       "flex": null,
       "flex_flow": "row wrap",
       "grid_area": null,
       "grid_auto_columns": null,
       "grid_auto_flow": null,
       "grid_auto_rows": null,
       "grid_column": null,
       "grid_gap": null,
       "grid_row": null,
       "grid_template_areas": null,
       "grid_template_columns": null,
       "grid_template_rows": null,
       "height": null,
       "justify_content": null,
       "justify_items": null,
       "left": null,
       "margin": null,
       "max_height": null,
       "max_width": null,
       "min_height": null,
       "min_width": null,
       "object_fit": null,
       "object_position": null,
       "order": null,
       "overflow": null,
       "padding": null,
       "right": null,
       "top": null,
       "visibility": null,
       "width": "100%"
      }
     },
     "d9b72152379e4bb0b268afe71993acde": {
      "model_module": "@jupyter-widgets/base",
      "model_module_version": "2.0.0",
      "model_name": "LayoutModel",
      "state": {
       "_model_module": "@jupyter-widgets/base",
       "_model_module_version": "2.0.0",
       "_model_name": "LayoutModel",
       "_view_count": null,
       "_view_module": "@jupyter-widgets/base",
       "_view_module_version": "2.0.0",
       "_view_name": "LayoutView",
       "align_content": null,
       "align_items": null,
       "align_self": null,
       "border_bottom": null,
       "border_left": null,
       "border_right": null,
       "border_top": null,
       "bottom": null,
       "display": null,
       "flex": null,
       "flex_flow": null,
       "grid_area": null,
       "grid_auto_columns": null,
       "grid_auto_flow": null,
       "grid_auto_rows": null,
       "grid_column": null,
       "grid_gap": null,
       "grid_row": null,
       "grid_template_areas": null,
       "grid_template_columns": null,
       "grid_template_rows": null,
       "height": null,
       "justify_content": null,
       "justify_items": null,
       "left": null,
       "margin": null,
       "max_height": null,
       "max_width": null,
       "min_height": null,
       "min_width": null,
       "object_fit": null,
       "object_position": null,
       "order": null,
       "overflow": null,
       "padding": null,
       "right": null,
       "top": null,
       "visibility": null,
       "width": null
      }
     },
     "db590ca05cce4328b8049948691e5178": {
      "model_module": "@jupyter-widgets/controls",
      "model_module_version": "2.0.0",
      "model_name": "HTMLStyleModel",
      "state": {
       "_model_module": "@jupyter-widgets/controls",
       "_model_module_version": "2.0.0",
       "_model_name": "HTMLStyleModel",
       "_view_count": null,
       "_view_module": "@jupyter-widgets/base",
       "_view_module_version": "2.0.0",
       "_view_name": "StyleView",
       "background": null,
       "description_width": "",
       "font_size": null,
       "text_color": null
      }
     },
     "dbf2cb3cbb7a4df29b4312cf5432e306": {
      "model_module": "@jupyter-widgets/controls",
      "model_module_version": "2.0.0",
      "model_name": "HTMLModel",
      "state": {
       "_dom_classes": [],
       "_model_module": "@jupyter-widgets/controls",
       "_model_module_version": "2.0.0",
       "_model_name": "HTMLModel",
       "_view_count": null,
       "_view_module": "@jupyter-widgets/controls",
       "_view_module_version": "2.0.0",
       "_view_name": "HTMLView",
       "description": "",
       "description_allow_html": false,
       "layout": "IPY_MODEL_e27d38aab58d48f99a88433781d01e46",
       "placeholder": "​",
       "style": "IPY_MODEL_db590ca05cce4328b8049948691e5178",
       "tabbable": null,
       "tooltip": null,
       "value": " 13/13 [00:00&lt;00:00, 232.81it/s, loss=3.14e+07, v_num=54]"
      }
     },
     "e27d38aab58d48f99a88433781d01e46": {
      "model_module": "@jupyter-widgets/base",
      "model_module_version": "2.0.0",
      "model_name": "LayoutModel",
      "state": {
       "_model_module": "@jupyter-widgets/base",
       "_model_module_version": "2.0.0",
       "_model_name": "LayoutModel",
       "_view_count": null,
       "_view_module": "@jupyter-widgets/base",
       "_view_module_version": "2.0.0",
       "_view_name": "LayoutView",
       "align_content": null,
       "align_items": null,
       "align_self": null,
       "border_bottom": null,
       "border_left": null,
       "border_right": null,
       "border_top": null,
       "bottom": null,
       "display": null,
       "flex": null,
       "flex_flow": null,
       "grid_area": null,
       "grid_auto_columns": null,
       "grid_auto_flow": null,
       "grid_auto_rows": null,
       "grid_column": null,
       "grid_gap": null,
       "grid_row": null,
       "grid_template_areas": null,
       "grid_template_columns": null,
       "grid_template_rows": null,
       "height": null,
       "justify_content": null,
       "justify_items": null,
       "left": null,
       "margin": null,
       "max_height": null,
       "max_width": null,
       "min_height": null,
       "min_width": null,
       "object_fit": null,
       "object_position": null,
       "order": null,
       "overflow": null,
       "padding": null,
       "right": null,
       "top": null,
       "visibility": null,
       "width": null
      }
     },
     "e4453ca71ea44ecb933fb153c76ee023": {
      "model_module": "@jupyter-widgets/base",
      "model_module_version": "2.0.0",
      "model_name": "LayoutModel",
      "state": {
       "_model_module": "@jupyter-widgets/base",
       "_model_module_version": "2.0.0",
       "_model_name": "LayoutModel",
       "_view_count": null,
       "_view_module": "@jupyter-widgets/base",
       "_view_module_version": "2.0.0",
       "_view_name": "LayoutView",
       "align_content": null,
       "align_items": null,
       "align_self": null,
       "border_bottom": null,
       "border_left": null,
       "border_right": null,
       "border_top": null,
       "bottom": null,
       "display": null,
       "flex": null,
       "flex_flow": null,
       "grid_area": null,
       "grid_auto_columns": null,
       "grid_auto_flow": null,
       "grid_auto_rows": null,
       "grid_column": null,
       "grid_gap": null,
       "grid_row": null,
       "grid_template_areas": null,
       "grid_template_columns": null,
       "grid_template_rows": null,
       "height": null,
       "justify_content": null,
       "justify_items": null,
       "left": null,
       "margin": null,
       "max_height": null,
       "max_width": null,
       "min_height": null,
       "min_width": null,
       "object_fit": null,
       "object_position": null,
       "order": null,
       "overflow": null,
       "padding": null,
       "right": null,
       "top": null,
       "visibility": null,
       "width": null
      }
     },
     "ee1566288abf4c3cbfcbf20ae1af3f0f": {
      "model_module": "@jupyter-widgets/controls",
      "model_module_version": "2.0.0",
      "model_name": "HTMLModel",
      "state": {
       "_dom_classes": [],
       "_model_module": "@jupyter-widgets/controls",
       "_model_module_version": "2.0.0",
       "_model_name": "HTMLModel",
       "_view_count": null,
       "_view_module": "@jupyter-widgets/controls",
       "_view_module_version": "2.0.0",
       "_view_name": "HTMLView",
       "description": "",
       "description_allow_html": false,
       "layout": "IPY_MODEL_f2c20fc5afab4b289f2d1bbe4e89c28a",
       "placeholder": "​",
       "style": "IPY_MODEL_0efec87def2e41028bbb7e78c9991d21",
       "tabbable": null,
       "tooltip": null,
       "value": "Epoch 4999: 100%"
      }
     },
     "ee867dab1bf84b558f408d2bddd32bd3": {
      "model_module": "@jupyter-widgets/controls",
      "model_module_version": "2.0.0",
      "model_name": "HTMLStyleModel",
      "state": {
       "_model_module": "@jupyter-widgets/controls",
       "_model_module_version": "2.0.0",
       "_model_name": "HTMLStyleModel",
       "_view_count": null,
       "_view_module": "@jupyter-widgets/base",
       "_view_module_version": "2.0.0",
       "_view_name": "StyleView",
       "background": null,
       "description_width": "",
       "font_size": null,
       "text_color": null
      }
     },
     "f0a9ac4f18a04f50907ceedbf7f72d4b": {
      "model_module": "@jupyter-widgets/base",
      "model_module_version": "2.0.0",
      "model_name": "LayoutModel",
      "state": {
       "_model_module": "@jupyter-widgets/base",
       "_model_module_version": "2.0.0",
       "_model_name": "LayoutModel",
       "_view_count": null,
       "_view_module": "@jupyter-widgets/base",
       "_view_module_version": "2.0.0",
       "_view_name": "LayoutView",
       "align_content": null,
       "align_items": null,
       "align_self": null,
       "border_bottom": null,
       "border_left": null,
       "border_right": null,
       "border_top": null,
       "bottom": null,
       "display": "inline-flex",
       "flex": null,
       "flex_flow": "row wrap",
       "grid_area": null,
       "grid_auto_columns": null,
       "grid_auto_flow": null,
       "grid_auto_rows": null,
       "grid_column": null,
       "grid_gap": null,
       "grid_row": null,
       "grid_template_areas": null,
       "grid_template_columns": null,
       "grid_template_rows": null,
       "height": null,
       "justify_content": null,
       "justify_items": null,
       "left": null,
       "margin": null,
       "max_height": null,
       "max_width": null,
       "min_height": null,
       "min_width": null,
       "object_fit": null,
       "object_position": null,
       "order": null,
       "overflow": null,
       "padding": null,
       "right": null,
       "top": null,
       "visibility": null,
       "width": "100%"
      }
     },
     "f2c20fc5afab4b289f2d1bbe4e89c28a": {
      "model_module": "@jupyter-widgets/base",
      "model_module_version": "2.0.0",
      "model_name": "LayoutModel",
      "state": {
       "_model_module": "@jupyter-widgets/base",
       "_model_module_version": "2.0.0",
       "_model_name": "LayoutModel",
       "_view_count": null,
       "_view_module": "@jupyter-widgets/base",
       "_view_module_version": "2.0.0",
       "_view_name": "LayoutView",
       "align_content": null,
       "align_items": null,
       "align_self": null,
       "border_bottom": null,
       "border_left": null,
       "border_right": null,
       "border_top": null,
       "bottom": null,
       "display": null,
       "flex": null,
       "flex_flow": null,
       "grid_area": null,
       "grid_auto_columns": null,
       "grid_auto_flow": null,
       "grid_auto_rows": null,
       "grid_column": null,
       "grid_gap": null,
       "grid_row": null,
       "grid_template_areas": null,
       "grid_template_columns": null,
       "grid_template_rows": null,
       "height": null,
       "justify_content": null,
       "justify_items": null,
       "left": null,
       "margin": null,
       "max_height": null,
       "max_width": null,
       "min_height": null,
       "min_width": null,
       "object_fit": null,
       "object_position": null,
       "order": null,
       "overflow": null,
       "padding": null,
       "right": null,
       "top": null,
       "visibility": null,
       "width": null
      }
     },
     "f6d54fb4d38b456d911115ce16762bbe": {
      "model_module": "@jupyter-widgets/base",
      "model_module_version": "2.0.0",
      "model_name": "LayoutModel",
      "state": {
       "_model_module": "@jupyter-widgets/base",
       "_model_module_version": "2.0.0",
       "_model_name": "LayoutModel",
       "_view_count": null,
       "_view_module": "@jupyter-widgets/base",
       "_view_module_version": "2.0.0",
       "_view_name": "LayoutView",
       "align_content": null,
       "align_items": null,
       "align_self": null,
       "border_bottom": null,
       "border_left": null,
       "border_right": null,
       "border_top": null,
       "bottom": null,
       "display": null,
       "flex": "2",
       "flex_flow": null,
       "grid_area": null,
       "grid_auto_columns": null,
       "grid_auto_flow": null,
       "grid_auto_rows": null,
       "grid_column": null,
       "grid_gap": null,
       "grid_row": null,
       "grid_template_areas": null,
       "grid_template_columns": null,
       "grid_template_rows": null,
       "height": null,
       "justify_content": null,
       "justify_items": null,
       "left": null,
       "margin": null,
       "max_height": null,
       "max_width": null,
       "min_height": null,
       "min_width": null,
       "object_fit": null,
       "object_position": null,
       "order": null,
       "overflow": null,
       "padding": null,
       "right": null,
       "top": null,
       "visibility": null,
       "width": null
      }
     },
     "f75d360554c94df2a7bc2f56ae4b672e": {
      "model_module": "@jupyter-widgets/base",
      "model_module_version": "2.0.0",
      "model_name": "LayoutModel",
      "state": {
       "_model_module": "@jupyter-widgets/base",
       "_model_module_version": "2.0.0",
       "_model_name": "LayoutModel",
       "_view_count": null,
       "_view_module": "@jupyter-widgets/base",
       "_view_module_version": "2.0.0",
       "_view_name": "LayoutView",
       "align_content": null,
       "align_items": null,
       "align_self": null,
       "border_bottom": null,
       "border_left": null,
       "border_right": null,
       "border_top": null,
       "bottom": null,
       "display": null,
       "flex": "2",
       "flex_flow": null,
       "grid_area": null,
       "grid_auto_columns": null,
       "grid_auto_flow": null,
       "grid_auto_rows": null,
       "grid_column": null,
       "grid_gap": null,
       "grid_row": null,
       "grid_template_areas": null,
       "grid_template_columns": null,
       "grid_template_rows": null,
       "height": null,
       "justify_content": null,
       "justify_items": null,
       "left": null,
       "margin": null,
       "max_height": null,
       "max_width": null,
       "min_height": null,
       "min_width": null,
       "object_fit": null,
       "object_position": null,
       "order": null,
       "overflow": null,
       "padding": null,
       "right": null,
       "top": null,
       "visibility": null,
       "width": null
      }
     },
     "fa050cf0f9564a11b2c3033491f8d1ae": {
      "model_module": "@jupyter-widgets/controls",
      "model_module_version": "2.0.0",
      "model_name": "ProgressStyleModel",
      "state": {
       "_model_module": "@jupyter-widgets/controls",
       "_model_module_version": "2.0.0",
       "_model_name": "ProgressStyleModel",
       "_view_count": null,
       "_view_module": "@jupyter-widgets/base",
       "_view_module_version": "2.0.0",
       "_view_name": "StyleView",
       "bar_color": null,
       "description_width": ""
      }
     },
     "fc0fc11cd9ba488aa29ec0148def39c8": {
      "model_module": "@jupyter-widgets/controls",
      "model_module_version": "2.0.0",
      "model_name": "HTMLModel",
      "state": {
       "_dom_classes": [],
       "_model_module": "@jupyter-widgets/controls",
       "_model_module_version": "2.0.0",
       "_model_name": "HTMLModel",
       "_view_count": null,
       "_view_module": "@jupyter-widgets/controls",
       "_view_module_version": "2.0.0",
       "_view_name": "HTMLView",
       "description": "",
       "description_allow_html": false,
       "layout": "IPY_MODEL_e4453ca71ea44ecb933fb153c76ee023",
       "placeholder": "​",
       "style": "IPY_MODEL_3684613ccdeb40a6a240d3dccd0f7e47",
       "tabbable": null,
       "tooltip": null,
       "value": "Epoch 4999: 100%"
      }
     },
     "ffd9d12831074bb1825124d4da1b73e9": {
      "model_module": "@jupyter-widgets/controls",
      "model_module_version": "2.0.0",
      "model_name": "HBoxModel",
      "state": {
       "_dom_classes": [],
       "_model_module": "@jupyter-widgets/controls",
       "_model_module_version": "2.0.0",
       "_model_name": "HBoxModel",
       "_view_count": null,
       "_view_module": "@jupyter-widgets/controls",
       "_view_module_version": "2.0.0",
       "_view_name": "HBoxView",
       "box_style": "",
       "children": [
        "IPY_MODEL_2a4acf1ca9594210ab0724e5fa3dabc5",
        "IPY_MODEL_8b948c466407416cad1ee2870c10cd0d",
        "IPY_MODEL_a7b4633c9f6b4498a712bda4a133a1c1"
       ],
       "layout": "IPY_MODEL_979a4fa925014fb19fee9c46c351fd4a",
       "tabbable": null,
       "tooltip": null
      }
     }
    },
    "version_major": 2,
    "version_minor": 0
   }
  }
 },
 "nbformat": 4,
 "nbformat_minor": 2
}
