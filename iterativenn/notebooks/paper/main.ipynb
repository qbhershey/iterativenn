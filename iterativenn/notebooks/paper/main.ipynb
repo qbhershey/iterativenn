{
 "cells": [
  {
   "cell_type": "markdown",
   "metadata": {
    "tags": []
   },
   "source": [
    "# Introduction"
   ]
  },
  {
   "cell_type": "markdown",
   "metadata": {},
   "source": [
    "We are going to take baby steps to develop the pieces we need for the iterativeNN idea.  There are two directions I think that are somewhat orthogonal,so I want to be careful to keep the separate, at leas for the moment.\n",
    "\n",
    "1.  The idea of having a NN be a *fixed* iterative map.  This is nice since it brings a lot of theory from dynamical systems.\n",
    "2.  The idea of a *minimal* non-linearity.   This started out at squared such as $(Wx+b)^2 = (Wx+b)\\odot(Wx+b)$, but now is morphing into something that involves cross terms such as $(W_1 x + b_1)\\odot(W_2 x + b_2)$"
   ]
  },
  {
   "cell_type": "markdown",
   "metadata": {},
   "source": [
    "# Chapters\n",
    "\n",
    "1. [Dynamical Systems](dynamical_systems.ipynb)\n",
    "2. [Sparse Implementation](sparse_implementation.ipynb)\n",
    "3. [NN and Dynamical systems](notebooks/paper/neural_networks_as_dynamical_systems.ipynb)\n",
    "   1. CCA initialization\n",
    "4. Datasets\n",
    "   1. OpenAI gym\n",
    "   2. Synoptics data"
   ]
  },
  {
   "cell_type": "markdown",
   "metadata": {},
   "source": []
  }
 ],
 "metadata": {
  "kernelspec": {
   "display_name": "Python 3 (ipykernel)",
   "language": "python",
   "name": "python3"
  },
  "language_info": {
   "codemirror_mode": {
    "name": "ipython",
    "version": 3
   },
   "file_extension": ".py",
   "mimetype": "text/x-python",
   "name": "python",
   "nbconvert_exporter": "python",
   "pygments_lexer": "ipython3",
   "version": "3.9.7"
  }
 },
 "nbformat": 4,
 "nbformat_minor": 4
}
