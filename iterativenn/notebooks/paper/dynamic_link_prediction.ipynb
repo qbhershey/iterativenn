{
 "cells": [
  {
   "attachments": {},
   "cell_type": "markdown",
   "metadata": {},
   "source": [
    "\n",
    "---\n",
    "Towards Better Evaluation for Dynamic Link Prediction\n",
    "\n",
    "https://arxiv.org/pdf/2207.10128.pdf\n",
    "\n",
    "Really nice paper with several datasets!\n",
    "\n",
    "---\n",
    "\n",
    "Papers with code for dynamic link prediction\n",
    "https://paperswithcode.com/task/dynamic-link-prediction\n",
    "\n",
    "---\n",
    " EvolveGCN: Evolving Graph Convolutional Networks for Dynamic Graphs\n",
    "\n",
    "26 Feb 2019  ·  Aldo Pareja, Giacomo Domeniconi, Jie Chen, Tengfei Ma, Toyotaro Suzumura, Hiroki Kanezashi, Tim Kaler, Tao B. Schardl, Charles E. Leiserson ·\n",
    "\n",
    "Graph representation learning resurges as a trending research subject owing to the widespread use of deep learning for Euclidean data, which inspire various creative designs of neural networks in the non-Euclidean domain, particularly graphs. With the success of these graph neural networks (GNN) in the static setting, we approach further practical scenarios where the graph dynamically evolves. Existing approaches typically resort to **node embeddings** and use a recurrent neural network (RNN, broadly speaking) to regulate the embeddings and learn the temporal dynamics. These methods require the knowledge of a node in the full time span (including both training and testing) and are less applicable to the frequent change of the node set. In some extreme scenarios, the node sets at different time steps may completely differ. To resolve this challenge, we propose EvolveGCN, which adapts the graph convolutional network (GCN) model along the temporal dimension without resorting to node embeddings. The proposed approach captures the dynamism of the graph sequence through using an RNN to evolve the GCN parameters. Two architectures are considered for the parameter evolution. We evaluate the proposed approach on tasks including link prediction, edge classification, and node classification. The experimental results indicate a generally higher performance of EvolveGCN compared with related approaches. The code is available at \\url{https://github.com/IBM/EvolveGCN}. "
   ]
  },
  {
   "attachments": {},
   "cell_type": "markdown",
   "metadata": {},
   "source": []
  }
 ],
 "metadata": {
  "language_info": {
   "name": "python"
  },
  "orig_nbformat": 4
 },
 "nbformat": 4,
 "nbformat_minor": 2
}
