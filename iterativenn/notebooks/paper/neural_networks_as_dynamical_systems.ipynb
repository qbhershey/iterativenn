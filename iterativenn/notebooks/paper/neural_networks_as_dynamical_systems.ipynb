{
 "cells": [
  {
   "cell_type": "code",
   "execution_count": 1,
   "metadata": {},
   "outputs": [],
   "source": [
    "# Load libraries\n",
    "import torch\n",
    "import matplotlib.pylab as py"
   ]
  },
  {
   "cell_type": "markdown",
   "id": "2b792173",
   "metadata": {},
   "source": [
    "# Neural networks as dynamical systems"
   ]
  },
  {
   "cell_type": "markdown",
   "id": "700f6de9",
   "metadata": {},
   "source": [
    "Perhaps we have convinced the gentle reader that dynamical systems are interesting objects of study.  However, these ideas can be pushed further.  In particular, in some sense, all multi-layer neural networks can be phrased as dynamical systems.  **NEED TO LOOK FOR CITATIONS HERE**"
   ]
  },
  {
   "cell_type": "markdown",
   "id": "24254633",
   "metadata": {},
   "source": [
    "$$\n",
    "\\sigma(W_{l-1}\\; \\sigma(W_{l-2}\\; \\cdots \\sigma(W_0\\; x  + b_0) \\cdots + b_{l-2}) + b_{l-1})\n",
    "$$\n",
    "\n",
    "\n"
   ]
  },
  {
   "cell_type": "markdown",
   "id": "a7ca2920",
   "metadata": {},
   "source": [
    "$$\n",
    "\\sigma(W_1\\; \\sigma(W_0\\; x  + b_0) + b_1)\n",
    "$$"
   ]
  },
  {
   "cell_type": "markdown",
   "id": "e734fb1a",
   "metadata": {},
   "source": [
    "$$\n",
    "\\begin{bmatrix}\n",
    "\\colorbox{red}{$0$}   & 0   & 0 \\\\\n",
    "\\colorbox{red}{$W_0$} & 0   & 0 \\\\\n",
    "0   & W_1 & 0 \\\\\n",
    "\\end{bmatrix}\n",
    "\\begin{bmatrix}\n",
    "x \\\\\n",
    "h \\\\\n",
    "y \\\\\n",
    "\\end{bmatrix}\n",
    "$$"
   ]
  },
  {
   "cell_type": "markdown",
   "id": "37231d05-ee3b-4c0c-8ed3-36116afe6ffb",
   "metadata": {},
   "source": [
    "$$\n",
    "\\newcommand\\Wr{\\colorbox{red}{$W$}}\n",
    "\\begin{bmatrix}\n",
    "0    & 0    & 0    & 0    & 0    & 0    & 0    & 0    \\\\\n",
    "0    & 0    & 0    & 0    & 0    & 0    & 0    & 0    \\\\\n",
    "0    & 0    & 0    & 0    & 0    & 0    & 0    & 0    \\\\\n",
    "0    & 0    & 0    & 0    & 0    & 0    & 0    & 0    \\\\\n",
    "\\Wr  & W    & W    & W    & 0    & 0    & 0    & 0    \\\\\n",
    "W    & W    & W    & W    & 0    & 0    & 0    & 0    \\\\\n",
    "0    & 0    & 0    & 0    & W    & W    & 0    & 0    \\\\\n",
    "0    & 0    & 0    & 0    & 0    & 0    & W    & 0    \\\\\n",
    "\\end{bmatrix}\n",
    "$$"
   ]
  },
  {
   "cell_type": "markdown",
   "id": "a55cdc27",
   "metadata": {},
   "source": [
    "$$\n",
    "\\newcommand\\Wr{\\colorbox{red}{$W$}}\n",
    "\\begin{bmatrix}\n",
    "0    & 0    & 0    & 0    & 0    & 0    & 0    & 0    \\\\\n",
    "0    & 0    & 0    & 0    & 0    & 0    & 0    & 0    \\\\\n",
    "0    & 0    & 0    & 0    & 0    & 0    & 0    & 0    \\\\\n",
    "0    & 0    & 0    & 0    & 0    & 0    & 0    & 0    \\\\\n",
    "\\Wr    & W    & W    & W    & 0    & 0    & 0    & 0    \\\\\n",
    "0    & 0    & 0    & 0    & W    & 0    & 0    & 0    \\\\\n",
    "0    & 0    & 0    & 0    & W    & 0    & 0    & 0    \\\\\n",
    "0    & 0    & 0    & 0    & 0    & W    & W    & 0    \\\\\n",
    "\\end{bmatrix}\n",
    "$$"
   ]
  },
  {
   "cell_type": "markdown",
   "id": "1affdcf3-ee4f-44d0-a0b8-a2356a1a3021",
   "metadata": {},
   "source": [
    "# Implementation"
   ]
  }
 ],
 "metadata": {
  "interpreter": {
   "hash": "d4d1e4263499bec80672ea0156c357c1ee493ec2b1c70f0acce89fc37c4a6abe"
  },
  "kernelspec": {
   "display_name": "Python 3.9.7 ('base')",
   "language": "python",
   "name": "python3"
  },
  "language_info": {
   "codemirror_mode": {
    "name": "ipython",
    "version": 3
   },
   "file_extension": ".py",
   "mimetype": "text/x-python",
   "name": "python",
   "nbconvert_exporter": "python",
   "pygments_lexer": "ipython3",
   "version": "3.9.7"
  },
  "orig_nbformat": 4
 },
 "nbformat": 4,
 "nbformat_minor": 2
}
