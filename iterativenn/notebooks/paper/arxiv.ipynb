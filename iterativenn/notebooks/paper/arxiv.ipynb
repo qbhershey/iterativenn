{
  "cells": [
    {
      "cell_type": "code",
      "execution_count": 1,
      "metadata": {
        "id": "ij8suhPR3jTk"
      },
      "outputs": [],
      "source": [
        "import pandas as pd \n",
        "import wandb\n",
        "\n",
        "api = wandb.Api()\n",
        "entity, project = \"rcpaffenroth-wpi\", \"arxiv-100-epoch-5-17-2023\"  \n",
        "runs = api.runs(entity + \"/\" + project) \n",
        "\n",
        "summary_list, config_list, name_list = [], [], []\n",
        "for run in runs: \n",
        "    # .summary contains output keys/values for \n",
        "    # metrics such as accuracy.\n",
        "    #  We call ._json_dict to omit large files \n",
        "    summary_list.append(run.summary._json_dict)\n",
        "\n",
        "    # .config contains the hyperparameters.\n",
        "    #  We remove special values that start with _.\n",
        "    config_list.append(\n",
        "        {k: v for k,v in run.config.items()\n",
        "         if not k.startswith('_')})\n",
        "\n",
        "    # .name is the human-readable name of the run.\n",
        "    name_list.append(run.name)\n",
        "\n",
        "runs_df = pd.DataFrame({\n",
        "    \"summary\": summary_list,\n",
        "    \"config\": config_list,\n",
        "    \"name\": name_list\n",
        "    })\n",
        "\n",
        "runs_df.to_csv(\"project.csv\")"
      ]
    },
    {
      "cell_type": "code",
      "execution_count": 2,
      "metadata": {
        "colab": {
          "base_uri": "https://localhost:8080/",
          "height": 424
        },
        "id": "vp59otUg4XtV",
        "outputId": "8b16ac05-2459-4230-b6c8-6a3c746dd196"
      },
      "outputs": [
        {
          "data": {
            "text/html": [
              "<div>\n",
              "<style scoped>\n",
              "    .dataframe tbody tr th:only-of-type {\n",
              "        vertical-align: middle;\n",
              "    }\n",
              "\n",
              "    .dataframe tbody tr th {\n",
              "        vertical-align: top;\n",
              "    }\n",
              "\n",
              "    .dataframe thead th {\n",
              "        text-align: right;\n",
              "    }\n",
              "</style>\n",
              "<table border=\"1\" class=\"dataframe\">\n",
              "  <thead>\n",
              "    <tr style=\"text-align: right;\">\n",
              "      <th></th>\n",
              "      <th>summary</th>\n",
              "      <th>config</th>\n",
              "      <th>name</th>\n",
              "    </tr>\n",
              "  </thead>\n",
              "  <tbody>\n",
              "    <tr>\n",
              "      <th>0</th>\n",
              "      <td>{'test_loss': 2.3138601779937744, 'gradients/m...</td>\n",
              "      <td>{'device': None, 'available': False, 'base/see...</td>\n",
              "      <td>sequential2D_MLP_both_random_end_5</td>\n",
              "    </tr>\n",
              "    <tr>\n",
              "      <th>1</th>\n",
              "      <td>{'gradients/graph_3model.0.blocks.(0, 0).U': {...</td>\n",
              "      <td>{'device': None, 'available': False, 'base/see...</td>\n",
              "      <td>sequential2D_sparse_both_random_end_5</td>\n",
              "    </tr>\n",
              "    <tr>\n",
              "      <th>2</th>\n",
              "      <td>{'gradients/model.0.blocks.(1, 2).U': {'values...</td>\n",
              "      <td>{'device': None, 'available': False, 'base/see...</td>\n",
              "      <td>sequential2D_dense_both_random_end_5</td>\n",
              "    </tr>\n",
              "    <tr>\n",
              "      <th>3</th>\n",
              "      <td>{'_timestamp': 1684348129.4746518, 'IterateMod...</td>\n",
              "      <td>{'device': None, 'available': False, 'base/see...</td>\n",
              "      <td>RNN_both_random_end_5</td>\n",
              "    </tr>\n",
              "    <tr>\n",
              "      <th>4</th>\n",
              "      <td>{'_timestamp': 1684347653.109826, 'trainer/glo...</td>\n",
              "      <td>{'device': None, 'available': False, 'base/see...</td>\n",
              "      <td>sequential2D_MLP_both_uniform_end_5</td>\n",
              "    </tr>\n",
              "    <tr>\n",
              "      <th>...</th>\n",
              "      <td>...</td>\n",
              "      <td>...</td>\n",
              "      <td>...</td>\n",
              "    </tr>\n",
              "    <tr>\n",
              "      <th>115</th>\n",
              "      <td>{'test_loss': 2.0744194984436035, '_wandb': {'...</td>\n",
              "      <td>{'device': None, 'available': False, 'base/see...</td>\n",
              "      <td>RNN_both_uniform_1</td>\n",
              "    </tr>\n",
              "    <tr>\n",
              "      <th>116</th>\n",
              "      <td>{'_timestamp': 1684343436.3532507, 'IterateMod...</td>\n",
              "      <td>{'device': None, 'available': False, 'base/see...</td>\n",
              "      <td>sequential2D_MLP_both_uniform_1</td>\n",
              "    </tr>\n",
              "    <tr>\n",
              "      <th>117</th>\n",
              "      <td>{'IterateModel_validation_epoch_average_loss':...</td>\n",
              "      <td>{'device': None, 'available': False, 'base/see...</td>\n",
              "      <td>RNN_medium_1</td>\n",
              "    </tr>\n",
              "    <tr>\n",
              "      <th>118</th>\n",
              "      <td>{'gradients/model.0.blocks.(0, 2).U': {'_type'...</td>\n",
              "      <td>{'device': None, 'available': False, 'base/see...</td>\n",
              "      <td>sequential2D_dense_both_uniform_1</td>\n",
              "    </tr>\n",
              "    <tr>\n",
              "      <th>119</th>\n",
              "      <td>{'validation_loss': 3.8713512420654297, 'gradi...</td>\n",
              "      <td>{'device': None, 'available': False, 'base/see...</td>\n",
              "      <td>sequential2D_dense_medium_1</td>\n",
              "    </tr>\n",
              "  </tbody>\n",
              "</table>\n",
              "<p>120 rows × 3 columns</p>\n",
              "</div>"
            ],
            "text/plain": [
              "                                               summary   \n",
              "0    {'test_loss': 2.3138601779937744, 'gradients/m...  \\\n",
              "1    {'gradients/graph_3model.0.blocks.(0, 0).U': {...   \n",
              "2    {'gradients/model.0.blocks.(1, 2).U': {'values...   \n",
              "3    {'_timestamp': 1684348129.4746518, 'IterateMod...   \n",
              "4    {'_timestamp': 1684347653.109826, 'trainer/glo...   \n",
              "..                                                 ...   \n",
              "115  {'test_loss': 2.0744194984436035, '_wandb': {'...   \n",
              "116  {'_timestamp': 1684343436.3532507, 'IterateMod...   \n",
              "117  {'IterateModel_validation_epoch_average_loss':...   \n",
              "118  {'gradients/model.0.blocks.(0, 2).U': {'_type'...   \n",
              "119  {'validation_loss': 3.8713512420654297, 'gradi...   \n",
              "\n",
              "                                                config   \n",
              "0    {'device': None, 'available': False, 'base/see...  \\\n",
              "1    {'device': None, 'available': False, 'base/see...   \n",
              "2    {'device': None, 'available': False, 'base/see...   \n",
              "3    {'device': None, 'available': False, 'base/see...   \n",
              "4    {'device': None, 'available': False, 'base/see...   \n",
              "..                                                 ...   \n",
              "115  {'device': None, 'available': False, 'base/see...   \n",
              "116  {'device': None, 'available': False, 'base/see...   \n",
              "117  {'device': None, 'available': False, 'base/see...   \n",
              "118  {'device': None, 'available': False, 'base/see...   \n",
              "119  {'device': None, 'available': False, 'base/see...   \n",
              "\n",
              "                                      name  \n",
              "0       sequential2D_MLP_both_random_end_5  \n",
              "1    sequential2D_sparse_both_random_end_5  \n",
              "2     sequential2D_dense_both_random_end_5  \n",
              "3                    RNN_both_random_end_5  \n",
              "4      sequential2D_MLP_both_uniform_end_5  \n",
              "..                                     ...  \n",
              "115                     RNN_both_uniform_1  \n",
              "116        sequential2D_MLP_both_uniform_1  \n",
              "117                           RNN_medium_1  \n",
              "118      sequential2D_dense_both_uniform_1  \n",
              "119            sequential2D_dense_medium_1  \n",
              "\n",
              "[120 rows x 3 columns]"
            ]
          },
          "execution_count": 2,
          "metadata": {},
          "output_type": "execute_result"
        }
      ],
      "source": [
        "runs_df"
      ]
    },
    {
      "cell_type": "code",
      "execution_count": 3,
      "metadata": {
        "colab": {
          "base_uri": "https://localhost:8080/",
          "height": 448
        },
        "id": "TI8eEwBc9XhS",
        "outputId": "7392b01d-afa8-4c14-9a18-8bba4e749b96"
      },
      "outputs": [
        {
          "data": {
            "text/plain": [
              "<Axes: >"
            ]
          },
          "execution_count": 3,
          "metadata": {},
          "output_type": "execute_result"
        },
        {
          "data": {
            "image/png": "[encoded data removed]",
            "text/plain": [
              "<Figure size 640x480 with 1 Axes>"
            ]
          },
          "metadata": {},
          "output_type": "display_data"
        }
      ],
      "source": [
        "run.history()['validation_loss'].plot()"
      ]
    },
    {
      "cell_type": "code",
      "execution_count": 4,
      "metadata": {
        "colab": {
          "base_uri": "https://localhost:8080/",
          "height": 35
        },
        "id": "rRHjZ9Nv-hTJ",
        "outputId": "7234912c-b22e-4472-f6ad-c7800a80fbcb"
      },
      "outputs": [
        {
          "data": {
            "text/plain": [
              "'all'"
            ]
          },
          "execution_count": 4,
          "metadata": {},
          "output_type": "execute_result"
        }
      ],
      "source": [
        "run.config['data/evaluate_loss']"
      ]
    },
    {
      "cell_type": "code",
      "execution_count": 5,
      "metadata": {
        "colab": {
          "base_uri": "https://localhost:8080/",
          "height": 35
        },
        "id": "hpqRq685AZQA",
        "outputId": "021f16d5-cb24-4284-af12-8319dcbe6a3e"
      },
      "outputs": [
        {
          "data": {
            "text/plain": [
              "'medium'"
            ]
          },
          "execution_count": 5,
          "metadata": {},
          "output_type": "execute_result"
        }
      ],
      "source": [
        "run.config['data/name']"
      ]
    },
    {
      "cell_type": "code",
      "execution_count": 6,
      "metadata": {
        "colab": {
          "base_uri": "https://localhost:8080/",
          "height": 35
        },
        "id": "uCe4nDw8AsOL",
        "outputId": "95e53e2e-be40-4a7f-8d0e-970292dda5ec"
      },
      "outputs": [
        {
          "data": {
            "text/plain": [
              "'sequential2D_dense'"
            ]
          },
          "execution_count": 6,
          "metadata": {},
          "output_type": "execute_result"
        }
      ],
      "source": [
        "run.config['model/name']"
      ]
    },
    {
      "cell_type": "code",
      "execution_count": 13,
      "metadata": {
        "id": "vgWTJNWzGr7T"
      },
      "outputs": [],
      "source": [
        "import numpy as np\n",
        "import matplotlib.pylab as py"
      ]
    },
    {
      "cell_type": "code",
      "execution_count": 14,
      "metadata": {
        "id": "uByp1HRWAuOo"
      },
      "outputs": [],
      "source": [
        "runs=wandb.Api().runs(path=\"rcpaffenroth-wpi/arxiv-100-epoch-5-17-2023\", filters={\"config.data/evaluate_loss\": \"all\", \"config.data/name\":\"medium\", \"config.model/name\":\"sequential2D_sparse\"})"
      ]
    },
    {
      "cell_type": "code",
      "execution_count": 16,
      "metadata": {
        "colab": {
          "base_uri": "https://localhost:8080/",
          "height": 609
        },
        "id": "7DwtsTkHEEPV",
        "outputId": "35e76f90-e29d-4e72-ba40-2a56c897fd86"
      },
      "outputs": [
        {
          "name": "stdout",
          "output_type": "stream",
          "text": [
            "(302,)\n",
            "202\n",
            "(302,)\n",
            "202\n",
            "(302,)\n",
            "202\n",
            "(302,)\n",
            "202\n",
            "(302,)\n",
            "202\n"
          ]
        },
        {
          "data": {
            "image/png": "[encoded data removed]",
            "text/plain": [
              "<Figure size 640x480 with 1 Axes>"
            ]
          },
          "metadata": {},
          "output_type": "display_data"
        }
      ],
      "source": [
        "for run in runs:\n",
        "  data = np.array(run.history()['validation_loss'])\n",
        "  print(data.shape)\n",
        "  print(np.count_nonzero(np.isnan(data)))\n",
        "  py.plot(data[np.logical_not(np.isnan(data))])\n",
        "  #py.plot(np.ma.masked_invalid(data))\n",
        "  "
      ]
    },
    {
      "cell_type": "code",
      "execution_count": 17,
      "metadata": {
        "colab": {
          "base_uri": "https://localhost:8080/"
        },
        "id": "-YSB29OCErDb",
        "outputId": "de57b250-2ac3-4905-a593-b24405494782"
      },
      "outputs": [
        {
          "data": {
            "text/plain": [
              "masked_array(data=[--, --, 2.0905256271362305, --, --, 1.9814822673797607,\n",
              "                   --, --, 1.9429466724395752, --, --, 1.925399661064148,\n",
              "                   --, --, 1.9187616109848022, --, --, 1.9138548374176025,\n",
              "                   --, --, 1.911637306213379, --, --, 1.9094706773757935,\n",
              "                   --, --, 1.9084161520004272, --, --, 1.907914400100708,\n",
              "                   --, --, 1.9073708057403564, --, --, 1.9089038372039795,\n",
              "                   --, --, 1.910353422164917, --, --, 1.911763310432434,\n",
              "                   --, --, 1.913822054862976, --, --, 1.9149563312530518,\n",
              "                   --, --, 1.917311191558838, --, --, 1.9195905923843384,\n",
              "                   --, --, 1.9207948446273804, --, --, 1.9231265783309937,\n",
              "                   --, --, 1.9268749952316284, --, --, 1.926787257194519,\n",
              "                   --, --, 1.9288386106491089, --, --, 1.9324733018875122,\n",
              "                   --, --, 1.932426929473877, --, --, 1.9338934421539307,\n",
              "                   --, --, 1.9369800090789795, --, --, 1.9371843338012695,\n",
              "                   --, --, 1.9371163845062256, --, --, 1.94138765335083,\n",
              "                   --, --, 1.9378509521484375, --, --, 1.9416322708129883,\n",
              "                   --, --, 1.943934679031372, --, --, 1.945314884185791,\n",
              "                   --, --, 1.9479295015335083, --, --, 1.9475151300430298,\n",
              "                   --, --, 1.9505326747894287, --, --, 1.9511287212371826,\n",
              "                   --, --, 1.9554721117019653, --, --, 1.9497005939483643,\n",
              "                   --, --, 1.9529799222946167, --, --, 1.9561082124710083,\n",
              "                   --, --, 1.9539920091629028, --, --, 1.9641269445419312,\n",
              "                   --, --, 1.9601722955703735, --, --, 1.957464337348938,\n",
              "                   --, --, 1.9603239297866821, --, --, 1.9652154445648193,\n",
              "                   --, --, 1.9661046266555786, --, --, 1.9675372838974,\n",
              "                   --, --, 1.958594799041748, --, --, 1.9612431526184082,\n",
              "                   --, --, 1.9669032096862793, --, --, 1.9674283266067505,\n",
              "                   --, --, 1.9655267000198364, --, --, 1.9655553102493286,\n",
              "                   --, --, 1.9644346237182617, --, --, 1.9708999395370483,\n",
              "                   --, --, 1.972396969795227, --, --, 1.9680399894714355,\n",
              "                   --, --, 1.9759459495544434, --, --, 1.971563458442688,\n",
              "                   --, --, 1.980950117111206, --, --, 1.9751694202423096,\n",
              "                   --, --, 1.975093960762024, --, --, 1.972886323928833,\n",
              "                   --, --, 1.9738566875457764, --, --, 1.9741358757019043,\n",
              "                   --, --, 1.9723492860794067, --, --, 1.9776347875595093,\n",
              "                   --, --, 1.973897099494934, --, --, 1.9776394367218018,\n",
              "                   --, --, 1.9766541719436646, --, --, 1.9768133163452148,\n",
              "                   --, --, 1.9712893962860107, --, --, 1.9801288843154907,\n",
              "                   --, --, 1.9777287244796753, --, --, 1.9800066947937012,\n",
              "                   --, --, 1.9781105518341064, --, --, 1.9871439933776855,\n",
              "                   --, --, 1.9703118801116943, --, --, 1.9743026494979858,\n",
              "                   --, --, 1.982365369796753, --, --, 1.9802647829055786,\n",
              "                   --, --, 1.9789141416549683, --, --, 1.9772170782089233,\n",
              "                   --, --, 1.9848980903625488, --, --, 1.980220079421997,\n",
              "                   --, --, 1.9789234399795532, --, --, 1.989457368850708,\n",
              "                   --, --, 1.9730324745178223, --, --, 1.9772710800170898,\n",
              "                   --, --, 1.9857884645462036, --, --, 1.9784268140792847,\n",
              "                   --, --, 1.9879971742630005, --, --, 1.9823499917984009,\n",
              "                   --, --, 1.9846888780593872, --, --, 1.9838240146636963,\n",
              "                   --, --, 1.9767416715621948, --, --, 1.9868521690368652,\n",
              "                   --, --],\n",
              "             mask=[ True,  True, False,  True,  True, False,  True,  True,\n",
              "                   False,  True,  True, False,  True,  True, False,  True,\n",
              "                    True, False,  True,  True, False,  True,  True, False,\n",
              "                    True,  True, False,  True,  True, False,  True,  True,\n",
              "                   False,  True,  True, False,  True,  True, False,  True,\n",
              "                    True, False,  True,  True, False,  True,  True, False,\n",
              "                    True,  True, False,  True,  True, False,  True,  True,\n",
              "                   False,  True,  True, False,  True,  True, False,  True,\n",
              "                    True, False,  True,  True, False,  True,  True, False,\n",
              "                    True,  True, False,  True,  True, False,  True,  True,\n",
              "                   False,  True,  True, False,  True,  True, False,  True,\n",
              "                    True, False,  True,  True, False,  True,  True, False,\n",
              "                    True,  True, False,  True,  True, False,  True,  True,\n",
              "                   False,  True,  True, False,  True,  True, False,  True,\n",
              "                    True, False,  True,  True, False,  True,  True, False,\n",
              "                    True,  True, False,  True,  True, False,  True,  True,\n",
              "                   False,  True,  True, False,  True,  True, False,  True,\n",
              "                    True, False,  True,  True, False,  True,  True, False,\n",
              "                    True,  True, False,  True,  True, False,  True,  True,\n",
              "                   False,  True,  True, False,  True,  True, False,  True,\n",
              "                    True, False,  True,  True, False,  True,  True, False,\n",
              "                    True,  True, False,  True,  True, False,  True,  True,\n",
              "                   False,  True,  True, False,  True,  True, False,  True,\n",
              "                    True, False,  True,  True, False,  True,  True, False,\n",
              "                    True,  True, False,  True,  True, False,  True,  True,\n",
              "                   False,  True,  True, False,  True,  True, False,  True,\n",
              "                    True, False,  True,  True, False,  True,  True, False,\n",
              "                    True,  True, False,  True,  True, False,  True,  True,\n",
              "                   False,  True,  True, False,  True,  True, False,  True,\n",
              "                    True, False,  True,  True, False,  True,  True, False,\n",
              "                    True,  True, False,  True,  True, False,  True,  True,\n",
              "                   False,  True,  True, False,  True,  True, False,  True,\n",
              "                    True, False,  True,  True, False,  True,  True, False,\n",
              "                    True,  True, False,  True,  True, False,  True,  True,\n",
              "                   False,  True,  True, False,  True,  True, False,  True,\n",
              "                    True, False,  True,  True, False,  True,  True, False,\n",
              "                    True,  True, False,  True,  True, False,  True,  True,\n",
              "                   False,  True,  True, False,  True,  True],\n",
              "       fill_value=1e+20)"
            ]
          },
          "execution_count": 17,
          "metadata": {},
          "output_type": "execute_result"
        }
      ],
      "source": [
        "np.ma.masked_invalid(data)\n"
      ]
    },
    {
      "cell_type": "code",
      "execution_count": null,
      "metadata": {
        "id": "nJXNDhGiHYMq"
      },
      "outputs": [],
      "source": []
    },
    {
      "cell_type": "code",
      "execution_count": null,
      "metadata": {},
      "outputs": [],
      "source": []
    }
  ],
  "metadata": {
    "colab": {
      "provenance": []
    },
    "kernelspec": {
      "display_name": "Python 3",
      "name": "python3"
    },
    "language_info": {
      "codemirror_mode": {
        "name": "ipython",
        "version": 3
      },
      "file_extension": ".py",
      "mimetype": "text/x-python",
      "name": "python",
      "nbconvert_exporter": "python",
      "pygments_lexer": "ipython3",
      "version": "3.9.16"
    }
  },
  "nbformat": 4,
  "nbformat_minor": 0
}
